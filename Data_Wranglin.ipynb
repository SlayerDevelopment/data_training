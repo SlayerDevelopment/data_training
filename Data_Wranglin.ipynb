{
 "cells": [
  {
   "cell_type": "markdown",
   "id": "8420d112",
   "metadata": {},
   "source": [
    "# Zomato Bangalore Restaurant"
   ]
  },
  {
   "cell_type": "markdown",
   "id": "44ba37bb",
   "metadata": {},
   "source": [
    "## Imports"
   ]
  },
  {
   "cell_type": "code",
   "execution_count": 1,
   "id": "70a2f76f-0f20-4ca8-9777-edf09f0de323",
   "metadata": {},
   "outputs": [],
   "source": [
    "import pandas as pd\n",
    "import numpy as np\n",
    "import ast"
   ]
  },
  {
   "cell_type": "markdown",
   "id": "87bd903d",
   "metadata": {},
   "source": [
    "## Data Cleaning Part 1"
   ]
  },
  {
   "cell_type": "code",
   "execution_count": 2,
   "id": "7b52365a",
   "metadata": {},
   "outputs": [],
   "source": [
    "df = pd.read_csv(\"data/zomato.csv\")"
   ]
  },
  {
   "cell_type": "code",
   "execution_count": 3,
   "id": "c9749e16",
   "metadata": {},
   "outputs": [
    {
     "data": {
      "text/html": [
       "<div>\n",
       "<style scoped>\n",
       "    .dataframe tbody tr th:only-of-type {\n",
       "        vertical-align: middle;\n",
       "    }\n",
       "\n",
       "    .dataframe tbody tr th {\n",
       "        vertical-align: top;\n",
       "    }\n",
       "\n",
       "    .dataframe thead th {\n",
       "        text-align: right;\n",
       "    }\n",
       "</style>\n",
       "<table border=\"1\" class=\"dataframe\">\n",
       "  <thead>\n",
       "    <tr style=\"text-align: right;\">\n",
       "      <th></th>\n",
       "      <th>url</th>\n",
       "      <th>address</th>\n",
       "      <th>name</th>\n",
       "      <th>online_order</th>\n",
       "      <th>book_table</th>\n",
       "      <th>rate</th>\n",
       "      <th>votes</th>\n",
       "      <th>phone</th>\n",
       "      <th>location</th>\n",
       "      <th>rest_type</th>\n",
       "      <th>dish_liked</th>\n",
       "      <th>cuisines</th>\n",
       "      <th>approx_cost(for two people)</th>\n",
       "      <th>reviews_list</th>\n",
       "      <th>menu_item</th>\n",
       "      <th>listed_in(type)</th>\n",
       "      <th>listed_in(city)</th>\n",
       "    </tr>\n",
       "  </thead>\n",
       "  <tbody>\n",
       "    <tr>\n",
       "      <th>0</th>\n",
       "      <td>https://www.zomato.com/bangalore/jalsa-banasha...</td>\n",
       "      <td>942, 21st Main Road, 2nd Stage, Banashankari, ...</td>\n",
       "      <td>Jalsa</td>\n",
       "      <td>Yes</td>\n",
       "      <td>Yes</td>\n",
       "      <td>4.1/5</td>\n",
       "      <td>775</td>\n",
       "      <td>080 42297555\\r\\n+91 9743772233</td>\n",
       "      <td>Banashankari</td>\n",
       "      <td>Casual Dining</td>\n",
       "      <td>Pasta, Lunch Buffet, Masala Papad, Paneer Laja...</td>\n",
       "      <td>North Indian, Mughlai, Chinese</td>\n",
       "      <td>800</td>\n",
       "      <td>[('Rated 4.0', 'RATED\\n  A beautiful place to ...</td>\n",
       "      <td>[]</td>\n",
       "      <td>Buffet</td>\n",
       "      <td>Banashankari</td>\n",
       "    </tr>\n",
       "    <tr>\n",
       "      <th>1</th>\n",
       "      <td>https://www.zomato.com/bangalore/spice-elephan...</td>\n",
       "      <td>2nd Floor, 80 Feet Road, Near Big Bazaar, 6th ...</td>\n",
       "      <td>Spice Elephant</td>\n",
       "      <td>Yes</td>\n",
       "      <td>No</td>\n",
       "      <td>4.1/5</td>\n",
       "      <td>787</td>\n",
       "      <td>080 41714161</td>\n",
       "      <td>Banashankari</td>\n",
       "      <td>Casual Dining</td>\n",
       "      <td>Momos, Lunch Buffet, Chocolate Nirvana, Thai G...</td>\n",
       "      <td>Chinese, North Indian, Thai</td>\n",
       "      <td>800</td>\n",
       "      <td>[('Rated 4.0', 'RATED\\n  Had been here for din...</td>\n",
       "      <td>[]</td>\n",
       "      <td>Buffet</td>\n",
       "      <td>Banashankari</td>\n",
       "    </tr>\n",
       "    <tr>\n",
       "      <th>2</th>\n",
       "      <td>https://www.zomato.com/SanchurroBangalore?cont...</td>\n",
       "      <td>1112, Next to KIMS Medical College, 17th Cross...</td>\n",
       "      <td>San Churro Cafe</td>\n",
       "      <td>Yes</td>\n",
       "      <td>No</td>\n",
       "      <td>3.8/5</td>\n",
       "      <td>918</td>\n",
       "      <td>+91 9663487993</td>\n",
       "      <td>Banashankari</td>\n",
       "      <td>Cafe, Casual Dining</td>\n",
       "      <td>Churros, Cannelloni, Minestrone Soup, Hot Choc...</td>\n",
       "      <td>Cafe, Mexican, Italian</td>\n",
       "      <td>800</td>\n",
       "      <td>[('Rated 3.0', \"RATED\\n  Ambience is not that ...</td>\n",
       "      <td>[]</td>\n",
       "      <td>Buffet</td>\n",
       "      <td>Banashankari</td>\n",
       "    </tr>\n",
       "    <tr>\n",
       "      <th>3</th>\n",
       "      <td>https://www.zomato.com/bangalore/addhuri-udupi...</td>\n",
       "      <td>1st Floor, Annakuteera, 3rd Stage, Banashankar...</td>\n",
       "      <td>Addhuri Udupi Bhojana</td>\n",
       "      <td>No</td>\n",
       "      <td>No</td>\n",
       "      <td>3.7/5</td>\n",
       "      <td>88</td>\n",
       "      <td>+91 9620009302</td>\n",
       "      <td>Banashankari</td>\n",
       "      <td>Quick Bites</td>\n",
       "      <td>Masala Dosa</td>\n",
       "      <td>South Indian, North Indian</td>\n",
       "      <td>300</td>\n",
       "      <td>[('Rated 4.0', \"RATED\\n  Great food and proper...</td>\n",
       "      <td>[]</td>\n",
       "      <td>Buffet</td>\n",
       "      <td>Banashankari</td>\n",
       "    </tr>\n",
       "    <tr>\n",
       "      <th>4</th>\n",
       "      <td>https://www.zomato.com/bangalore/grand-village...</td>\n",
       "      <td>10, 3rd Floor, Lakshmi Associates, Gandhi Baza...</td>\n",
       "      <td>Grand Village</td>\n",
       "      <td>No</td>\n",
       "      <td>No</td>\n",
       "      <td>3.8/5</td>\n",
       "      <td>166</td>\n",
       "      <td>+91 8026612447\\r\\n+91 9901210005</td>\n",
       "      <td>Basavanagudi</td>\n",
       "      <td>Casual Dining</td>\n",
       "      <td>Panipuri, Gol Gappe</td>\n",
       "      <td>North Indian, Rajasthani</td>\n",
       "      <td>600</td>\n",
       "      <td>[('Rated 4.0', 'RATED\\n  Very good restaurant ...</td>\n",
       "      <td>[]</td>\n",
       "      <td>Buffet</td>\n",
       "      <td>Banashankari</td>\n",
       "    </tr>\n",
       "  </tbody>\n",
       "</table>\n",
       "</div>"
      ],
      "text/plain": [
       "                                                 url  \\\n",
       "0  https://www.zomato.com/bangalore/jalsa-banasha...   \n",
       "1  https://www.zomato.com/bangalore/spice-elephan...   \n",
       "2  https://www.zomato.com/SanchurroBangalore?cont...   \n",
       "3  https://www.zomato.com/bangalore/addhuri-udupi...   \n",
       "4  https://www.zomato.com/bangalore/grand-village...   \n",
       "\n",
       "                                             address                   name  \\\n",
       "0  942, 21st Main Road, 2nd Stage, Banashankari, ...                  Jalsa   \n",
       "1  2nd Floor, 80 Feet Road, Near Big Bazaar, 6th ...         Spice Elephant   \n",
       "2  1112, Next to KIMS Medical College, 17th Cross...        San Churro Cafe   \n",
       "3  1st Floor, Annakuteera, 3rd Stage, Banashankar...  Addhuri Udupi Bhojana   \n",
       "4  10, 3rd Floor, Lakshmi Associates, Gandhi Baza...          Grand Village   \n",
       "\n",
       "  online_order book_table   rate  votes                             phone  \\\n",
       "0          Yes        Yes  4.1/5    775    080 42297555\\r\\n+91 9743772233   \n",
       "1          Yes         No  4.1/5    787                      080 41714161   \n",
       "2          Yes         No  3.8/5    918                    +91 9663487993   \n",
       "3           No         No  3.7/5     88                    +91 9620009302   \n",
       "4           No         No  3.8/5    166  +91 8026612447\\r\\n+91 9901210005   \n",
       "\n",
       "       location            rest_type  \\\n",
       "0  Banashankari        Casual Dining   \n",
       "1  Banashankari        Casual Dining   \n",
       "2  Banashankari  Cafe, Casual Dining   \n",
       "3  Banashankari          Quick Bites   \n",
       "4  Basavanagudi        Casual Dining   \n",
       "\n",
       "                                          dish_liked  \\\n",
       "0  Pasta, Lunch Buffet, Masala Papad, Paneer Laja...   \n",
       "1  Momos, Lunch Buffet, Chocolate Nirvana, Thai G...   \n",
       "2  Churros, Cannelloni, Minestrone Soup, Hot Choc...   \n",
       "3                                        Masala Dosa   \n",
       "4                                Panipuri, Gol Gappe   \n",
       "\n",
       "                         cuisines approx_cost(for two people)  \\\n",
       "0  North Indian, Mughlai, Chinese                         800   \n",
       "1     Chinese, North Indian, Thai                         800   \n",
       "2          Cafe, Mexican, Italian                         800   \n",
       "3      South Indian, North Indian                         300   \n",
       "4        North Indian, Rajasthani                         600   \n",
       "\n",
       "                                        reviews_list menu_item  \\\n",
       "0  [('Rated 4.0', 'RATED\\n  A beautiful place to ...        []   \n",
       "1  [('Rated 4.0', 'RATED\\n  Had been here for din...        []   \n",
       "2  [('Rated 3.0', \"RATED\\n  Ambience is not that ...        []   \n",
       "3  [('Rated 4.0', \"RATED\\n  Great food and proper...        []   \n",
       "4  [('Rated 4.0', 'RATED\\n  Very good restaurant ...        []   \n",
       "\n",
       "  listed_in(type) listed_in(city)  \n",
       "0          Buffet    Banashankari  \n",
       "1          Buffet    Banashankari  \n",
       "2          Buffet    Banashankari  \n",
       "3          Buffet    Banashankari  \n",
       "4          Buffet    Banashankari  "
      ]
     },
     "execution_count": 3,
     "metadata": {},
     "output_type": "execute_result"
    }
   ],
   "source": [
    "df.head()"
   ]
  },
  {
   "cell_type": "code",
   "execution_count": 4,
   "id": "191df02d",
   "metadata": {},
   "outputs": [
    {
     "data": {
      "text/plain": [
       "(51717, 17)"
      ]
     },
     "execution_count": 4,
     "metadata": {},
     "output_type": "execute_result"
    }
   ],
   "source": [
    "df.shape"
   ]
  },
  {
   "cell_type": "code",
   "execution_count": 5,
   "id": "d4255233",
   "metadata": {},
   "outputs": [
    {
     "name": "stdout",
     "output_type": "stream",
     "text": [
      "url\n",
      "address\n",
      "name\n",
      "online_order\n",
      "book_table\n",
      "rate\n",
      "votes\n",
      "phone\n",
      "location\n",
      "rest_type\n",
      "dish_liked\n",
      "cuisines\n",
      "approx_cost(for two people)\n",
      "reviews_list\n",
      "menu_item\n",
      "listed_in(type)\n",
      "listed_in(city)\n"
     ]
    }
   ],
   "source": [
    "for c in df.columns:\n",
    "    print(c)"
   ]
  },
  {
   "cell_type": "markdown",
   "id": "e5e3ce37",
   "metadata": {},
   "source": [
    "### COLUMN URL"
   ]
  },
  {
   "cell_type": "code",
   "execution_count": 6,
   "id": "563b8755",
   "metadata": {},
   "outputs": [
    {
     "data": {
      "text/plain": [
       "np.int64(0)"
      ]
     },
     "execution_count": 6,
     "metadata": {},
     "output_type": "execute_result"
    }
   ],
   "source": [
    "df[\"url\"].isnull().sum()"
   ]
  },
  {
   "cell_type": "markdown",
   "id": "ab690ceb",
   "metadata": {},
   "source": [
    "### COLUMN ADDRESS"
   ]
  },
  {
   "cell_type": "code",
   "execution_count": 7,
   "id": "2d347612",
   "metadata": {},
   "outputs": [
    {
     "data": {
      "text/plain": [
       "np.int64(0)"
      ]
     },
     "execution_count": 7,
     "metadata": {},
     "output_type": "execute_result"
    }
   ],
   "source": [
    "df[\"address\"].isnull().sum()"
   ]
  },
  {
   "cell_type": "markdown",
   "id": "3c84465e",
   "metadata": {},
   "source": [
    "### COLUMN NAME"
   ]
  },
  {
   "cell_type": "code",
   "execution_count": 8,
   "id": "7f01b56a",
   "metadata": {},
   "outputs": [
    {
     "data": {
      "text/plain": [
       "np.int64(0)"
      ]
     },
     "execution_count": 8,
     "metadata": {},
     "output_type": "execute_result"
    }
   ],
   "source": [
    "df[\"name\"].isnull().sum()"
   ]
  },
  {
   "cell_type": "markdown",
   "id": "932a320e",
   "metadata": {},
   "source": [
    "### COLUMN ONLINE_ORDER\n"
   ]
  },
  {
   "cell_type": "code",
   "execution_count": 9,
   "id": "335faf6e",
   "metadata": {},
   "outputs": [
    {
     "data": {
      "text/plain": [
       "array(['Yes', 'No'], dtype=object)"
      ]
     },
     "execution_count": 9,
     "metadata": {},
     "output_type": "execute_result"
    }
   ],
   "source": [
    "df[\"online_order\"].unique()"
   ]
  },
  {
   "cell_type": "code",
   "execution_count": 10,
   "id": "b3b7a3db",
   "metadata": {},
   "outputs": [
    {
     "data": {
      "text/plain": [
       "np.int64(0)"
      ]
     },
     "execution_count": 10,
     "metadata": {},
     "output_type": "execute_result"
    }
   ],
   "source": [
    "df[\"online_order\"].isnull().sum()"
   ]
  },
  {
   "cell_type": "markdown",
   "id": "d4a3c093",
   "metadata": {},
   "source": [
    "### COLUMN BOOK_TABLE"
   ]
  },
  {
   "cell_type": "code",
   "execution_count": 11,
   "id": "493f2911",
   "metadata": {},
   "outputs": [
    {
     "data": {
      "text/plain": [
       "array(['Yes', 'No'], dtype=object)"
      ]
     },
     "execution_count": 11,
     "metadata": {},
     "output_type": "execute_result"
    }
   ],
   "source": [
    "df[\"book_table\"].unique()"
   ]
  },
  {
   "cell_type": "code",
   "execution_count": 12,
   "id": "9700dabb",
   "metadata": {},
   "outputs": [
    {
     "data": {
      "text/plain": [
       "np.int64(0)"
      ]
     },
     "execution_count": 12,
     "metadata": {},
     "output_type": "execute_result"
    }
   ],
   "source": [
    "df[\"book_table\"].isnull().sum()"
   ]
  },
  {
   "cell_type": "markdown",
   "id": "cfede2a7",
   "metadata": {},
   "source": [
    "### COLUMN RATE\n"
   ]
  },
  {
   "cell_type": "code",
   "execution_count": 13,
   "id": "b11ca648",
   "metadata": {},
   "outputs": [
    {
     "data": {
      "text/plain": [
       "array(['4.1/5', '3.8/5', '3.7/5', '3.6/5', '4.6/5', '4.0/5', '4.2/5',\n",
       "       '3.9/5', '3.1/5', '3.0/5', '3.2/5', '3.3/5', '2.8/5', '4.4/5',\n",
       "       '4.3/5', 'NEW', '2.9/5', '3.5/5', nan, '2.6/5', '3.8 /5', '3.4/5',\n",
       "       '4.5/5', '2.5/5', '2.7/5', '4.7/5', '2.4/5', '2.2/5', '2.3/5',\n",
       "       '3.4 /5', '-', '3.6 /5', '4.8/5', '3.9 /5', '4.2 /5', '4.0 /5',\n",
       "       '4.1 /5', '3.7 /5', '3.1 /5', '2.9 /5', '3.3 /5', '2.8 /5',\n",
       "       '3.5 /5', '2.7 /5', '2.5 /5', '3.2 /5', '2.6 /5', '4.5 /5',\n",
       "       '4.3 /5', '4.4 /5', '4.9/5', '2.1/5', '2.0/5', '1.8/5', '4.6 /5',\n",
       "       '4.9 /5', '3.0 /5', '4.8 /5', '2.3 /5', '4.7 /5', '2.4 /5',\n",
       "       '2.1 /5', '2.2 /5', '2.0 /5', '1.8 /5'], dtype=object)"
      ]
     },
     "execution_count": 13,
     "metadata": {},
     "output_type": "execute_result"
    }
   ],
   "source": [
    "df[\"rate\"].unique()"
   ]
  },
  {
   "cell_type": "code",
   "execution_count": 14,
   "id": "bd5e8b13",
   "metadata": {},
   "outputs": [
    {
     "name": "stderr",
     "output_type": "stream",
     "text": [
      "/var/folders/k5/31v5qtn906158jhjx2lmfxwr0000gn/T/ipykernel_7769/2016265132.py:1: FutureWarning: A value is trying to be set on a copy of a DataFrame or Series through chained assignment using an inplace method.\n",
      "The behavior will change in pandas 3.0. This inplace method will never work because the intermediate object on which we are setting values always behaves as a copy.\n",
      "\n",
      "For example, when doing 'df[col].method(value, inplace=True)', try using 'df.method({col: value}, inplace=True)' or df[col] = df[col].method(value) instead, to perform the operation inplace on the original object.\n",
      "\n",
      "\n",
      "  df[\"rate\"].replace(np.nan, \"\", inplace=True)\n",
      "/var/folders/k5/31v5qtn906158jhjx2lmfxwr0000gn/T/ipykernel_7769/2016265132.py:2: FutureWarning: A value is trying to be set on a copy of a DataFrame or Series through chained assignment using an inplace method.\n",
      "The behavior will change in pandas 3.0. This inplace method will never work because the intermediate object on which we are setting values always behaves as a copy.\n",
      "\n",
      "For example, when doing 'df[col].method(value, inplace=True)', try using 'df.method({col: value}, inplace=True)' or df[col] = df[col].method(value) instead, to perform the operation inplace on the original object.\n",
      "\n",
      "\n",
      "  df[\"rate\"].replace(\"-\",\"\",inplace=True)\n"
     ]
    },
    {
     "data": {
      "text/plain": [
       "array(['4.1/5', '3.8/5', '3.7/5', '3.6/5', '4.6/5', '4.0/5', '4.2/5',\n",
       "       '3.9/5', '3.1/5', '3.0/5', '3.2/5', '3.3/5', '2.8/5', '4.4/5',\n",
       "       '4.3/5', 'NEW', '2.9/5', '3.5/5', '', '2.6/5', '3.8 /5', '3.4/5',\n",
       "       '4.5/5', '2.5/5', '2.7/5', '4.7/5', '2.4/5', '2.2/5', '2.3/5',\n",
       "       '3.4 /5', '3.6 /5', '4.8/5', '3.9 /5', '4.2 /5', '4.0 /5',\n",
       "       '4.1 /5', '3.7 /5', '3.1 /5', '2.9 /5', '3.3 /5', '2.8 /5',\n",
       "       '3.5 /5', '2.7 /5', '2.5 /5', '3.2 /5', '2.6 /5', '4.5 /5',\n",
       "       '4.3 /5', '4.4 /5', '4.9/5', '2.1/5', '2.0/5', '1.8/5', '4.6 /5',\n",
       "       '4.9 /5', '3.0 /5', '4.8 /5', '2.3 /5', '4.7 /5', '2.4 /5',\n",
       "       '2.1 /5', '2.2 /5', '2.0 /5', '1.8 /5'], dtype=object)"
      ]
     },
     "execution_count": 14,
     "metadata": {},
     "output_type": "execute_result"
    }
   ],
   "source": [
    "df[\"rate\"].replace(np.nan, \"\", inplace=True)\n",
    "df[\"rate\"].replace(\"-\",\"\",inplace=True)\n",
    "df[\"rate\"].unique()"
   ]
  },
  {
   "cell_type": "markdown",
   "id": "627361fa",
   "metadata": {},
   "source": [
    "### COLUMN VOTES\n"
   ]
  },
  {
   "cell_type": "code",
   "execution_count": 15,
   "id": "b7c9a4b6",
   "metadata": {},
   "outputs": [
    {
     "data": {
      "text/plain": [
       "dtype('int64')"
      ]
     },
     "execution_count": 15,
     "metadata": {},
     "output_type": "execute_result"
    }
   ],
   "source": [
    "df[\"votes\"].dtype"
   ]
  },
  {
   "cell_type": "code",
   "execution_count": 16,
   "id": "41279866",
   "metadata": {},
   "outputs": [
    {
     "data": {
      "text/plain": [
       "np.int64(0)"
      ]
     },
     "execution_count": 16,
     "metadata": {},
     "output_type": "execute_result"
    }
   ],
   "source": [
    "df[\"votes\"].isnull().sum()"
   ]
  },
  {
   "cell_type": "markdown",
   "id": "6ccf79ea",
   "metadata": {},
   "source": [
    "### COLUMN PHONE\n"
   ]
  },
  {
   "cell_type": "code",
   "execution_count": 17,
   "id": "86bf976e",
   "metadata": {},
   "outputs": [
    {
     "data": {
      "text/html": [
       "<div>\n",
       "<style scoped>\n",
       "    .dataframe tbody tr th:only-of-type {\n",
       "        vertical-align: middle;\n",
       "    }\n",
       "\n",
       "    .dataframe tbody tr th {\n",
       "        vertical-align: top;\n",
       "    }\n",
       "\n",
       "    .dataframe thead th {\n",
       "        text-align: right;\n",
       "    }\n",
       "</style>\n",
       "<table border=\"1\" class=\"dataframe\">\n",
       "  <thead>\n",
       "    <tr style=\"text-align: right;\">\n",
       "      <th></th>\n",
       "      <th>url</th>\n",
       "      <th>address</th>\n",
       "      <th>name</th>\n",
       "      <th>online_order</th>\n",
       "      <th>book_table</th>\n",
       "      <th>rate</th>\n",
       "      <th>votes</th>\n",
       "      <th>phone</th>\n",
       "      <th>location</th>\n",
       "      <th>rest_type</th>\n",
       "      <th>dish_liked</th>\n",
       "      <th>cuisines</th>\n",
       "      <th>approx_cost(for two people)</th>\n",
       "      <th>reviews_list</th>\n",
       "      <th>menu_item</th>\n",
       "      <th>listed_in(type)</th>\n",
       "      <th>listed_in(city)</th>\n",
       "    </tr>\n",
       "  </thead>\n",
       "  <tbody>\n",
       "    <tr>\n",
       "      <th>121</th>\n",
       "      <td>https://www.zomato.com/bangalore/new-mangalore...</td>\n",
       "      <td>89, Near PES College, 22nd Main Road, Girinaga...</td>\n",
       "      <td>New Mangalore Lunch Home</td>\n",
       "      <td>No</td>\n",
       "      <td>No</td>\n",
       "      <td>3.3/5</td>\n",
       "      <td>7</td>\n",
       "      <td>NaN</td>\n",
       "      <td>Banashankari</td>\n",
       "      <td>Quick Bites</td>\n",
       "      <td>NaN</td>\n",
       "      <td>Mangalorean, South Indian, North Indian</td>\n",
       "      <td>200</td>\n",
       "      <td>[]</td>\n",
       "      <td>[]</td>\n",
       "      <td>Delivery</td>\n",
       "      <td>Banashankari</td>\n",
       "    </tr>\n",
       "    <tr>\n",
       "      <th>234</th>\n",
       "      <td>https://www.zomato.com/bangalore/kadamba-class...</td>\n",
       "      <td>Satellite Bus Stand, KSRTC, Mysore Road, Banga...</td>\n",
       "      <td>Kadamba Classic</td>\n",
       "      <td>No</td>\n",
       "      <td>No</td>\n",
       "      <td>3.6/5</td>\n",
       "      <td>16</td>\n",
       "      <td>NaN</td>\n",
       "      <td>Mysore Road</td>\n",
       "      <td>Quick Bites</td>\n",
       "      <td>NaN</td>\n",
       "      <td>South Indian</td>\n",
       "      <td>300</td>\n",
       "      <td>[('Rated 3.0', 'RATED\\n  Was on travel mode an...</td>\n",
       "      <td>[]</td>\n",
       "      <td>Delivery</td>\n",
       "      <td>Banashankari</td>\n",
       "    </tr>\n",
       "    <tr>\n",
       "      <th>300</th>\n",
       "      <td>https://www.zomato.com/bangalore/just-thindi-b...</td>\n",
       "      <td>27, Gandhi Bazaar Main Rd, Basavanagudi, Banga...</td>\n",
       "      <td>Just Thindi</td>\n",
       "      <td>Yes</td>\n",
       "      <td>No</td>\n",
       "      <td>3.6/5</td>\n",
       "      <td>16</td>\n",
       "      <td>NaN</td>\n",
       "      <td>Basavanagudi</td>\n",
       "      <td>Quick Bites</td>\n",
       "      <td>NaN</td>\n",
       "      <td>South Indian</td>\n",
       "      <td>200</td>\n",
       "      <td>[('Rated 4.0', 'RATED\\n  rice bath was good bu...</td>\n",
       "      <td>['Vada', 'Idly [2 Pieces]', 'Masala Dosa', 'Kh...</td>\n",
       "      <td>Delivery</td>\n",
       "      <td>Banashankari</td>\n",
       "    </tr>\n",
       "    <tr>\n",
       "      <th>378</th>\n",
       "      <td>https://www.zomato.com/bangalore/dakshin-kitch...</td>\n",
       "      <td>Kabirmutt Road, Gavipuram Extension, Basavanag...</td>\n",
       "      <td>Dakshin Kitchen</td>\n",
       "      <td>Yes</td>\n",
       "      <td>No</td>\n",
       "      <td>3.6/5</td>\n",
       "      <td>15</td>\n",
       "      <td>NaN</td>\n",
       "      <td>Basavanagudi</td>\n",
       "      <td>Quick Bites</td>\n",
       "      <td>NaN</td>\n",
       "      <td>South Indian</td>\n",
       "      <td>100</td>\n",
       "      <td>[('Rated 5.0', \"RATED\\n  What's special here y...</td>\n",
       "      <td>[]</td>\n",
       "      <td>Delivery</td>\n",
       "      <td>Banashankari</td>\n",
       "    </tr>\n",
       "    <tr>\n",
       "      <th>466</th>\n",
       "      <td>https://www.zomato.com/bangalore/chettys-corne...</td>\n",
       "      <td>126/3, Uttarahalli Main Road, Sarvabouma Nagar...</td>\n",
       "      <td>Chetty's Corner</td>\n",
       "      <td>Yes</td>\n",
       "      <td>No</td>\n",
       "      <td>3.4/5</td>\n",
       "      <td>30</td>\n",
       "      <td>NaN</td>\n",
       "      <td>Uttarahalli</td>\n",
       "      <td>Quick Bites</td>\n",
       "      <td>NaN</td>\n",
       "      <td>Fast Food, Burger, Pizza</td>\n",
       "      <td>200</td>\n",
       "      <td>[('Rated 3.0', 'RATED\\n  Hi All,\\n\\nWe ordered...</td>\n",
       "      <td>[]</td>\n",
       "      <td>Delivery</td>\n",
       "      <td>Banashankari</td>\n",
       "    </tr>\n",
       "    <tr>\n",
       "      <th>...</th>\n",
       "      <td>...</td>\n",
       "      <td>...</td>\n",
       "      <td>...</td>\n",
       "      <td>...</td>\n",
       "      <td>...</td>\n",
       "      <td>...</td>\n",
       "      <td>...</td>\n",
       "      <td>...</td>\n",
       "      <td>...</td>\n",
       "      <td>...</td>\n",
       "      <td>...</td>\n",
       "      <td>...</td>\n",
       "      <td>...</td>\n",
       "      <td>...</td>\n",
       "      <td>...</td>\n",
       "      <td>...</td>\n",
       "      <td>...</td>\n",
       "    </tr>\n",
       "    <tr>\n",
       "      <th>51353</th>\n",
       "      <td>https://www.zomato.com/bangalore/chatpata-indi...</td>\n",
       "      <td>Food Court, Ascendas Park Square Mall, ITPL Ma...</td>\n",
       "      <td>Chatpata India</td>\n",
       "      <td>Yes</td>\n",
       "      <td>No</td>\n",
       "      <td>3.9 /5</td>\n",
       "      <td>103</td>\n",
       "      <td>NaN</td>\n",
       "      <td>Whitefield</td>\n",
       "      <td>Food Court</td>\n",
       "      <td>Chaat, Raj Kachori</td>\n",
       "      <td>North Indian</td>\n",
       "      <td>400</td>\n",
       "      <td>[('Rated 3.0', \"RATED\\n  My experiences in Ban...</td>\n",
       "      <td>['Gup Chup [Pani Puri, 8 Pieces]]', 'Dahi Papd...</td>\n",
       "      <td>Dine-out</td>\n",
       "      <td>Whitefield</td>\n",
       "    </tr>\n",
       "    <tr>\n",
       "      <th>51501</th>\n",
       "      <td>https://www.zomato.com/bangalore/toastys-white...</td>\n",
       "      <td>3rd Floor, Virginia Mall, Varthur Main Road, W...</td>\n",
       "      <td>Toasty's</td>\n",
       "      <td>No</td>\n",
       "      <td>No</td>\n",
       "      <td></td>\n",
       "      <td>0</td>\n",
       "      <td>NaN</td>\n",
       "      <td>Whitefield</td>\n",
       "      <td>Food Court</td>\n",
       "      <td>NaN</td>\n",
       "      <td>Fast Food</td>\n",
       "      <td>500</td>\n",
       "      <td>[]</td>\n",
       "      <td>[]</td>\n",
       "      <td>Dine-out</td>\n",
       "      <td>Whitefield</td>\n",
       "    </tr>\n",
       "    <tr>\n",
       "      <th>51591</th>\n",
       "      <td>https://www.zomato.com/bangalore/donne-biryani...</td>\n",
       "      <td>26, Aparaajita Building, Borewell Road, Opposi...</td>\n",
       "      <td>Donne Biryani Mane</td>\n",
       "      <td>Yes</td>\n",
       "      <td>No</td>\n",
       "      <td>3.5 /5</td>\n",
       "      <td>51</td>\n",
       "      <td>NaN</td>\n",
       "      <td>Whitefield</td>\n",
       "      <td>Quick Bites</td>\n",
       "      <td>NaN</td>\n",
       "      <td>Biryani</td>\n",
       "      <td>300</td>\n",
       "      <td>[('Rated 4.0', \"RATED\\n  Donne biriyani mane h...</td>\n",
       "      <td>['Donne Biryani Rice', 'Donne Egg Biryani', 'D...</td>\n",
       "      <td>Dine-out</td>\n",
       "      <td>Whitefield</td>\n",
       "    </tr>\n",
       "    <tr>\n",
       "      <th>51641</th>\n",
       "      <td>https://www.zomato.com/bangalore/andhra-spices...</td>\n",
       "      <td>188, ITPL Main Road, Brookefields, Bangalore, ...</td>\n",
       "      <td>Andhra Spices</td>\n",
       "      <td>No</td>\n",
       "      <td>No</td>\n",
       "      <td>3.2 /5</td>\n",
       "      <td>4</td>\n",
       "      <td>NaN</td>\n",
       "      <td>Brookefield</td>\n",
       "      <td>Quick Bites</td>\n",
       "      <td>NaN</td>\n",
       "      <td>Andhra, Chinese, South Indian</td>\n",
       "      <td>NaN</td>\n",
       "      <td>[('Rated 2.0', \"RATED\\n  Food is not upto the ...</td>\n",
       "      <td>[]</td>\n",
       "      <td>Dine-out</td>\n",
       "      <td>Whitefield</td>\n",
       "    </tr>\n",
       "    <tr>\n",
       "      <th>51714</th>\n",
       "      <td>https://www.zomato.com/bangalore/plunge-sherat...</td>\n",
       "      <td>Sheraton Grand Bengaluru Whitefield Hotel &amp; Co...</td>\n",
       "      <td>Plunge - Sheraton Grand Bengaluru Whitefield H...</td>\n",
       "      <td>No</td>\n",
       "      <td>No</td>\n",
       "      <td></td>\n",
       "      <td>0</td>\n",
       "      <td>NaN</td>\n",
       "      <td>Whitefield</td>\n",
       "      <td>Bar</td>\n",
       "      <td>NaN</td>\n",
       "      <td>Finger Food</td>\n",
       "      <td>2,000</td>\n",
       "      <td>[]</td>\n",
       "      <td>[]</td>\n",
       "      <td>Pubs and bars</td>\n",
       "      <td>Whitefield</td>\n",
       "    </tr>\n",
       "  </tbody>\n",
       "</table>\n",
       "<p>1208 rows × 17 columns</p>\n",
       "</div>"
      ],
      "text/plain": [
       "                                                     url  \\\n",
       "121    https://www.zomato.com/bangalore/new-mangalore...   \n",
       "234    https://www.zomato.com/bangalore/kadamba-class...   \n",
       "300    https://www.zomato.com/bangalore/just-thindi-b...   \n",
       "378    https://www.zomato.com/bangalore/dakshin-kitch...   \n",
       "466    https://www.zomato.com/bangalore/chettys-corne...   \n",
       "...                                                  ...   \n",
       "51353  https://www.zomato.com/bangalore/chatpata-indi...   \n",
       "51501  https://www.zomato.com/bangalore/toastys-white...   \n",
       "51591  https://www.zomato.com/bangalore/donne-biryani...   \n",
       "51641  https://www.zomato.com/bangalore/andhra-spices...   \n",
       "51714  https://www.zomato.com/bangalore/plunge-sherat...   \n",
       "\n",
       "                                                 address  \\\n",
       "121    89, Near PES College, 22nd Main Road, Girinaga...   \n",
       "234    Satellite Bus Stand, KSRTC, Mysore Road, Banga...   \n",
       "300    27, Gandhi Bazaar Main Rd, Basavanagudi, Banga...   \n",
       "378    Kabirmutt Road, Gavipuram Extension, Basavanag...   \n",
       "466    126/3, Uttarahalli Main Road, Sarvabouma Nagar...   \n",
       "...                                                  ...   \n",
       "51353  Food Court, Ascendas Park Square Mall, ITPL Ma...   \n",
       "51501  3rd Floor, Virginia Mall, Varthur Main Road, W...   \n",
       "51591  26, Aparaajita Building, Borewell Road, Opposi...   \n",
       "51641  188, ITPL Main Road, Brookefields, Bangalore, ...   \n",
       "51714  Sheraton Grand Bengaluru Whitefield Hotel & Co...   \n",
       "\n",
       "                                                    name online_order  \\\n",
       "121                             New Mangalore Lunch Home           No   \n",
       "234                                      Kadamba Classic           No   \n",
       "300                                          Just Thindi          Yes   \n",
       "378                                      Dakshin Kitchen          Yes   \n",
       "466                                      Chetty's Corner          Yes   \n",
       "...                                                  ...          ...   \n",
       "51353                                     Chatpata India          Yes   \n",
       "51501                                           Toasty's           No   \n",
       "51591                                 Donne Biryani Mane          Yes   \n",
       "51641                                      Andhra Spices           No   \n",
       "51714  Plunge - Sheraton Grand Bengaluru Whitefield H...           No   \n",
       "\n",
       "      book_table    rate  votes phone      location    rest_type  \\\n",
       "121           No   3.3/5      7   NaN  Banashankari  Quick Bites   \n",
       "234           No   3.6/5     16   NaN   Mysore Road  Quick Bites   \n",
       "300           No   3.6/5     16   NaN  Basavanagudi  Quick Bites   \n",
       "378           No   3.6/5     15   NaN  Basavanagudi  Quick Bites   \n",
       "466           No   3.4/5     30   NaN   Uttarahalli  Quick Bites   \n",
       "...          ...     ...    ...   ...           ...          ...   \n",
       "51353         No  3.9 /5    103   NaN    Whitefield   Food Court   \n",
       "51501         No              0   NaN    Whitefield   Food Court   \n",
       "51591         No  3.5 /5     51   NaN    Whitefield  Quick Bites   \n",
       "51641         No  3.2 /5      4   NaN   Brookefield  Quick Bites   \n",
       "51714         No              0   NaN    Whitefield          Bar   \n",
       "\n",
       "               dish_liked                                 cuisines  \\\n",
       "121                   NaN  Mangalorean, South Indian, North Indian   \n",
       "234                   NaN                             South Indian   \n",
       "300                   NaN                             South Indian   \n",
       "378                   NaN                             South Indian   \n",
       "466                   NaN                 Fast Food, Burger, Pizza   \n",
       "...                   ...                                      ...   \n",
       "51353  Chaat, Raj Kachori                             North Indian   \n",
       "51501                 NaN                                Fast Food   \n",
       "51591                 NaN                                  Biryani   \n",
       "51641                 NaN            Andhra, Chinese, South Indian   \n",
       "51714                 NaN                              Finger Food   \n",
       "\n",
       "      approx_cost(for two people)  \\\n",
       "121                           200   \n",
       "234                           300   \n",
       "300                           200   \n",
       "378                           100   \n",
       "466                           200   \n",
       "...                           ...   \n",
       "51353                         400   \n",
       "51501                         500   \n",
       "51591                         300   \n",
       "51641                         NaN   \n",
       "51714                       2,000   \n",
       "\n",
       "                                            reviews_list  \\\n",
       "121                                                   []   \n",
       "234    [('Rated 3.0', 'RATED\\n  Was on travel mode an...   \n",
       "300    [('Rated 4.0', 'RATED\\n  rice bath was good bu...   \n",
       "378    [('Rated 5.0', \"RATED\\n  What's special here y...   \n",
       "466    [('Rated 3.0', 'RATED\\n  Hi All,\\n\\nWe ordered...   \n",
       "...                                                  ...   \n",
       "51353  [('Rated 3.0', \"RATED\\n  My experiences in Ban...   \n",
       "51501                                                 []   \n",
       "51591  [('Rated 4.0', \"RATED\\n  Donne biriyani mane h...   \n",
       "51641  [('Rated 2.0', \"RATED\\n  Food is not upto the ...   \n",
       "51714                                                 []   \n",
       "\n",
       "                                               menu_item listed_in(type)  \\\n",
       "121                                                   []        Delivery   \n",
       "234                                                   []        Delivery   \n",
       "300    ['Vada', 'Idly [2 Pieces]', 'Masala Dosa', 'Kh...        Delivery   \n",
       "378                                                   []        Delivery   \n",
       "466                                                   []        Delivery   \n",
       "...                                                  ...             ...   \n",
       "51353  ['Gup Chup [Pani Puri, 8 Pieces]]', 'Dahi Papd...        Dine-out   \n",
       "51501                                                 []        Dine-out   \n",
       "51591  ['Donne Biryani Rice', 'Donne Egg Biryani', 'D...        Dine-out   \n",
       "51641                                                 []        Dine-out   \n",
       "51714                                                 []   Pubs and bars   \n",
       "\n",
       "      listed_in(city)  \n",
       "121      Banashankari  \n",
       "234      Banashankari  \n",
       "300      Banashankari  \n",
       "378      Banashankari  \n",
       "466      Banashankari  \n",
       "...               ...  \n",
       "51353      Whitefield  \n",
       "51501      Whitefield  \n",
       "51591      Whitefield  \n",
       "51641      Whitefield  \n",
       "51714      Whitefield  \n",
       "\n",
       "[1208 rows x 17 columns]"
      ]
     },
     "execution_count": 17,
     "metadata": {},
     "output_type": "execute_result"
    }
   ],
   "source": [
    "df[~df[\"phone\"].str.contains(\"[0-9+]\", na=False)]"
   ]
  },
  {
   "cell_type": "code",
   "execution_count": 18,
   "id": "a34afc71",
   "metadata": {},
   "outputs": [
    {
     "data": {
      "text/plain": [
       "array([nan], dtype=object)"
      ]
     },
     "execution_count": 18,
     "metadata": {},
     "output_type": "execute_result"
    }
   ],
   "source": [
    "df[~df[\"phone\"].str.contains(\"[0-9+]\", na=False)][\"phone\"].unique()"
   ]
  },
  {
   "cell_type": "code",
   "execution_count": 19,
   "id": "728d59ef",
   "metadata": {},
   "outputs": [
    {
     "data": {
      "text/plain": [
       "array([''], dtype=object)"
      ]
     },
     "execution_count": 19,
     "metadata": {},
     "output_type": "execute_result"
    }
   ],
   "source": [
    "df[\"phone\"].replace(np.nan, \"\", regex=True, inplace=True)\n",
    "df[~df[\"phone\"].str.contains(\"[0-9+]\", na=False)][\"phone\"].unique()"
   ]
  },
  {
   "cell_type": "markdown",
   "id": "05735aa7",
   "metadata": {},
   "source": [
    "### COLUMN LOCATION\n"
   ]
  },
  {
   "cell_type": "code",
   "execution_count": 20,
   "id": "9e2de9ff",
   "metadata": {},
   "outputs": [
    {
     "data": {
      "text/plain": [
       "np.int64(21)"
      ]
     },
     "execution_count": 20,
     "metadata": {},
     "output_type": "execute_result"
    }
   ],
   "source": [
    "df[\"location\"].isnull().sum()"
   ]
  },
  {
   "cell_type": "code",
   "execution_count": 21,
   "id": "1165ae7a",
   "metadata": {},
   "outputs": [
    {
     "data": {
      "text/html": [
       "<div>\n",
       "<style scoped>\n",
       "    .dataframe tbody tr th:only-of-type {\n",
       "        vertical-align: middle;\n",
       "    }\n",
       "\n",
       "    .dataframe tbody tr th {\n",
       "        vertical-align: top;\n",
       "    }\n",
       "\n",
       "    .dataframe thead th {\n",
       "        text-align: right;\n",
       "    }\n",
       "</style>\n",
       "<table border=\"1\" class=\"dataframe\">\n",
       "  <thead>\n",
       "    <tr style=\"text-align: right;\">\n",
       "      <th></th>\n",
       "      <th>url</th>\n",
       "      <th>address</th>\n",
       "      <th>name</th>\n",
       "      <th>online_order</th>\n",
       "      <th>book_table</th>\n",
       "      <th>rate</th>\n",
       "      <th>votes</th>\n",
       "      <th>phone</th>\n",
       "      <th>location</th>\n",
       "      <th>rest_type</th>\n",
       "      <th>dish_liked</th>\n",
       "      <th>cuisines</th>\n",
       "      <th>approx_cost(for two people)</th>\n",
       "      <th>reviews_list</th>\n",
       "      <th>menu_item</th>\n",
       "      <th>listed_in(type)</th>\n",
       "      <th>listed_in(city)</th>\n",
       "    </tr>\n",
       "  </thead>\n",
       "  <tbody>\n",
       "    <tr>\n",
       "      <th>1662</th>\n",
       "      <td>https://www.zomato.com/bangalore/papa-khan-ras...</td>\n",
       "      <td>6, Abbiah Layout KC Halli Main Road, Bommanaha...</td>\n",
       "      <td>Papa Khan Rasoi</td>\n",
       "      <td>No</td>\n",
       "      <td>No</td>\n",
       "      <td></td>\n",
       "      <td>0</td>\n",
       "      <td></td>\n",
       "      <td>NaN</td>\n",
       "      <td>NaN</td>\n",
       "      <td>NaN</td>\n",
       "      <td>NaN</td>\n",
       "      <td>NaN</td>\n",
       "      <td>[]</td>\n",
       "      <td>[]</td>\n",
       "      <td>Delivery</td>\n",
       "      <td>Bannerghatta Road</td>\n",
       "    </tr>\n",
       "    <tr>\n",
       "      <th>9874</th>\n",
       "      <td>https://www.zomato.com/bangalore/papa-khan-ras...</td>\n",
       "      <td>6, Abbiah Layout KC Halli Main Road, Bommanaha...</td>\n",
       "      <td>Papa Khan Rasoi</td>\n",
       "      <td>No</td>\n",
       "      <td>No</td>\n",
       "      <td></td>\n",
       "      <td>0</td>\n",
       "      <td></td>\n",
       "      <td>NaN</td>\n",
       "      <td>NaN</td>\n",
       "      <td>NaN</td>\n",
       "      <td>NaN</td>\n",
       "      <td>NaN</td>\n",
       "      <td>[]</td>\n",
       "      <td>[]</td>\n",
       "      <td>Delivery</td>\n",
       "      <td>BTM</td>\n",
       "    </tr>\n",
       "    <tr>\n",
       "      <th>13693</th>\n",
       "      <td>https://www.zomato.com/bangalore/mohabbat-desi...</td>\n",
       "      <td>Chandapura- Anakal Main Road, Oppsite Vemana H...</td>\n",
       "      <td>Mohabbat Desi Restaurant</td>\n",
       "      <td>No</td>\n",
       "      <td>No</td>\n",
       "      <td></td>\n",
       "      <td>0</td>\n",
       "      <td></td>\n",
       "      <td>NaN</td>\n",
       "      <td>NaN</td>\n",
       "      <td>NaN</td>\n",
       "      <td>NaN</td>\n",
       "      <td>NaN</td>\n",
       "      <td>[]</td>\n",
       "      <td>[]</td>\n",
       "      <td>Delivery</td>\n",
       "      <td>Electronic City</td>\n",
       "    </tr>\n",
       "    <tr>\n",
       "      <th>16351</th>\n",
       "      <td>https://www.zomato.com/bangalore/desi-chatkara...</td>\n",
       "      <td>Kudlu Gate, Bommanahalli, Bangalore</td>\n",
       "      <td>Desi Chatkara</td>\n",
       "      <td>No</td>\n",
       "      <td>No</td>\n",
       "      <td></td>\n",
       "      <td>0</td>\n",
       "      <td></td>\n",
       "      <td>NaN</td>\n",
       "      <td>NaN</td>\n",
       "      <td>NaN</td>\n",
       "      <td>NaN</td>\n",
       "      <td>NaN</td>\n",
       "      <td>[]</td>\n",
       "      <td>[]</td>\n",
       "      <td>Delivery</td>\n",
       "      <td>HSR</td>\n",
       "    </tr>\n",
       "    <tr>\n",
       "      <th>26432</th>\n",
       "      <td>https://www.zomato.com/bangalore/new-taj-birya...</td>\n",
       "      <td>IB Road, Lorry Stand, Kushaal Nagar, Ward 10, ...</td>\n",
       "      <td>New Taj Biryani Centre</td>\n",
       "      <td>No</td>\n",
       "      <td>No</td>\n",
       "      <td></td>\n",
       "      <td>0</td>\n",
       "      <td></td>\n",
       "      <td>NaN</td>\n",
       "      <td>NaN</td>\n",
       "      <td>NaN</td>\n",
       "      <td>NaN</td>\n",
       "      <td>NaN</td>\n",
       "      <td>[]</td>\n",
       "      <td>[]</td>\n",
       "      <td>Dine-out</td>\n",
       "      <td>Kammanahalli</td>\n",
       "    </tr>\n",
       "    <tr>\n",
       "      <th>26519</th>\n",
       "      <td>https://www.zomato.com/bangalore/abs-absolute-...</td>\n",
       "      <td>Koramangala 8th Block, Bangalore</td>\n",
       "      <td>AB's - Absolute Barbecues</td>\n",
       "      <td>No</td>\n",
       "      <td>No</td>\n",
       "      <td></td>\n",
       "      <td>0</td>\n",
       "      <td></td>\n",
       "      <td>NaN</td>\n",
       "      <td>NaN</td>\n",
       "      <td>NaN</td>\n",
       "      <td>NaN</td>\n",
       "      <td>NaN</td>\n",
       "      <td>[]</td>\n",
       "      <td>[]</td>\n",
       "      <td>Buffet</td>\n",
       "      <td>Koramangala 4th Block</td>\n",
       "    </tr>\n",
       "    <tr>\n",
       "      <th>27672</th>\n",
       "      <td>https://www.zomato.com/bangalore/manchow-koram...</td>\n",
       "      <td>6, Kathalipalya Village, 6th Cross, Koramangal...</td>\n",
       "      <td>Manchow</td>\n",
       "      <td>No</td>\n",
       "      <td>No</td>\n",
       "      <td></td>\n",
       "      <td>0</td>\n",
       "      <td></td>\n",
       "      <td>NaN</td>\n",
       "      <td>NaN</td>\n",
       "      <td>NaN</td>\n",
       "      <td>NaN</td>\n",
       "      <td>NaN</td>\n",
       "      <td>[]</td>\n",
       "      <td>[]</td>\n",
       "      <td>Delivery</td>\n",
       "      <td>Koramangala 4th Block</td>\n",
       "    </tr>\n",
       "    <tr>\n",
       "      <th>28611</th>\n",
       "      <td>https://www.zomato.com/bangalore/manchow-koram...</td>\n",
       "      <td>6, Kathalipalya Village, 6th Cross, Koramangal...</td>\n",
       "      <td>Manchow</td>\n",
       "      <td>No</td>\n",
       "      <td>No</td>\n",
       "      <td></td>\n",
       "      <td>0</td>\n",
       "      <td></td>\n",
       "      <td>NaN</td>\n",
       "      <td>NaN</td>\n",
       "      <td>NaN</td>\n",
       "      <td>NaN</td>\n",
       "      <td>NaN</td>\n",
       "      <td>[]</td>\n",
       "      <td>[]</td>\n",
       "      <td>Dine-out</td>\n",
       "      <td>Koramangala 4th Block</td>\n",
       "    </tr>\n",
       "    <tr>\n",
       "      <th>29298</th>\n",
       "      <td>https://www.zomato.com/bangalore/abs-absolute-...</td>\n",
       "      <td>Koramangala 8th Block, Bangalore</td>\n",
       "      <td>AB's - Absolute Barbecues</td>\n",
       "      <td>No</td>\n",
       "      <td>No</td>\n",
       "      <td></td>\n",
       "      <td>0</td>\n",
       "      <td></td>\n",
       "      <td>NaN</td>\n",
       "      <td>NaN</td>\n",
       "      <td>NaN</td>\n",
       "      <td>NaN</td>\n",
       "      <td>NaN</td>\n",
       "      <td>[]</td>\n",
       "      <td>[]</td>\n",
       "      <td>Buffet</td>\n",
       "      <td>Koramangala 5th Block</td>\n",
       "    </tr>\n",
       "    <tr>\n",
       "      <th>30604</th>\n",
       "      <td>https://www.zomato.com/bangalore/manchow-koram...</td>\n",
       "      <td>6, Kathalipalya Village, 6th Cross, Koramangal...</td>\n",
       "      <td>Manchow</td>\n",
       "      <td>No</td>\n",
       "      <td>No</td>\n",
       "      <td></td>\n",
       "      <td>0</td>\n",
       "      <td></td>\n",
       "      <td>NaN</td>\n",
       "      <td>NaN</td>\n",
       "      <td>NaN</td>\n",
       "      <td>NaN</td>\n",
       "      <td>NaN</td>\n",
       "      <td>[]</td>\n",
       "      <td>[]</td>\n",
       "      <td>Delivery</td>\n",
       "      <td>Koramangala 5th Block</td>\n",
       "    </tr>\n",
       "    <tr>\n",
       "      <th>31400</th>\n",
       "      <td>https://www.zomato.com/bangalore/manchow-koram...</td>\n",
       "      <td>6, Kathalipalya Village, 6th Cross, Koramangal...</td>\n",
       "      <td>Manchow</td>\n",
       "      <td>No</td>\n",
       "      <td>No</td>\n",
       "      <td></td>\n",
       "      <td>0</td>\n",
       "      <td></td>\n",
       "      <td>NaN</td>\n",
       "      <td>NaN</td>\n",
       "      <td>NaN</td>\n",
       "      <td>NaN</td>\n",
       "      <td>NaN</td>\n",
       "      <td>[]</td>\n",
       "      <td>[]</td>\n",
       "      <td>Dine-out</td>\n",
       "      <td>Koramangala 5th Block</td>\n",
       "    </tr>\n",
       "    <tr>\n",
       "      <th>32131</th>\n",
       "      <td>https://www.zomato.com/bangalore/abs-absolute-...</td>\n",
       "      <td>Koramangala 8th Block, Bangalore</td>\n",
       "      <td>AB's - Absolute Barbecues</td>\n",
       "      <td>No</td>\n",
       "      <td>No</td>\n",
       "      <td></td>\n",
       "      <td>0</td>\n",
       "      <td></td>\n",
       "      <td>NaN</td>\n",
       "      <td>NaN</td>\n",
       "      <td>NaN</td>\n",
       "      <td>NaN</td>\n",
       "      <td>NaN</td>\n",
       "      <td>[]</td>\n",
       "      <td>[]</td>\n",
       "      <td>Buffet</td>\n",
       "      <td>Koramangala 6th Block</td>\n",
       "    </tr>\n",
       "    <tr>\n",
       "      <th>33457</th>\n",
       "      <td>https://www.zomato.com/bangalore/la-lunch-box-...</td>\n",
       "      <td>80 Feet Road, Koramangala 4th Block, Bangalore</td>\n",
       "      <td>La Lunch Box</td>\n",
       "      <td>No</td>\n",
       "      <td>No</td>\n",
       "      <td></td>\n",
       "      <td>0</td>\n",
       "      <td></td>\n",
       "      <td>NaN</td>\n",
       "      <td>NaN</td>\n",
       "      <td>NaN</td>\n",
       "      <td>NaN</td>\n",
       "      <td>NaN</td>\n",
       "      <td>[]</td>\n",
       "      <td>[]</td>\n",
       "      <td>Delivery</td>\n",
       "      <td>Koramangala 6th Block</td>\n",
       "    </tr>\n",
       "    <tr>\n",
       "      <th>34755</th>\n",
       "      <td>https://www.zomato.com/bangalore/abs-absolute-...</td>\n",
       "      <td>Koramangala 8th Block, Bangalore</td>\n",
       "      <td>AB's - Absolute Barbecues</td>\n",
       "      <td>No</td>\n",
       "      <td>No</td>\n",
       "      <td></td>\n",
       "      <td>0</td>\n",
       "      <td></td>\n",
       "      <td>NaN</td>\n",
       "      <td>NaN</td>\n",
       "      <td>NaN</td>\n",
       "      <td>NaN</td>\n",
       "      <td>NaN</td>\n",
       "      <td>[]</td>\n",
       "      <td>[]</td>\n",
       "      <td>Buffet</td>\n",
       "      <td>Koramangala 7th Block</td>\n",
       "    </tr>\n",
       "    <tr>\n",
       "      <th>40354</th>\n",
       "      <td>https://www.zomato.com/bangalore/the-happy-veg...</td>\n",
       "      <td>399/34, 19th Main, Near Navarang Theatre, 2nd ...</td>\n",
       "      <td>The Happy Vegetarian</td>\n",
       "      <td>No</td>\n",
       "      <td>No</td>\n",
       "      <td></td>\n",
       "      <td>0</td>\n",
       "      <td></td>\n",
       "      <td>NaN</td>\n",
       "      <td>NaN</td>\n",
       "      <td>NaN</td>\n",
       "      <td>NaN</td>\n",
       "      <td>NaN</td>\n",
       "      <td>[]</td>\n",
       "      <td>[]</td>\n",
       "      <td>Dine-out</td>\n",
       "      <td>Malleshwaram</td>\n",
       "    </tr>\n",
       "    <tr>\n",
       "      <th>40556</th>\n",
       "      <td>https://www.zomato.com/bangalore/risalo-restau...</td>\n",
       "      <td>1630, 6th Main Road, AECS Layout E Block, Mara...</td>\n",
       "      <td>Risalo Restaurant</td>\n",
       "      <td>No</td>\n",
       "      <td>No</td>\n",
       "      <td></td>\n",
       "      <td>0</td>\n",
       "      <td></td>\n",
       "      <td>NaN</td>\n",
       "      <td>NaN</td>\n",
       "      <td>NaN</td>\n",
       "      <td>NaN</td>\n",
       "      <td>NaN</td>\n",
       "      <td>[]</td>\n",
       "      <td>[]</td>\n",
       "      <td>Cafes</td>\n",
       "      <td>Marathahalli</td>\n",
       "    </tr>\n",
       "    <tr>\n",
       "      <th>41980</th>\n",
       "      <td>https://www.zomato.com/bangalore/risalo-restau...</td>\n",
       "      <td>1630, 6th Main Road, AECS Layout E Block, Mara...</td>\n",
       "      <td>Risalo Restaurant</td>\n",
       "      <td>No</td>\n",
       "      <td>No</td>\n",
       "      <td></td>\n",
       "      <td>0</td>\n",
       "      <td></td>\n",
       "      <td>NaN</td>\n",
       "      <td>NaN</td>\n",
       "      <td>NaN</td>\n",
       "      <td>NaN</td>\n",
       "      <td>NaN</td>\n",
       "      <td>[]</td>\n",
       "      <td>[]</td>\n",
       "      <td>Dine-out</td>\n",
       "      <td>Marathahalli</td>\n",
       "    </tr>\n",
       "    <tr>\n",
       "      <th>46586</th>\n",
       "      <td>https://www.zomato.com/bangalore/the-cinema-vi...</td>\n",
       "      <td>9, Magadi Main Road, Cholourpalya, Vijay Nagar</td>\n",
       "      <td>The Cinema</td>\n",
       "      <td>No</td>\n",
       "      <td>No</td>\n",
       "      <td></td>\n",
       "      <td>0</td>\n",
       "      <td></td>\n",
       "      <td>NaN</td>\n",
       "      <td>NaN</td>\n",
       "      <td>NaN</td>\n",
       "      <td>NaN</td>\n",
       "      <td>NaN</td>\n",
       "      <td>[]</td>\n",
       "      <td>[]</td>\n",
       "      <td>Delivery</td>\n",
       "      <td>Rajajinagar</td>\n",
       "    </tr>\n",
       "    <tr>\n",
       "      <th>46609</th>\n",
       "      <td>https://www.zomato.com/bangalore/grill-biryani...</td>\n",
       "      <td>West of Chord Road, Govindaraja Nagar, Below H...</td>\n",
       "      <td>Grill Biryanis</td>\n",
       "      <td>No</td>\n",
       "      <td>No</td>\n",
       "      <td></td>\n",
       "      <td>0</td>\n",
       "      <td></td>\n",
       "      <td>NaN</td>\n",
       "      <td>NaN</td>\n",
       "      <td>NaN</td>\n",
       "      <td>NaN</td>\n",
       "      <td>NaN</td>\n",
       "      <td>[]</td>\n",
       "      <td>[]</td>\n",
       "      <td>Delivery</td>\n",
       "      <td>Rajajinagar</td>\n",
       "    </tr>\n",
       "    <tr>\n",
       "      <th>46752</th>\n",
       "      <td>https://www.zomato.com/bangalore/the-happy-veg...</td>\n",
       "      <td>399/34, 19th Main, Near Navarang Theatre, 2nd ...</td>\n",
       "      <td>The Happy Vegetarian</td>\n",
       "      <td>No</td>\n",
       "      <td>No</td>\n",
       "      <td></td>\n",
       "      <td>0</td>\n",
       "      <td></td>\n",
       "      <td>NaN</td>\n",
       "      <td>NaN</td>\n",
       "      <td>NaN</td>\n",
       "      <td>NaN</td>\n",
       "      <td>NaN</td>\n",
       "      <td>[]</td>\n",
       "      <td>[]</td>\n",
       "      <td>Dine-out</td>\n",
       "      <td>Rajajinagar</td>\n",
       "    </tr>\n",
       "    <tr>\n",
       "      <th>47134</th>\n",
       "      <td>https://www.zomato.com/bangalore/the-cinema-vi...</td>\n",
       "      <td>9, Magadi Main Road, Cholourpalya, Vijay Nagar</td>\n",
       "      <td>The Cinema</td>\n",
       "      <td>No</td>\n",
       "      <td>No</td>\n",
       "      <td></td>\n",
       "      <td>0</td>\n",
       "      <td></td>\n",
       "      <td>NaN</td>\n",
       "      <td>NaN</td>\n",
       "      <td>NaN</td>\n",
       "      <td>NaN</td>\n",
       "      <td>NaN</td>\n",
       "      <td>[]</td>\n",
       "      <td>[]</td>\n",
       "      <td>Dine-out</td>\n",
       "      <td>Rajajinagar</td>\n",
       "    </tr>\n",
       "  </tbody>\n",
       "</table>\n",
       "</div>"
      ],
      "text/plain": [
       "                                                     url  \\\n",
       "1662   https://www.zomato.com/bangalore/papa-khan-ras...   \n",
       "9874   https://www.zomato.com/bangalore/papa-khan-ras...   \n",
       "13693  https://www.zomato.com/bangalore/mohabbat-desi...   \n",
       "16351  https://www.zomato.com/bangalore/desi-chatkara...   \n",
       "26432  https://www.zomato.com/bangalore/new-taj-birya...   \n",
       "26519  https://www.zomato.com/bangalore/abs-absolute-...   \n",
       "27672  https://www.zomato.com/bangalore/manchow-koram...   \n",
       "28611  https://www.zomato.com/bangalore/manchow-koram...   \n",
       "29298  https://www.zomato.com/bangalore/abs-absolute-...   \n",
       "30604  https://www.zomato.com/bangalore/manchow-koram...   \n",
       "31400  https://www.zomato.com/bangalore/manchow-koram...   \n",
       "32131  https://www.zomato.com/bangalore/abs-absolute-...   \n",
       "33457  https://www.zomato.com/bangalore/la-lunch-box-...   \n",
       "34755  https://www.zomato.com/bangalore/abs-absolute-...   \n",
       "40354  https://www.zomato.com/bangalore/the-happy-veg...   \n",
       "40556  https://www.zomato.com/bangalore/risalo-restau...   \n",
       "41980  https://www.zomato.com/bangalore/risalo-restau...   \n",
       "46586  https://www.zomato.com/bangalore/the-cinema-vi...   \n",
       "46609  https://www.zomato.com/bangalore/grill-biryani...   \n",
       "46752  https://www.zomato.com/bangalore/the-happy-veg...   \n",
       "47134  https://www.zomato.com/bangalore/the-cinema-vi...   \n",
       "\n",
       "                                                 address  \\\n",
       "1662   6, Abbiah Layout KC Halli Main Road, Bommanaha...   \n",
       "9874   6, Abbiah Layout KC Halli Main Road, Bommanaha...   \n",
       "13693  Chandapura- Anakal Main Road, Oppsite Vemana H...   \n",
       "16351                Kudlu Gate, Bommanahalli, Bangalore   \n",
       "26432  IB Road, Lorry Stand, Kushaal Nagar, Ward 10, ...   \n",
       "26519                   Koramangala 8th Block, Bangalore   \n",
       "27672  6, Kathalipalya Village, 6th Cross, Koramangal...   \n",
       "28611  6, Kathalipalya Village, 6th Cross, Koramangal...   \n",
       "29298                   Koramangala 8th Block, Bangalore   \n",
       "30604  6, Kathalipalya Village, 6th Cross, Koramangal...   \n",
       "31400  6, Kathalipalya Village, 6th Cross, Koramangal...   \n",
       "32131                   Koramangala 8th Block, Bangalore   \n",
       "33457     80 Feet Road, Koramangala 4th Block, Bangalore   \n",
       "34755                   Koramangala 8th Block, Bangalore   \n",
       "40354  399/34, 19th Main, Near Navarang Theatre, 2nd ...   \n",
       "40556  1630, 6th Main Road, AECS Layout E Block, Mara...   \n",
       "41980  1630, 6th Main Road, AECS Layout E Block, Mara...   \n",
       "46586     9, Magadi Main Road, Cholourpalya, Vijay Nagar   \n",
       "46609  West of Chord Road, Govindaraja Nagar, Below H...   \n",
       "46752  399/34, 19th Main, Near Navarang Theatre, 2nd ...   \n",
       "47134     9, Magadi Main Road, Cholourpalya, Vijay Nagar   \n",
       "\n",
       "                            name online_order book_table rate  votes phone  \\\n",
       "1662             Papa Khan Rasoi           No         No           0         \n",
       "9874             Papa Khan Rasoi           No         No           0         \n",
       "13693   Mohabbat Desi Restaurant           No         No           0         \n",
       "16351              Desi Chatkara           No         No           0         \n",
       "26432     New Taj Biryani Centre           No         No           0         \n",
       "26519  AB's - Absolute Barbecues           No         No           0         \n",
       "27672                    Manchow           No         No           0         \n",
       "28611                    Manchow           No         No           0         \n",
       "29298  AB's - Absolute Barbecues           No         No           0         \n",
       "30604                    Manchow           No         No           0         \n",
       "31400                    Manchow           No         No           0         \n",
       "32131  AB's - Absolute Barbecues           No         No           0         \n",
       "33457               La Lunch Box           No         No           0         \n",
       "34755  AB's - Absolute Barbecues           No         No           0         \n",
       "40354       The Happy Vegetarian           No         No           0         \n",
       "40556          Risalo Restaurant           No         No           0         \n",
       "41980          Risalo Restaurant           No         No           0         \n",
       "46586                 The Cinema           No         No           0         \n",
       "46609             Grill Biryanis           No         No           0         \n",
       "46752       The Happy Vegetarian           No         No           0         \n",
       "47134                 The Cinema           No         No           0         \n",
       "\n",
       "      location rest_type dish_liked cuisines approx_cost(for two people)  \\\n",
       "1662       NaN       NaN        NaN      NaN                         NaN   \n",
       "9874       NaN       NaN        NaN      NaN                         NaN   \n",
       "13693      NaN       NaN        NaN      NaN                         NaN   \n",
       "16351      NaN       NaN        NaN      NaN                         NaN   \n",
       "26432      NaN       NaN        NaN      NaN                         NaN   \n",
       "26519      NaN       NaN        NaN      NaN                         NaN   \n",
       "27672      NaN       NaN        NaN      NaN                         NaN   \n",
       "28611      NaN       NaN        NaN      NaN                         NaN   \n",
       "29298      NaN       NaN        NaN      NaN                         NaN   \n",
       "30604      NaN       NaN        NaN      NaN                         NaN   \n",
       "31400      NaN       NaN        NaN      NaN                         NaN   \n",
       "32131      NaN       NaN        NaN      NaN                         NaN   \n",
       "33457      NaN       NaN        NaN      NaN                         NaN   \n",
       "34755      NaN       NaN        NaN      NaN                         NaN   \n",
       "40354      NaN       NaN        NaN      NaN                         NaN   \n",
       "40556      NaN       NaN        NaN      NaN                         NaN   \n",
       "41980      NaN       NaN        NaN      NaN                         NaN   \n",
       "46586      NaN       NaN        NaN      NaN                         NaN   \n",
       "46609      NaN       NaN        NaN      NaN                         NaN   \n",
       "46752      NaN       NaN        NaN      NaN                         NaN   \n",
       "47134      NaN       NaN        NaN      NaN                         NaN   \n",
       "\n",
       "      reviews_list menu_item listed_in(type)        listed_in(city)  \n",
       "1662            []        []        Delivery      Bannerghatta Road  \n",
       "9874            []        []        Delivery                    BTM  \n",
       "13693           []        []        Delivery        Electronic City  \n",
       "16351           []        []        Delivery                    HSR  \n",
       "26432           []        []        Dine-out           Kammanahalli  \n",
       "26519           []        []          Buffet  Koramangala 4th Block  \n",
       "27672           []        []        Delivery  Koramangala 4th Block  \n",
       "28611           []        []        Dine-out  Koramangala 4th Block  \n",
       "29298           []        []          Buffet  Koramangala 5th Block  \n",
       "30604           []        []        Delivery  Koramangala 5th Block  \n",
       "31400           []        []        Dine-out  Koramangala 5th Block  \n",
       "32131           []        []          Buffet  Koramangala 6th Block  \n",
       "33457           []        []        Delivery  Koramangala 6th Block  \n",
       "34755           []        []          Buffet  Koramangala 7th Block  \n",
       "40354           []        []        Dine-out           Malleshwaram  \n",
       "40556           []        []           Cafes           Marathahalli  \n",
       "41980           []        []        Dine-out           Marathahalli  \n",
       "46586           []        []        Delivery            Rajajinagar  \n",
       "46609           []        []        Delivery            Rajajinagar  \n",
       "46752           []        []        Dine-out            Rajajinagar  \n",
       "47134           []        []        Dine-out            Rajajinagar  "
      ]
     },
     "execution_count": 21,
     "metadata": {},
     "output_type": "execute_result"
    }
   ],
   "source": [
    "df[df[\"location\"].isnull()]"
   ]
  },
  {
   "cell_type": "code",
   "execution_count": 22,
   "id": "9c78f690",
   "metadata": {},
   "outputs": [
    {
     "data": {
      "text/plain": [
       "np.int64(0)"
      ]
     },
     "execution_count": 22,
     "metadata": {},
     "output_type": "execute_result"
    }
   ],
   "source": [
    "df[\"phone\"].replace(np.nan, \"\", regex=True, inplace=True)\n",
    "df[\"phone\"].isnull().sum()"
   ]
  },
  {
   "cell_type": "markdown",
   "id": "0e22e1c6",
   "metadata": {},
   "source": [
    "### COLUMN REST_TYPE\n"
   ]
  },
  {
   "cell_type": "code",
   "execution_count": 23,
   "id": "e6ebdccc",
   "metadata": {},
   "outputs": [
    {
     "data": {
      "text/plain": [
       "np.int64(227)"
      ]
     },
     "execution_count": 23,
     "metadata": {},
     "output_type": "execute_result"
    }
   ],
   "source": [
    "df[\"rest_type\"].isnull().sum()"
   ]
  },
  {
   "cell_type": "code",
   "execution_count": 24,
   "id": "0a64a694",
   "metadata": {},
   "outputs": [
    {
     "data": {
      "text/html": [
       "<div>\n",
       "<style scoped>\n",
       "    .dataframe tbody tr th:only-of-type {\n",
       "        vertical-align: middle;\n",
       "    }\n",
       "\n",
       "    .dataframe tbody tr th {\n",
       "        vertical-align: top;\n",
       "    }\n",
       "\n",
       "    .dataframe thead th {\n",
       "        text-align: right;\n",
       "    }\n",
       "</style>\n",
       "<table border=\"1\" class=\"dataframe\">\n",
       "  <thead>\n",
       "    <tr style=\"text-align: right;\">\n",
       "      <th></th>\n",
       "      <th>url</th>\n",
       "      <th>address</th>\n",
       "      <th>name</th>\n",
       "      <th>online_order</th>\n",
       "      <th>book_table</th>\n",
       "      <th>rate</th>\n",
       "      <th>votes</th>\n",
       "      <th>phone</th>\n",
       "      <th>location</th>\n",
       "      <th>rest_type</th>\n",
       "      <th>dish_liked</th>\n",
       "      <th>cuisines</th>\n",
       "      <th>approx_cost(for two people)</th>\n",
       "      <th>reviews_list</th>\n",
       "      <th>menu_item</th>\n",
       "      <th>listed_in(type)</th>\n",
       "      <th>listed_in(city)</th>\n",
       "    </tr>\n",
       "  </thead>\n",
       "  <tbody>\n",
       "    <tr>\n",
       "      <th>999</th>\n",
       "      <td>https://www.zomato.com/bangalore/mughlai-kitch...</td>\n",
       "      <td>77/2 BDA Road, Opposite RR Layout, BTM 6th Sta...</td>\n",
       "      <td>Mughlai Kitchen</td>\n",
       "      <td>Yes</td>\n",
       "      <td>No</td>\n",
       "      <td>3.5/5</td>\n",
       "      <td>269</td>\n",
       "      <td>+91 9663197947\\r\\r\\n+91 9986692090</td>\n",
       "      <td>BTM</td>\n",
       "      <td>NaN</td>\n",
       "      <td>Momos, Oreo Shake</td>\n",
       "      <td>Mughlai, North Indian, Chinese, Momos</td>\n",
       "      <td>600</td>\n",
       "      <td>[('Rated 5.0', \"RATED\\n  Ordered Chicken Kadai...</td>\n",
       "      <td>['Fry Chicken Kabab [5 Pieces]', 'Fry Chicken ...</td>\n",
       "      <td>Delivery</td>\n",
       "      <td>Bannerghatta Road</td>\n",
       "    </tr>\n",
       "    <tr>\n",
       "      <th>1300</th>\n",
       "      <td>https://www.zomato.com/bangalore/eat-joy-resta...</td>\n",
       "      <td>21, Saifee Apartment, 5th Cross, 22nd Main, Ne...</td>\n",
       "      <td>Eat &amp; Joy Restaurant</td>\n",
       "      <td>Yes</td>\n",
       "      <td>No</td>\n",
       "      <td>3.0/5</td>\n",
       "      <td>7</td>\n",
       "      <td>+91 9945052352</td>\n",
       "      <td>JP Nagar</td>\n",
       "      <td>NaN</td>\n",
       "      <td>NaN</td>\n",
       "      <td>Fast Food, Finger Food</td>\n",
       "      <td>300</td>\n",
       "      <td>[('Rated 1.0', 'RATED\\n  I had ordered for one...</td>\n",
       "      <td>[]</td>\n",
       "      <td>Delivery</td>\n",
       "      <td>Bannerghatta Road</td>\n",
       "    </tr>\n",
       "    <tr>\n",
       "      <th>1376</th>\n",
       "      <td>https://www.zomato.com/bangalore/kababish-rest...</td>\n",
       "      <td>7th Main, 18th Cross NS Palya, 2nd Stage</td>\n",
       "      <td>Kababish Restaurant</td>\n",
       "      <td>Yes</td>\n",
       "      <td>No</td>\n",
       "      <td>3.6/5</td>\n",
       "      <td>15</td>\n",
       "      <td>+91 8050732123\\r\\n00 805074123</td>\n",
       "      <td>BTM</td>\n",
       "      <td>NaN</td>\n",
       "      <td>NaN</td>\n",
       "      <td>North Indian, Chinese, Arabian</td>\n",
       "      <td>700</td>\n",
       "      <td>[('Rated 2.0', 'RATED\\n  You would only go to ...</td>\n",
       "      <td>[]</td>\n",
       "      <td>Delivery</td>\n",
       "      <td>Bannerghatta Road</td>\n",
       "    </tr>\n",
       "    <tr>\n",
       "      <th>1565</th>\n",
       "      <td>https://www.zomato.com/bangalore/goli-vada-pav...</td>\n",
       "      <td>81/3, Hulimavu Road, Opposite Meenakshi Mall, ...</td>\n",
       "      <td>Goli Vada Pav No 1</td>\n",
       "      <td>No</td>\n",
       "      <td>No</td>\n",
       "      <td></td>\n",
       "      <td>0</td>\n",
       "      <td>+91 9900561532\\r\\n+91 8971051846</td>\n",
       "      <td>Bannerghatta Road</td>\n",
       "      <td>NaN</td>\n",
       "      <td>NaN</td>\n",
       "      <td>Street Food, Burger</td>\n",
       "      <td>150</td>\n",
       "      <td>[]</td>\n",
       "      <td>[]</td>\n",
       "      <td>Delivery</td>\n",
       "      <td>Bannerghatta Road</td>\n",
       "    </tr>\n",
       "    <tr>\n",
       "      <th>1637</th>\n",
       "      <td>https://www.zomato.com/bangalore/ammis-biryani...</td>\n",
       "      <td>3, 1st Cross, Kalyani Kala Mandir, Bannerghatt...</td>\n",
       "      <td>Ammi's Biryani</td>\n",
       "      <td>No</td>\n",
       "      <td>No</td>\n",
       "      <td>2.4/5</td>\n",
       "      <td>392</td>\n",
       "      <td>+91 9513777152\\r\\n080 39457777</td>\n",
       "      <td>Bannerghatta Road</td>\n",
       "      <td>NaN</td>\n",
       "      <td>Chicken Biryani, Hyderabadi Biryani, Rolls, Mu...</td>\n",
       "      <td>Biryani, North Indian</td>\n",
       "      <td>500</td>\n",
       "      <td>[('Rated 3.0', 'RATED\\n  If you a spicy biriya...</td>\n",
       "      <td>[]</td>\n",
       "      <td>Delivery</td>\n",
       "      <td>Bannerghatta Road</td>\n",
       "    </tr>\n",
       "  </tbody>\n",
       "</table>\n",
       "</div>"
      ],
      "text/plain": [
       "                                                    url  \\\n",
       "999   https://www.zomato.com/bangalore/mughlai-kitch...   \n",
       "1300  https://www.zomato.com/bangalore/eat-joy-resta...   \n",
       "1376  https://www.zomato.com/bangalore/kababish-rest...   \n",
       "1565  https://www.zomato.com/bangalore/goli-vada-pav...   \n",
       "1637  https://www.zomato.com/bangalore/ammis-biryani...   \n",
       "\n",
       "                                                address                  name  \\\n",
       "999   77/2 BDA Road, Opposite RR Layout, BTM 6th Sta...       Mughlai Kitchen   \n",
       "1300  21, Saifee Apartment, 5th Cross, 22nd Main, Ne...  Eat & Joy Restaurant   \n",
       "1376           7th Main, 18th Cross NS Palya, 2nd Stage   Kababish Restaurant   \n",
       "1565  81/3, Hulimavu Road, Opposite Meenakshi Mall, ...    Goli Vada Pav No 1   \n",
       "1637  3, 1st Cross, Kalyani Kala Mandir, Bannerghatt...        Ammi's Biryani   \n",
       "\n",
       "     online_order book_table   rate  votes  \\\n",
       "999           Yes         No  3.5/5    269   \n",
       "1300          Yes         No  3.0/5      7   \n",
       "1376          Yes         No  3.6/5     15   \n",
       "1565           No         No             0   \n",
       "1637           No         No  2.4/5    392   \n",
       "\n",
       "                                   phone           location rest_type  \\\n",
       "999   +91 9663197947\\r\\r\\n+91 9986692090                BTM       NaN   \n",
       "1300                      +91 9945052352           JP Nagar       NaN   \n",
       "1376      +91 8050732123\\r\\n00 805074123                BTM       NaN   \n",
       "1565    +91 9900561532\\r\\n+91 8971051846  Bannerghatta Road       NaN   \n",
       "1637      +91 9513777152\\r\\n080 39457777  Bannerghatta Road       NaN   \n",
       "\n",
       "                                             dish_liked  \\\n",
       "999                                   Momos, Oreo Shake   \n",
       "1300                                                NaN   \n",
       "1376                                                NaN   \n",
       "1565                                                NaN   \n",
       "1637  Chicken Biryani, Hyderabadi Biryani, Rolls, Mu...   \n",
       "\n",
       "                                   cuisines approx_cost(for two people)  \\\n",
       "999   Mughlai, North Indian, Chinese, Momos                         600   \n",
       "1300                 Fast Food, Finger Food                         300   \n",
       "1376         North Indian, Chinese, Arabian                         700   \n",
       "1565                    Street Food, Burger                         150   \n",
       "1637                  Biryani, North Indian                         500   \n",
       "\n",
       "                                           reviews_list  \\\n",
       "999   [('Rated 5.0', \"RATED\\n  Ordered Chicken Kadai...   \n",
       "1300  [('Rated 1.0', 'RATED\\n  I had ordered for one...   \n",
       "1376  [('Rated 2.0', 'RATED\\n  You would only go to ...   \n",
       "1565                                                 []   \n",
       "1637  [('Rated 3.0', 'RATED\\n  If you a spicy biriya...   \n",
       "\n",
       "                                              menu_item listed_in(type)  \\\n",
       "999   ['Fry Chicken Kabab [5 Pieces]', 'Fry Chicken ...        Delivery   \n",
       "1300                                                 []        Delivery   \n",
       "1376                                                 []        Delivery   \n",
       "1565                                                 []        Delivery   \n",
       "1637                                                 []        Delivery   \n",
       "\n",
       "        listed_in(city)  \n",
       "999   Bannerghatta Road  \n",
       "1300  Bannerghatta Road  \n",
       "1376  Bannerghatta Road  \n",
       "1565  Bannerghatta Road  \n",
       "1637  Bannerghatta Road  "
      ]
     },
     "execution_count": 24,
     "metadata": {},
     "output_type": "execute_result"
    }
   ],
   "source": [
    "df[df[\"rest_type\"].isnull()].head()"
   ]
  },
  {
   "cell_type": "code",
   "execution_count": 25,
   "id": "e1d4f786",
   "metadata": {},
   "outputs": [
    {
     "name": "stderr",
     "output_type": "stream",
     "text": [
      "/var/folders/k5/31v5qtn906158jhjx2lmfxwr0000gn/T/ipykernel_7769/771183497.py:1: FutureWarning: A value is trying to be set on a copy of a DataFrame or Series through chained assignment using an inplace method.\n",
      "The behavior will change in pandas 3.0. This inplace method will never work because the intermediate object on which we are setting values always behaves as a copy.\n",
      "\n",
      "For example, when doing 'df[col].method(value, inplace=True)', try using 'df.method({col: value}, inplace=True)' or df[col] = df[col].method(value) instead, to perform the operation inplace on the original object.\n",
      "\n",
      "\n",
      "  df[\"rest_type\"].replace(np.nan, \"\", regex=True, inplace=True)\n"
     ]
    },
    {
     "data": {
      "text/plain": [
       "np.int64(0)"
      ]
     },
     "execution_count": 25,
     "metadata": {},
     "output_type": "execute_result"
    }
   ],
   "source": [
    "df[\"rest_type\"].replace(np.nan, \"\", regex=True, inplace=True)\n",
    "df[\"rest_type\"].isnull().sum()"
   ]
  },
  {
   "cell_type": "markdown",
   "id": "6e6cbfaf",
   "metadata": {},
   "source": [
    "### COLUMN DISH_LIKED\n"
   ]
  },
  {
   "cell_type": "code",
   "execution_count": 26,
   "id": "c5028573",
   "metadata": {},
   "outputs": [
    {
     "data": {
      "text/plain": [
       "np.int64(28078)"
      ]
     },
     "execution_count": 26,
     "metadata": {},
     "output_type": "execute_result"
    }
   ],
   "source": [
    "df[\"dish_liked\"].isnull().sum()"
   ]
  },
  {
   "cell_type": "code",
   "execution_count": 27,
   "id": "19509078",
   "metadata": {},
   "outputs": [
    {
     "data": {
      "text/plain": [
       "np.int64(0)"
      ]
     },
     "execution_count": 27,
     "metadata": {},
     "output_type": "execute_result"
    }
   ],
   "source": [
    "(df[\"dish_liked\"]==\"\").sum()"
   ]
  },
  {
   "cell_type": "code",
   "execution_count": 28,
   "id": "2191448f",
   "metadata": {},
   "outputs": [
    {
     "name": "stderr",
     "output_type": "stream",
     "text": [
      "/var/folders/k5/31v5qtn906158jhjx2lmfxwr0000gn/T/ipykernel_7769/364070377.py:1: FutureWarning: A value is trying to be set on a copy of a DataFrame or Series through chained assignment using an inplace method.\n",
      "The behavior will change in pandas 3.0. This inplace method will never work because the intermediate object on which we are setting values always behaves as a copy.\n",
      "\n",
      "For example, when doing 'df[col].method(value, inplace=True)', try using 'df.method({col: value}, inplace=True)' or df[col] = df[col].method(value) instead, to perform the operation inplace on the original object.\n",
      "\n",
      "\n",
      "  df[\"dish_liked\"].replace(np.nan, \"\",regex=True, inplace=True)\n"
     ]
    },
    {
     "data": {
      "text/plain": [
       "np.int64(0)"
      ]
     },
     "execution_count": 28,
     "metadata": {},
     "output_type": "execute_result"
    }
   ],
   "source": [
    "df[\"dish_liked\"].replace(np.nan, \"\",regex=True, inplace=True)\n",
    "df[\"dish_liked\"].isnull().sum()"
   ]
  },
  {
   "cell_type": "markdown",
   "id": "4acf8305",
   "metadata": {},
   "source": [
    "### COLUMN CUISINES\n"
   ]
  },
  {
   "cell_type": "code",
   "execution_count": 29,
   "id": "0369107e",
   "metadata": {},
   "outputs": [
    {
     "data": {
      "text/plain": [
       "np.int64(45)"
      ]
     },
     "execution_count": 29,
     "metadata": {},
     "output_type": "execute_result"
    }
   ],
   "source": [
    "df[\"cuisines\"].isnull().sum()"
   ]
  },
  {
   "cell_type": "code",
   "execution_count": 30,
   "id": "551e180d",
   "metadata": {},
   "outputs": [
    {
     "name": "stderr",
     "output_type": "stream",
     "text": [
      "/var/folders/k5/31v5qtn906158jhjx2lmfxwr0000gn/T/ipykernel_7769/1296134103.py:1: FutureWarning: A value is trying to be set on a copy of a DataFrame or Series through chained assignment using an inplace method.\n",
      "The behavior will change in pandas 3.0. This inplace method will never work because the intermediate object on which we are setting values always behaves as a copy.\n",
      "\n",
      "For example, when doing 'df[col].method(value, inplace=True)', try using 'df.method({col: value}, inplace=True)' or df[col] = df[col].method(value) instead, to perform the operation inplace on the original object.\n",
      "\n",
      "\n",
      "  df[\"cuisines\"].replace(np.nan, \"\", regex=True, inplace=True)\n"
     ]
    },
    {
     "data": {
      "text/plain": [
       "np.int64(0)"
      ]
     },
     "execution_count": 30,
     "metadata": {},
     "output_type": "execute_result"
    }
   ],
   "source": [
    "df[\"cuisines\"].replace(np.nan, \"\", regex=True, inplace=True)\n",
    "df[\"cuisines\"].isnull().sum()"
   ]
  },
  {
   "cell_type": "markdown",
   "id": "37e9d14f",
   "metadata": {},
   "source": [
    "### COLUMN APPROX_COST(FOR TWO PEOPLE)\n"
   ]
  },
  {
   "cell_type": "code",
   "execution_count": 31,
   "id": "7954d222",
   "metadata": {},
   "outputs": [
    {
     "data": {
      "text/plain": [
       "0          800\n",
       "1          800\n",
       "2          800\n",
       "3          300\n",
       "4          600\n",
       "         ...  \n",
       "51712    1,500\n",
       "51713      600\n",
       "51714    2,000\n",
       "51715    2,500\n",
       "51716    1,500\n",
       "Name: approx_cost(for two people), Length: 51717, dtype: object"
      ]
     },
     "execution_count": 31,
     "metadata": {},
     "output_type": "execute_result"
    }
   ],
   "source": [
    "df[\"approx_cost(for two people)\"]"
   ]
  },
  {
   "cell_type": "code",
   "execution_count": 32,
   "id": "87e9b43e",
   "metadata": {},
   "outputs": [
    {
     "data": {
      "text/plain": [
       "array(['800', '300', '600', '700', '550', '500', '450', '650', '400',\n",
       "       '900', '200', '750', '150', '850', '100', '1,200', '350', '250',\n",
       "       '950', '1,000', '1,500', '1,300', '199', '80', '1,100', '160',\n",
       "       '1,600', '230', '130', '50', '190', '1,700', nan, '1,400', '180',\n",
       "       '1,350', '2,200', '2,000', '1,800', '1,900', '330', '2,500',\n",
       "       '2,100', '3,000', '2,800', '3,400', '40', '1,250', '3,500',\n",
       "       '4,000', '2,400', '2,600', '120', '1,450', '469', '70', '3,200',\n",
       "       '60', '560', '240', '360', '6,000', '1,050', '2,300', '4,100',\n",
       "       '5,000', '3,700', '1,650', '2,700', '4,500', '140'], dtype=object)"
      ]
     },
     "execution_count": 32,
     "metadata": {},
     "output_type": "execute_result"
    }
   ],
   "source": [
    "df[\"approx_cost(for two people)\"].unique()"
   ]
  },
  {
   "cell_type": "code",
   "execution_count": 33,
   "id": "9caaceb1",
   "metadata": {},
   "outputs": [
    {
     "data": {
      "text/plain": [
       "dtype('O')"
      ]
     },
     "execution_count": 33,
     "metadata": {},
     "output_type": "execute_result"
    }
   ],
   "source": [
    "df[\"approx_cost(for two people)\"].dtype"
   ]
  },
  {
   "cell_type": "code",
   "execution_count": 34,
   "id": "36e95977",
   "metadata": {},
   "outputs": [
    {
     "data": {
      "text/plain": [
       "np.int64(0)"
      ]
     },
     "execution_count": 34,
     "metadata": {},
     "output_type": "execute_result"
    }
   ],
   "source": [
    "df[\"approx_cost(for two people)\"].replace(np.nan, \"\", regex=True, inplace=True)\n",
    "df[\"approx_cost(for two people)\"].isnull().sum()"
   ]
  },
  {
   "cell_type": "markdown",
   "id": "3c93107e",
   "metadata": {},
   "source": [
    "### COLUMN REVIEWS_LIST"
   ]
  },
  {
   "cell_type": "code",
   "execution_count": 35,
   "id": "2d880b69",
   "metadata": {},
   "outputs": [
    {
     "data": {
      "text/plain": [
       "np.int64(0)"
      ]
     },
     "execution_count": 35,
     "metadata": {},
     "output_type": "execute_result"
    }
   ],
   "source": [
    "df[\"reviews_list\"].isnull().sum()"
   ]
  },
  {
   "cell_type": "code",
   "execution_count": 36,
   "id": "8b8eaeb7",
   "metadata": {},
   "outputs": [
    {
     "data": {
      "text/plain": [
       "np.int64(7595)"
      ]
     },
     "execution_count": 36,
     "metadata": {},
     "output_type": "execute_result"
    }
   ],
   "source": [
    "(df[\"reviews_list\"]==\"[]\").sum()"
   ]
  },
  {
   "cell_type": "code",
   "execution_count": 37,
   "id": "41956812",
   "metadata": {},
   "outputs": [
    {
     "data": {
      "text/plain": [
       "0    [(Rated 4.0, RATED\\n  A beautiful place to din...\n",
       "1    [(Rated 4.0, RATED\\n  Had been here for dinner...\n",
       "2    [(Rated 3.0, RATED\\n  Ambience is not that goo...\n",
       "3    [(Rated 4.0, RATED\\n  Great food and proper Ka...\n",
       "4    [(Rated 4.0, RATED\\n  Very good restaurant in ...\n",
       "Name: reviews_list, dtype: object"
      ]
     },
     "execution_count": 37,
     "metadata": {},
     "output_type": "execute_result"
    }
   ],
   "source": [
    "df[\"reviews_list\"] = df[\"reviews_list\"].apply(ast.literal_eval)\n",
    "df[\"reviews_list\"].head()"
   ]
  },
  {
   "cell_type": "code",
   "execution_count": 38,
   "id": "11d3fbc7",
   "metadata": {},
   "outputs": [
    {
     "data": {
      "text/html": [
       "<div>\n",
       "<style scoped>\n",
       "    .dataframe tbody tr th:only-of-type {\n",
       "        vertical-align: middle;\n",
       "    }\n",
       "\n",
       "    .dataframe tbody tr th {\n",
       "        vertical-align: top;\n",
       "    }\n",
       "\n",
       "    .dataframe thead th {\n",
       "        text-align: right;\n",
       "    }\n",
       "</style>\n",
       "<table border=\"1\" class=\"dataframe\">\n",
       "  <thead>\n",
       "    <tr style=\"text-align: right;\">\n",
       "      <th></th>\n",
       "      <th>url</th>\n",
       "      <th>address</th>\n",
       "      <th>name</th>\n",
       "      <th>online_order</th>\n",
       "      <th>book_table</th>\n",
       "      <th>rate</th>\n",
       "      <th>votes</th>\n",
       "      <th>phone</th>\n",
       "      <th>location</th>\n",
       "      <th>rest_type</th>\n",
       "      <th>dish_liked</th>\n",
       "      <th>cuisines</th>\n",
       "      <th>approx_cost(for two people)</th>\n",
       "      <th>reviews_list</th>\n",
       "      <th>menu_item</th>\n",
       "      <th>listed_in(type)</th>\n",
       "      <th>listed_in(city)</th>\n",
       "    </tr>\n",
       "  </thead>\n",
       "  <tbody>\n",
       "    <tr>\n",
       "      <th>0</th>\n",
       "      <td>https://www.zomato.com/bangalore/jalsa-banasha...</td>\n",
       "      <td>942, 21st Main Road, 2nd Stage, Banashankari, ...</td>\n",
       "      <td>Jalsa</td>\n",
       "      <td>Yes</td>\n",
       "      <td>Yes</td>\n",
       "      <td>4.1/5</td>\n",
       "      <td>775</td>\n",
       "      <td>080 42297555\\r\\n+91 9743772233</td>\n",
       "      <td>Banashankari</td>\n",
       "      <td>Casual Dining</td>\n",
       "      <td>Pasta, Lunch Buffet, Masala Papad, Paneer Laja...</td>\n",
       "      <td>North Indian, Mughlai, Chinese</td>\n",
       "      <td>800</td>\n",
       "      <td>[(Rated 4.0, RATED\\n  A beautiful place to din...</td>\n",
       "      <td>[]</td>\n",
       "      <td>Buffet</td>\n",
       "      <td>Banashankari</td>\n",
       "    </tr>\n",
       "    <tr>\n",
       "      <th>1</th>\n",
       "      <td>https://www.zomato.com/bangalore/spice-elephan...</td>\n",
       "      <td>2nd Floor, 80 Feet Road, Near Big Bazaar, 6th ...</td>\n",
       "      <td>Spice Elephant</td>\n",
       "      <td>Yes</td>\n",
       "      <td>No</td>\n",
       "      <td>4.1/5</td>\n",
       "      <td>787</td>\n",
       "      <td>080 41714161</td>\n",
       "      <td>Banashankari</td>\n",
       "      <td>Casual Dining</td>\n",
       "      <td>Momos, Lunch Buffet, Chocolate Nirvana, Thai G...</td>\n",
       "      <td>Chinese, North Indian, Thai</td>\n",
       "      <td>800</td>\n",
       "      <td>[(Rated 4.0, RATED\\n  Had been here for dinner...</td>\n",
       "      <td>[]</td>\n",
       "      <td>Buffet</td>\n",
       "      <td>Banashankari</td>\n",
       "    </tr>\n",
       "    <tr>\n",
       "      <th>2</th>\n",
       "      <td>https://www.zomato.com/SanchurroBangalore?cont...</td>\n",
       "      <td>1112, Next to KIMS Medical College, 17th Cross...</td>\n",
       "      <td>San Churro Cafe</td>\n",
       "      <td>Yes</td>\n",
       "      <td>No</td>\n",
       "      <td>3.8/5</td>\n",
       "      <td>918</td>\n",
       "      <td>+91 9663487993</td>\n",
       "      <td>Banashankari</td>\n",
       "      <td>Cafe, Casual Dining</td>\n",
       "      <td>Churros, Cannelloni, Minestrone Soup, Hot Choc...</td>\n",
       "      <td>Cafe, Mexican, Italian</td>\n",
       "      <td>800</td>\n",
       "      <td>[(Rated 3.0, RATED\\n  Ambience is not that goo...</td>\n",
       "      <td>[]</td>\n",
       "      <td>Buffet</td>\n",
       "      <td>Banashankari</td>\n",
       "    </tr>\n",
       "    <tr>\n",
       "      <th>3</th>\n",
       "      <td>https://www.zomato.com/bangalore/addhuri-udupi...</td>\n",
       "      <td>1st Floor, Annakuteera, 3rd Stage, Banashankar...</td>\n",
       "      <td>Addhuri Udupi Bhojana</td>\n",
       "      <td>No</td>\n",
       "      <td>No</td>\n",
       "      <td>3.7/5</td>\n",
       "      <td>88</td>\n",
       "      <td>+91 9620009302</td>\n",
       "      <td>Banashankari</td>\n",
       "      <td>Quick Bites</td>\n",
       "      <td>Masala Dosa</td>\n",
       "      <td>South Indian, North Indian</td>\n",
       "      <td>300</td>\n",
       "      <td>[(Rated 4.0, RATED\\n  Great food and proper Ka...</td>\n",
       "      <td>[]</td>\n",
       "      <td>Buffet</td>\n",
       "      <td>Banashankari</td>\n",
       "    </tr>\n",
       "    <tr>\n",
       "      <th>4</th>\n",
       "      <td>https://www.zomato.com/bangalore/grand-village...</td>\n",
       "      <td>10, 3rd Floor, Lakshmi Associates, Gandhi Baza...</td>\n",
       "      <td>Grand Village</td>\n",
       "      <td>No</td>\n",
       "      <td>No</td>\n",
       "      <td>3.8/5</td>\n",
       "      <td>166</td>\n",
       "      <td>+91 8026612447\\r\\n+91 9901210005</td>\n",
       "      <td>Basavanagudi</td>\n",
       "      <td>Casual Dining</td>\n",
       "      <td>Panipuri, Gol Gappe</td>\n",
       "      <td>North Indian, Rajasthani</td>\n",
       "      <td>600</td>\n",
       "      <td>[(Rated 4.0, RATED\\n  Very good restaurant in ...</td>\n",
       "      <td>[]</td>\n",
       "      <td>Buffet</td>\n",
       "      <td>Banashankari</td>\n",
       "    </tr>\n",
       "  </tbody>\n",
       "</table>\n",
       "</div>"
      ],
      "text/plain": [
       "                                                 url  \\\n",
       "0  https://www.zomato.com/bangalore/jalsa-banasha...   \n",
       "1  https://www.zomato.com/bangalore/spice-elephan...   \n",
       "2  https://www.zomato.com/SanchurroBangalore?cont...   \n",
       "3  https://www.zomato.com/bangalore/addhuri-udupi...   \n",
       "4  https://www.zomato.com/bangalore/grand-village...   \n",
       "\n",
       "                                             address                   name  \\\n",
       "0  942, 21st Main Road, 2nd Stage, Banashankari, ...                  Jalsa   \n",
       "1  2nd Floor, 80 Feet Road, Near Big Bazaar, 6th ...         Spice Elephant   \n",
       "2  1112, Next to KIMS Medical College, 17th Cross...        San Churro Cafe   \n",
       "3  1st Floor, Annakuteera, 3rd Stage, Banashankar...  Addhuri Udupi Bhojana   \n",
       "4  10, 3rd Floor, Lakshmi Associates, Gandhi Baza...          Grand Village   \n",
       "\n",
       "  online_order book_table   rate  votes                             phone  \\\n",
       "0          Yes        Yes  4.1/5    775    080 42297555\\r\\n+91 9743772233   \n",
       "1          Yes         No  4.1/5    787                      080 41714161   \n",
       "2          Yes         No  3.8/5    918                    +91 9663487993   \n",
       "3           No         No  3.7/5     88                    +91 9620009302   \n",
       "4           No         No  3.8/5    166  +91 8026612447\\r\\n+91 9901210005   \n",
       "\n",
       "       location            rest_type  \\\n",
       "0  Banashankari        Casual Dining   \n",
       "1  Banashankari        Casual Dining   \n",
       "2  Banashankari  Cafe, Casual Dining   \n",
       "3  Banashankari          Quick Bites   \n",
       "4  Basavanagudi        Casual Dining   \n",
       "\n",
       "                                          dish_liked  \\\n",
       "0  Pasta, Lunch Buffet, Masala Papad, Paneer Laja...   \n",
       "1  Momos, Lunch Buffet, Chocolate Nirvana, Thai G...   \n",
       "2  Churros, Cannelloni, Minestrone Soup, Hot Choc...   \n",
       "3                                        Masala Dosa   \n",
       "4                                Panipuri, Gol Gappe   \n",
       "\n",
       "                         cuisines approx_cost(for two people)  \\\n",
       "0  North Indian, Mughlai, Chinese                         800   \n",
       "1     Chinese, North Indian, Thai                         800   \n",
       "2          Cafe, Mexican, Italian                         800   \n",
       "3      South Indian, North Indian                         300   \n",
       "4        North Indian, Rajasthani                         600   \n",
       "\n",
       "                                        reviews_list menu_item  \\\n",
       "0  [(Rated 4.0, RATED\\n  A beautiful place to din...        []   \n",
       "1  [(Rated 4.0, RATED\\n  Had been here for dinner...        []   \n",
       "2  [(Rated 3.0, RATED\\n  Ambience is not that goo...        []   \n",
       "3  [(Rated 4.0, RATED\\n  Great food and proper Ka...        []   \n",
       "4  [(Rated 4.0, RATED\\n  Very good restaurant in ...        []   \n",
       "\n",
       "  listed_in(type) listed_in(city)  \n",
       "0          Buffet    Banashankari  \n",
       "1          Buffet    Banashankari  \n",
       "2          Buffet    Banashankari  \n",
       "3          Buffet    Banashankari  \n",
       "4          Buffet    Banashankari  "
      ]
     },
     "execution_count": 38,
     "metadata": {},
     "output_type": "execute_result"
    }
   ],
   "source": [
    "df.head()"
   ]
  },
  {
   "cell_type": "code",
   "execution_count": 39,
   "id": "d596a329",
   "metadata": {},
   "outputs": [
    {
     "data": {
      "text/plain": [
       "np.int64(1320051)"
      ]
     },
     "execution_count": 39,
     "metadata": {},
     "output_type": "execute_result"
    }
   ],
   "source": [
    "df[\"reviews_list\"].apply(len).sum()"
   ]
  },
  {
   "cell_type": "markdown",
   "id": "7935521f",
   "metadata": {},
   "source": [
    "### COLUMN MENU_ITEM\n"
   ]
  },
  {
   "cell_type": "code",
   "execution_count": 40,
   "id": "e0cc723b",
   "metadata": {},
   "outputs": [
    {
     "data": {
      "text/plain": [
       "np.int64(0)"
      ]
     },
     "execution_count": 40,
     "metadata": {},
     "output_type": "execute_result"
    }
   ],
   "source": [
    "df[\"menu_item\"].isnull().sum()"
   ]
  },
  {
   "cell_type": "code",
   "execution_count": 41,
   "id": "dadfeddf",
   "metadata": {},
   "outputs": [
    {
     "data": {
      "text/plain": [
       "np.int64(39617)"
      ]
     },
     "execution_count": 41,
     "metadata": {},
     "output_type": "execute_result"
    }
   ],
   "source": [
    "(df[\"menu_item\"]==\"[]\").sum()"
   ]
  },
  {
   "cell_type": "code",
   "execution_count": 42,
   "id": "f81b644e",
   "metadata": {},
   "outputs": [
    {
     "data": {
      "text/plain": [
       "np.int64(1303851)"
      ]
     },
     "execution_count": 42,
     "metadata": {},
     "output_type": "execute_result"
    }
   ],
   "source": [
    "df[\"menu_item\"] = df[\"menu_item\"].apply(ast.literal_eval)\n",
    "df[\"menu_item\"].apply(len).sum()"
   ]
  },
  {
   "cell_type": "markdown",
   "id": "a99cede4",
   "metadata": {},
   "source": [
    "### COLUMN LISTED_IN(TYPE)\n"
   ]
  },
  {
   "cell_type": "code",
   "execution_count": 43,
   "id": "74955491",
   "metadata": {},
   "outputs": [
    {
     "data": {
      "text/plain": [
       "array(['Buffet', 'Cafes', 'Delivery', 'Desserts', 'Dine-out',\n",
       "       'Drinks & nightlife', 'Pubs and bars'], dtype=object)"
      ]
     },
     "execution_count": 43,
     "metadata": {},
     "output_type": "execute_result"
    }
   ],
   "source": [
    "df[\"listed_in(type)\"].unique()"
   ]
  },
  {
   "cell_type": "markdown",
   "id": "c9b3c905",
   "metadata": {},
   "source": [
    "### COLUMN LISTED_IN(CITY)"
   ]
  },
  {
   "cell_type": "code",
   "execution_count": 44,
   "id": "a2c9aa22",
   "metadata": {},
   "outputs": [
    {
     "data": {
      "text/plain": [
       "array(['Banashankari', 'Bannerghatta Road', 'Basavanagudi', 'Bellandur',\n",
       "       'Brigade Road', 'Brookefield', 'BTM', 'Church Street',\n",
       "       'Electronic City', 'Frazer Town', 'HSR', 'Indiranagar',\n",
       "       'Jayanagar', 'JP Nagar', 'Kalyan Nagar', 'Kammanahalli',\n",
       "       'Koramangala 4th Block', 'Koramangala 5th Block',\n",
       "       'Koramangala 6th Block', 'Koramangala 7th Block', 'Lavelle Road',\n",
       "       'Malleshwaram', 'Marathahalli', 'MG Road', 'New BEL Road',\n",
       "       'Old Airport Road', 'Rajajinagar', 'Residency Road',\n",
       "       'Sarjapur Road', 'Whitefield'], dtype=object)"
      ]
     },
     "execution_count": 44,
     "metadata": {},
     "output_type": "execute_result"
    }
   ],
   "source": [
    "df[\"listed_in(city)\"].unique()"
   ]
  },
  {
   "cell_type": "code",
   "execution_count": 45,
   "id": "e95a6950",
   "metadata": {},
   "outputs": [
    {
     "data": {
      "text/plain": [
       "30"
      ]
     },
     "execution_count": 45,
     "metadata": {},
     "output_type": "execute_result"
    }
   ],
   "source": [
    "df[\"listed_in(city)\"].nunique()"
   ]
  },
  {
   "cell_type": "markdown",
   "id": "590b9e07",
   "metadata": {},
   "source": [
    "## Data Cleaning Part 2"
   ]
  },
  {
   "cell_type": "code",
   "execution_count": 46,
   "id": "f2dda65b",
   "metadata": {},
   "outputs": [
    {
     "data": {
      "text/plain": [
       "url                            object\n",
       "address                        object\n",
       "name                           object\n",
       "online_order                   object\n",
       "book_table                     object\n",
       "rate                           object\n",
       "votes                           int64\n",
       "phone                          object\n",
       "location                       object\n",
       "rest_type                      object\n",
       "dish_liked                     object\n",
       "cuisines                       object\n",
       "approx_cost(for two people)    object\n",
       "reviews_list                   object\n",
       "menu_item                      object\n",
       "listed_in(type)                object\n",
       "listed_in(city)                object\n",
       "dtype: object"
      ]
     },
     "execution_count": 46,
     "metadata": {},
     "output_type": "execute_result"
    }
   ],
   "source": [
    "df.dtypes"
   ]
  },
  {
   "cell_type": "code",
   "execution_count": 47,
   "id": "b3a541ed",
   "metadata": {},
   "outputs": [],
   "source": [
    "df[\"online_order\"] = df[\"online_order\"].astype(\"category\")\n",
    "df[\"book_table\"] = df[\"book_table\"].astype(\"category\")\n",
    "df[\"location\"] = df[\"location\"].astype(\"category\")\n",
    "df[\"rest_type\"] = df[\"rest_type\"].astype(\"category\")\n",
    "df[\"listed_in(city)\"] = df[\"listed_in(city)\"].astype(\"category\")\n",
    "df[\"listed_in(type)\"] = df[\"listed_in(type)\"].astype(\"category\")"
   ]
  },
  {
   "cell_type": "code",
   "execution_count": 48,
   "id": "4f090b3f",
   "metadata": {},
   "outputs": [
    {
     "data": {
      "text/plain": [
       "url                              object\n",
       "address                          object\n",
       "name                             object\n",
       "online_order                   category\n",
       "book_table                     category\n",
       "rate                             object\n",
       "votes                             int64\n",
       "phone                            object\n",
       "location                       category\n",
       "rest_type                      category\n",
       "dish_liked                       object\n",
       "cuisines                         object\n",
       "approx_cost(for two people)      object\n",
       "reviews_list                     object\n",
       "menu_item                        object\n",
       "listed_in(type)                category\n",
       "listed_in(city)                category\n",
       "dtype: object"
      ]
     },
     "execution_count": 48,
     "metadata": {},
     "output_type": "execute_result"
    }
   ],
   "source": [
    "df.dtypes"
   ]
  },
  {
   "cell_type": "code",
   "execution_count": 49,
   "id": "91d1950f",
   "metadata": {},
   "outputs": [
    {
     "data": {
      "text/html": [
       "<div>\n",
       "<style scoped>\n",
       "    .dataframe tbody tr th:only-of-type {\n",
       "        vertical-align: middle;\n",
       "    }\n",
       "\n",
       "    .dataframe tbody tr th {\n",
       "        vertical-align: top;\n",
       "    }\n",
       "\n",
       "    .dataframe thead th {\n",
       "        text-align: right;\n",
       "    }\n",
       "</style>\n",
       "<table border=\"1\" class=\"dataframe\">\n",
       "  <thead>\n",
       "    <tr style=\"text-align: right;\">\n",
       "      <th></th>\n",
       "      <th>url</th>\n",
       "      <th>address</th>\n",
       "      <th>name</th>\n",
       "      <th>online_order</th>\n",
       "      <th>book_table</th>\n",
       "      <th>rate</th>\n",
       "      <th>votes</th>\n",
       "      <th>phone</th>\n",
       "      <th>location</th>\n",
       "      <th>rest_type</th>\n",
       "      <th>dish_liked</th>\n",
       "      <th>cuisines</th>\n",
       "      <th>approx_cost(for two people)</th>\n",
       "      <th>reviews_list</th>\n",
       "      <th>menu_item</th>\n",
       "      <th>listed_in(type)</th>\n",
       "      <th>listed_in(city)</th>\n",
       "    </tr>\n",
       "  </thead>\n",
       "  <tbody>\n",
       "    <tr>\n",
       "      <th>0</th>\n",
       "      <td>https://www.zomato.com/bangalore/jalsa-banasha...</td>\n",
       "      <td>942, 21st Main Road, 2nd Stage, Banashankari, ...</td>\n",
       "      <td>Jalsa</td>\n",
       "      <td>Yes</td>\n",
       "      <td>Yes</td>\n",
       "      <td>4.1/5</td>\n",
       "      <td>775</td>\n",
       "      <td>080 42297555\\r\\n+91 9743772233</td>\n",
       "      <td>Banashankari</td>\n",
       "      <td>Casual Dining</td>\n",
       "      <td>Pasta, Lunch Buffet, Masala Papad, Paneer Laja...</td>\n",
       "      <td>North Indian, Mughlai, Chinese</td>\n",
       "      <td>800</td>\n",
       "      <td>[(Rated 4.0, RATED\\n  A beautiful place to din...</td>\n",
       "      <td>[]</td>\n",
       "      <td>Buffet</td>\n",
       "      <td>Banashankari</td>\n",
       "    </tr>\n",
       "    <tr>\n",
       "      <th>1</th>\n",
       "      <td>https://www.zomato.com/bangalore/spice-elephan...</td>\n",
       "      <td>2nd Floor, 80 Feet Road, Near Big Bazaar, 6th ...</td>\n",
       "      <td>Spice Elephant</td>\n",
       "      <td>Yes</td>\n",
       "      <td>No</td>\n",
       "      <td>4.1/5</td>\n",
       "      <td>787</td>\n",
       "      <td>080 41714161</td>\n",
       "      <td>Banashankari</td>\n",
       "      <td>Casual Dining</td>\n",
       "      <td>Momos, Lunch Buffet, Chocolate Nirvana, Thai G...</td>\n",
       "      <td>Chinese, North Indian, Thai</td>\n",
       "      <td>800</td>\n",
       "      <td>[(Rated 4.0, RATED\\n  Had been here for dinner...</td>\n",
       "      <td>[]</td>\n",
       "      <td>Buffet</td>\n",
       "      <td>Banashankari</td>\n",
       "    </tr>\n",
       "    <tr>\n",
       "      <th>2</th>\n",
       "      <td>https://www.zomato.com/SanchurroBangalore?cont...</td>\n",
       "      <td>1112, Next to KIMS Medical College, 17th Cross...</td>\n",
       "      <td>San Churro Cafe</td>\n",
       "      <td>Yes</td>\n",
       "      <td>No</td>\n",
       "      <td>3.8/5</td>\n",
       "      <td>918</td>\n",
       "      <td>+91 9663487993</td>\n",
       "      <td>Banashankari</td>\n",
       "      <td>Cafe, Casual Dining</td>\n",
       "      <td>Churros, Cannelloni, Minestrone Soup, Hot Choc...</td>\n",
       "      <td>Cafe, Mexican, Italian</td>\n",
       "      <td>800</td>\n",
       "      <td>[(Rated 3.0, RATED\\n  Ambience is not that goo...</td>\n",
       "      <td>[]</td>\n",
       "      <td>Buffet</td>\n",
       "      <td>Banashankari</td>\n",
       "    </tr>\n",
       "    <tr>\n",
       "      <th>3</th>\n",
       "      <td>https://www.zomato.com/bangalore/addhuri-udupi...</td>\n",
       "      <td>1st Floor, Annakuteera, 3rd Stage, Banashankar...</td>\n",
       "      <td>Addhuri Udupi Bhojana</td>\n",
       "      <td>No</td>\n",
       "      <td>No</td>\n",
       "      <td>3.7/5</td>\n",
       "      <td>88</td>\n",
       "      <td>+91 9620009302</td>\n",
       "      <td>Banashankari</td>\n",
       "      <td>Quick Bites</td>\n",
       "      <td>Masala Dosa</td>\n",
       "      <td>South Indian, North Indian</td>\n",
       "      <td>300</td>\n",
       "      <td>[(Rated 4.0, RATED\\n  Great food and proper Ka...</td>\n",
       "      <td>[]</td>\n",
       "      <td>Buffet</td>\n",
       "      <td>Banashankari</td>\n",
       "    </tr>\n",
       "    <tr>\n",
       "      <th>4</th>\n",
       "      <td>https://www.zomato.com/bangalore/grand-village...</td>\n",
       "      <td>10, 3rd Floor, Lakshmi Associates, Gandhi Baza...</td>\n",
       "      <td>Grand Village</td>\n",
       "      <td>No</td>\n",
       "      <td>No</td>\n",
       "      <td>3.8/5</td>\n",
       "      <td>166</td>\n",
       "      <td>+91 8026612447\\r\\n+91 9901210005</td>\n",
       "      <td>Basavanagudi</td>\n",
       "      <td>Casual Dining</td>\n",
       "      <td>Panipuri, Gol Gappe</td>\n",
       "      <td>North Indian, Rajasthani</td>\n",
       "      <td>600</td>\n",
       "      <td>[(Rated 4.0, RATED\\n  Very good restaurant in ...</td>\n",
       "      <td>[]</td>\n",
       "      <td>Buffet</td>\n",
       "      <td>Banashankari</td>\n",
       "    </tr>\n",
       "  </tbody>\n",
       "</table>\n",
       "</div>"
      ],
      "text/plain": [
       "                                                 url  \\\n",
       "0  https://www.zomato.com/bangalore/jalsa-banasha...   \n",
       "1  https://www.zomato.com/bangalore/spice-elephan...   \n",
       "2  https://www.zomato.com/SanchurroBangalore?cont...   \n",
       "3  https://www.zomato.com/bangalore/addhuri-udupi...   \n",
       "4  https://www.zomato.com/bangalore/grand-village...   \n",
       "\n",
       "                                             address                   name  \\\n",
       "0  942, 21st Main Road, 2nd Stage, Banashankari, ...                  Jalsa   \n",
       "1  2nd Floor, 80 Feet Road, Near Big Bazaar, 6th ...         Spice Elephant   \n",
       "2  1112, Next to KIMS Medical College, 17th Cross...        San Churro Cafe   \n",
       "3  1st Floor, Annakuteera, 3rd Stage, Banashankar...  Addhuri Udupi Bhojana   \n",
       "4  10, 3rd Floor, Lakshmi Associates, Gandhi Baza...          Grand Village   \n",
       "\n",
       "  online_order book_table   rate  votes                             phone  \\\n",
       "0          Yes        Yes  4.1/5    775    080 42297555\\r\\n+91 9743772233   \n",
       "1          Yes         No  4.1/5    787                      080 41714161   \n",
       "2          Yes         No  3.8/5    918                    +91 9663487993   \n",
       "3           No         No  3.7/5     88                    +91 9620009302   \n",
       "4           No         No  3.8/5    166  +91 8026612447\\r\\n+91 9901210005   \n",
       "\n",
       "       location            rest_type  \\\n",
       "0  Banashankari        Casual Dining   \n",
       "1  Banashankari        Casual Dining   \n",
       "2  Banashankari  Cafe, Casual Dining   \n",
       "3  Banashankari          Quick Bites   \n",
       "4  Basavanagudi        Casual Dining   \n",
       "\n",
       "                                          dish_liked  \\\n",
       "0  Pasta, Lunch Buffet, Masala Papad, Paneer Laja...   \n",
       "1  Momos, Lunch Buffet, Chocolate Nirvana, Thai G...   \n",
       "2  Churros, Cannelloni, Minestrone Soup, Hot Choc...   \n",
       "3                                        Masala Dosa   \n",
       "4                                Panipuri, Gol Gappe   \n",
       "\n",
       "                         cuisines approx_cost(for two people)  \\\n",
       "0  North Indian, Mughlai, Chinese                         800   \n",
       "1     Chinese, North Indian, Thai                         800   \n",
       "2          Cafe, Mexican, Italian                         800   \n",
       "3      South Indian, North Indian                         300   \n",
       "4        North Indian, Rajasthani                         600   \n",
       "\n",
       "                                        reviews_list menu_item  \\\n",
       "0  [(Rated 4.0, RATED\\n  A beautiful place to din...        []   \n",
       "1  [(Rated 4.0, RATED\\n  Had been here for dinner...        []   \n",
       "2  [(Rated 3.0, RATED\\n  Ambience is not that goo...        []   \n",
       "3  [(Rated 4.0, RATED\\n  Great food and proper Ka...        []   \n",
       "4  [(Rated 4.0, RATED\\n  Very good restaurant in ...        []   \n",
       "\n",
       "  listed_in(type) listed_in(city)  \n",
       "0          Buffet    Banashankari  \n",
       "1          Buffet    Banashankari  \n",
       "2          Buffet    Banashankari  \n",
       "3          Buffet    Banashankari  \n",
       "4          Buffet    Banashankari  "
      ]
     },
     "execution_count": 49,
     "metadata": {},
     "output_type": "execute_result"
    }
   ],
   "source": [
    "df.head()"
   ]
  },
  {
   "cell_type": "code",
   "execution_count": 50,
   "id": "954dca99",
   "metadata": {},
   "outputs": [
    {
     "data": {
      "text/html": [
       "<div>\n",
       "<style scoped>\n",
       "    .dataframe tbody tr th:only-of-type {\n",
       "        vertical-align: middle;\n",
       "    }\n",
       "\n",
       "    .dataframe tbody tr th {\n",
       "        vertical-align: top;\n",
       "    }\n",
       "\n",
       "    .dataframe thead th {\n",
       "        text-align: right;\n",
       "    }\n",
       "</style>\n",
       "<table border=\"1\" class=\"dataframe\">\n",
       "  <thead>\n",
       "    <tr style=\"text-align: right;\">\n",
       "      <th></th>\n",
       "      <th>url</th>\n",
       "      <th>address</th>\n",
       "      <th>name</th>\n",
       "      <th>online_order</th>\n",
       "      <th>book_table</th>\n",
       "      <th>rate</th>\n",
       "      <th>votes</th>\n",
       "      <th>phone</th>\n",
       "      <th>location</th>\n",
       "      <th>rest_type</th>\n",
       "      <th>dish_liked</th>\n",
       "      <th>cuisines</th>\n",
       "      <th>approx_cost(for two people)</th>\n",
       "      <th>reviews_list</th>\n",
       "      <th>menu_item</th>\n",
       "      <th>listed_in(type)</th>\n",
       "      <th>listed_in(city)</th>\n",
       "    </tr>\n",
       "  </thead>\n",
       "  <tbody>\n",
       "    <tr>\n",
       "      <th>count</th>\n",
       "      <td>51717</td>\n",
       "      <td>51717</td>\n",
       "      <td>51717</td>\n",
       "      <td>51717</td>\n",
       "      <td>51717</td>\n",
       "      <td>51717</td>\n",
       "      <td>51717.000000</td>\n",
       "      <td>51717</td>\n",
       "      <td>51696</td>\n",
       "      <td>51717</td>\n",
       "      <td>51717</td>\n",
       "      <td>51717</td>\n",
       "      <td>51717</td>\n",
       "      <td>51717</td>\n",
       "      <td>51717</td>\n",
       "      <td>51717</td>\n",
       "      <td>51717</td>\n",
       "    </tr>\n",
       "    <tr>\n",
       "      <th>unique</th>\n",
       "      <td>51717</td>\n",
       "      <td>11495</td>\n",
       "      <td>8792</td>\n",
       "      <td>2</td>\n",
       "      <td>2</td>\n",
       "      <td>64</td>\n",
       "      <td>NaN</td>\n",
       "      <td>14927</td>\n",
       "      <td>93</td>\n",
       "      <td>94</td>\n",
       "      <td>5272</td>\n",
       "      <td>2724</td>\n",
       "      <td>71</td>\n",
       "      <td>22513</td>\n",
       "      <td>9098</td>\n",
       "      <td>7</td>\n",
       "      <td>30</td>\n",
       "    </tr>\n",
       "    <tr>\n",
       "      <th>top</th>\n",
       "      <td>https://www.zomato.com/bangalore/jalsa-banasha...</td>\n",
       "      <td>Delivery Only</td>\n",
       "      <td>Cafe Coffee Day</td>\n",
       "      <td>Yes</td>\n",
       "      <td>No</td>\n",
       "      <td></td>\n",
       "      <td>NaN</td>\n",
       "      <td></td>\n",
       "      <td>BTM</td>\n",
       "      <td>Quick Bites</td>\n",
       "      <td></td>\n",
       "      <td>North Indian</td>\n",
       "      <td>300</td>\n",
       "      <td>[]</td>\n",
       "      <td>[]</td>\n",
       "      <td>Delivery</td>\n",
       "      <td>BTM</td>\n",
       "    </tr>\n",
       "    <tr>\n",
       "      <th>freq</th>\n",
       "      <td>1</td>\n",
       "      <td>128</td>\n",
       "      <td>96</td>\n",
       "      <td>30444</td>\n",
       "      <td>45268</td>\n",
       "      <td>7844</td>\n",
       "      <td>NaN</td>\n",
       "      <td>1208</td>\n",
       "      <td>5124</td>\n",
       "      <td>19132</td>\n",
       "      <td>28078</td>\n",
       "      <td>2913</td>\n",
       "      <td>7576</td>\n",
       "      <td>7595</td>\n",
       "      <td>39617</td>\n",
       "      <td>25942</td>\n",
       "      <td>3279</td>\n",
       "    </tr>\n",
       "    <tr>\n",
       "      <th>mean</th>\n",
       "      <td>NaN</td>\n",
       "      <td>NaN</td>\n",
       "      <td>NaN</td>\n",
       "      <td>NaN</td>\n",
       "      <td>NaN</td>\n",
       "      <td>NaN</td>\n",
       "      <td>283.697527</td>\n",
       "      <td>NaN</td>\n",
       "      <td>NaN</td>\n",
       "      <td>NaN</td>\n",
       "      <td>NaN</td>\n",
       "      <td>NaN</td>\n",
       "      <td>NaN</td>\n",
       "      <td>NaN</td>\n",
       "      <td>NaN</td>\n",
       "      <td>NaN</td>\n",
       "      <td>NaN</td>\n",
       "    </tr>\n",
       "    <tr>\n",
       "      <th>std</th>\n",
       "      <td>NaN</td>\n",
       "      <td>NaN</td>\n",
       "      <td>NaN</td>\n",
       "      <td>NaN</td>\n",
       "      <td>NaN</td>\n",
       "      <td>NaN</td>\n",
       "      <td>803.838853</td>\n",
       "      <td>NaN</td>\n",
       "      <td>NaN</td>\n",
       "      <td>NaN</td>\n",
       "      <td>NaN</td>\n",
       "      <td>NaN</td>\n",
       "      <td>NaN</td>\n",
       "      <td>NaN</td>\n",
       "      <td>NaN</td>\n",
       "      <td>NaN</td>\n",
       "      <td>NaN</td>\n",
       "    </tr>\n",
       "    <tr>\n",
       "      <th>min</th>\n",
       "      <td>NaN</td>\n",
       "      <td>NaN</td>\n",
       "      <td>NaN</td>\n",
       "      <td>NaN</td>\n",
       "      <td>NaN</td>\n",
       "      <td>NaN</td>\n",
       "      <td>0.000000</td>\n",
       "      <td>NaN</td>\n",
       "      <td>NaN</td>\n",
       "      <td>NaN</td>\n",
       "      <td>NaN</td>\n",
       "      <td>NaN</td>\n",
       "      <td>NaN</td>\n",
       "      <td>NaN</td>\n",
       "      <td>NaN</td>\n",
       "      <td>NaN</td>\n",
       "      <td>NaN</td>\n",
       "    </tr>\n",
       "    <tr>\n",
       "      <th>25%</th>\n",
       "      <td>NaN</td>\n",
       "      <td>NaN</td>\n",
       "      <td>NaN</td>\n",
       "      <td>NaN</td>\n",
       "      <td>NaN</td>\n",
       "      <td>NaN</td>\n",
       "      <td>7.000000</td>\n",
       "      <td>NaN</td>\n",
       "      <td>NaN</td>\n",
       "      <td>NaN</td>\n",
       "      <td>NaN</td>\n",
       "      <td>NaN</td>\n",
       "      <td>NaN</td>\n",
       "      <td>NaN</td>\n",
       "      <td>NaN</td>\n",
       "      <td>NaN</td>\n",
       "      <td>NaN</td>\n",
       "    </tr>\n",
       "    <tr>\n",
       "      <th>50%</th>\n",
       "      <td>NaN</td>\n",
       "      <td>NaN</td>\n",
       "      <td>NaN</td>\n",
       "      <td>NaN</td>\n",
       "      <td>NaN</td>\n",
       "      <td>NaN</td>\n",
       "      <td>41.000000</td>\n",
       "      <td>NaN</td>\n",
       "      <td>NaN</td>\n",
       "      <td>NaN</td>\n",
       "      <td>NaN</td>\n",
       "      <td>NaN</td>\n",
       "      <td>NaN</td>\n",
       "      <td>NaN</td>\n",
       "      <td>NaN</td>\n",
       "      <td>NaN</td>\n",
       "      <td>NaN</td>\n",
       "    </tr>\n",
       "    <tr>\n",
       "      <th>75%</th>\n",
       "      <td>NaN</td>\n",
       "      <td>NaN</td>\n",
       "      <td>NaN</td>\n",
       "      <td>NaN</td>\n",
       "      <td>NaN</td>\n",
       "      <td>NaN</td>\n",
       "      <td>198.000000</td>\n",
       "      <td>NaN</td>\n",
       "      <td>NaN</td>\n",
       "      <td>NaN</td>\n",
       "      <td>NaN</td>\n",
       "      <td>NaN</td>\n",
       "      <td>NaN</td>\n",
       "      <td>NaN</td>\n",
       "      <td>NaN</td>\n",
       "      <td>NaN</td>\n",
       "      <td>NaN</td>\n",
       "    </tr>\n",
       "    <tr>\n",
       "      <th>max</th>\n",
       "      <td>NaN</td>\n",
       "      <td>NaN</td>\n",
       "      <td>NaN</td>\n",
       "      <td>NaN</td>\n",
       "      <td>NaN</td>\n",
       "      <td>NaN</td>\n",
       "      <td>16832.000000</td>\n",
       "      <td>NaN</td>\n",
       "      <td>NaN</td>\n",
       "      <td>NaN</td>\n",
       "      <td>NaN</td>\n",
       "      <td>NaN</td>\n",
       "      <td>NaN</td>\n",
       "      <td>NaN</td>\n",
       "      <td>NaN</td>\n",
       "      <td>NaN</td>\n",
       "      <td>NaN</td>\n",
       "    </tr>\n",
       "  </tbody>\n",
       "</table>\n",
       "</div>"
      ],
      "text/plain": [
       "                                                      url        address  \\\n",
       "count                                               51717          51717   \n",
       "unique                                              51717          11495   \n",
       "top     https://www.zomato.com/bangalore/jalsa-banasha...  Delivery Only   \n",
       "freq                                                    1            128   \n",
       "mean                                                  NaN            NaN   \n",
       "std                                                   NaN            NaN   \n",
       "min                                                   NaN            NaN   \n",
       "25%                                                   NaN            NaN   \n",
       "50%                                                   NaN            NaN   \n",
       "75%                                                   NaN            NaN   \n",
       "max                                                   NaN            NaN   \n",
       "\n",
       "                   name online_order book_table   rate         votes  phone  \\\n",
       "count             51717        51717      51717  51717  51717.000000  51717   \n",
       "unique             8792            2          2     64           NaN  14927   \n",
       "top     Cafe Coffee Day          Yes         No                  NaN          \n",
       "freq                 96        30444      45268   7844           NaN   1208   \n",
       "mean                NaN          NaN        NaN    NaN    283.697527    NaN   \n",
       "std                 NaN          NaN        NaN    NaN    803.838853    NaN   \n",
       "min                 NaN          NaN        NaN    NaN      0.000000    NaN   \n",
       "25%                 NaN          NaN        NaN    NaN      7.000000    NaN   \n",
       "50%                 NaN          NaN        NaN    NaN     41.000000    NaN   \n",
       "75%                 NaN          NaN        NaN    NaN    198.000000    NaN   \n",
       "max                 NaN          NaN        NaN    NaN  16832.000000    NaN   \n",
       "\n",
       "       location    rest_type dish_liked      cuisines  \\\n",
       "count     51696        51717      51717         51717   \n",
       "unique       93           94       5272          2724   \n",
       "top         BTM  Quick Bites             North Indian   \n",
       "freq       5124        19132      28078          2913   \n",
       "mean        NaN          NaN        NaN           NaN   \n",
       "std         NaN          NaN        NaN           NaN   \n",
       "min         NaN          NaN        NaN           NaN   \n",
       "25%         NaN          NaN        NaN           NaN   \n",
       "50%         NaN          NaN        NaN           NaN   \n",
       "75%         NaN          NaN        NaN           NaN   \n",
       "max         NaN          NaN        NaN           NaN   \n",
       "\n",
       "       approx_cost(for two people) reviews_list menu_item listed_in(type)  \\\n",
       "count                        51717        51717     51717           51717   \n",
       "unique                          71        22513      9098               7   \n",
       "top                            300           []        []        Delivery   \n",
       "freq                          7576         7595     39617           25942   \n",
       "mean                           NaN          NaN       NaN             NaN   \n",
       "std                            NaN          NaN       NaN             NaN   \n",
       "min                            NaN          NaN       NaN             NaN   \n",
       "25%                            NaN          NaN       NaN             NaN   \n",
       "50%                            NaN          NaN       NaN             NaN   \n",
       "75%                            NaN          NaN       NaN             NaN   \n",
       "max                            NaN          NaN       NaN             NaN   \n",
       "\n",
       "       listed_in(city)  \n",
       "count            51717  \n",
       "unique              30  \n",
       "top                BTM  \n",
       "freq              3279  \n",
       "mean               NaN  \n",
       "std                NaN  \n",
       "min                NaN  \n",
       "25%                NaN  \n",
       "50%                NaN  \n",
       "75%                NaN  \n",
       "max                NaN  "
      ]
     },
     "execution_count": 50,
     "metadata": {},
     "output_type": "execute_result"
    }
   ],
   "source": [
    "df.describe(include=\"all\")"
   ]
  }
 ],
 "metadata": {
  "kernelspec": {
   "display_name": ".env_dt",
   "language": "python",
   "name": "python3"
  },
  "language_info": {
   "codemirror_mode": {
    "name": "ipython",
    "version": 3
   },
   "file_extension": ".py",
   "mimetype": "text/x-python",
   "name": "python",
   "nbconvert_exporter": "python",
   "pygments_lexer": "ipython3",
   "version": "3.9.6"
  }
 },
 "nbformat": 4,
 "nbformat_minor": 5
}
