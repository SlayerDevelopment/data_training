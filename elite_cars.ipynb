{
 "cells": [
  {
   "cell_type": "markdown",
   "metadata": {},
   "source": [
    "# Elite Sports Cars Data"
   ]
  },
  {
   "cell_type": "markdown",
   "metadata": {},
   "source": [
    "## Imports"
   ]
  },
  {
   "cell_type": "code",
   "execution_count": 1,
   "metadata": {},
   "outputs": [],
   "source": [
    "import pandas as pd\n",
    "import numpy as np\n",
    "import matplotlib.pyplot as plt\n",
    "import seaborn as sns\n",
    "from datetime import datetime\n",
    "from sklearn.model_selection import train_test_split\n",
    "from sklearn.linear_model import LinearRegression\n",
    "import statsmodels.api as sm\n",
    "%matplotlib inline\n",
    "pd.set_option(\"display.max_columns\", None)\n",
    "pd.set_option(\"display.max_rows\", None)"
   ]
  },
  {
   "cell_type": "code",
   "execution_count": 2,
   "metadata": {},
   "outputs": [
    {
     "data": {
      "text/html": [
       "<div>\n",
       "<style scoped>\n",
       "    .dataframe tbody tr th:only-of-type {\n",
       "        vertical-align: middle;\n",
       "    }\n",
       "\n",
       "    .dataframe tbody tr th {\n",
       "        vertical-align: top;\n",
       "    }\n",
       "\n",
       "    .dataframe thead th {\n",
       "        text-align: right;\n",
       "    }\n",
       "</style>\n",
       "<table border=\"1\" class=\"dataframe\">\n",
       "  <thead>\n",
       "    <tr style=\"text-align: right;\">\n",
       "      <th></th>\n",
       "      <th>Brand</th>\n",
       "      <th>Model</th>\n",
       "      <th>Year</th>\n",
       "      <th>Country</th>\n",
       "      <th>Condition</th>\n",
       "      <th>Engine_Size</th>\n",
       "      <th>Horsepower</th>\n",
       "      <th>Torque</th>\n",
       "      <th>Weight</th>\n",
       "      <th>Top_Speed</th>\n",
       "      <th>Acceleration_0_100</th>\n",
       "      <th>Fuel_Type</th>\n",
       "      <th>Drivetrain</th>\n",
       "      <th>Transmission</th>\n",
       "      <th>Fuel_Efficiency</th>\n",
       "      <th>CO2_Emissions</th>\n",
       "      <th>Price</th>\n",
       "      <th>Mileage</th>\n",
       "      <th>Popularity</th>\n",
       "      <th>Safety_Rating</th>\n",
       "      <th>Number_of_Owners</th>\n",
       "      <th>Market_Demand</th>\n",
       "      <th>Insurance_Cost</th>\n",
       "      <th>Production_Units</th>\n",
       "      <th>Log_Price</th>\n",
       "      <th>Log_Mileage</th>\n",
       "      <th>Modification</th>\n",
       "    </tr>\n",
       "  </thead>\n",
       "  <tbody>\n",
       "    <tr>\n",
       "      <th>0</th>\n",
       "      <td>Nissan</td>\n",
       "      <td>720S</td>\n",
       "      <td>2006</td>\n",
       "      <td>Asia</td>\n",
       "      <td>used</td>\n",
       "      <td>3.7</td>\n",
       "      <td>420</td>\n",
       "      <td>705</td>\n",
       "      <td>1785</td>\n",
       "      <td>238</td>\n",
       "      <td>5.7</td>\n",
       "      <td>Diesel</td>\n",
       "      <td>RWD</td>\n",
       "      <td>Automatic</td>\n",
       "      <td>10.5</td>\n",
       "      <td>307</td>\n",
       "      <td>81580</td>\n",
       "      <td>96664</td>\n",
       "      <td>Low</td>\n",
       "      <td>2</td>\n",
       "      <td>4</td>\n",
       "      <td>Medium</td>\n",
       "      <td>13410</td>\n",
       "      <td>5000</td>\n",
       "      <td>11.309352</td>\n",
       "      <td>11.479007</td>\n",
       "      <td>V-Spec</td>\n",
       "    </tr>\n",
       "    <tr>\n",
       "      <th>1</th>\n",
       "      <td>McLaren</td>\n",
       "      <td>911 Turbo S</td>\n",
       "      <td>2009</td>\n",
       "      <td>Europe</td>\n",
       "      <td>new</td>\n",
       "      <td>5.3</td>\n",
       "      <td>1104</td>\n",
       "      <td>766</td>\n",
       "      <td>992</td>\n",
       "      <td>386</td>\n",
       "      <td>4.6</td>\n",
       "      <td>Electric</td>\n",
       "      <td>RWD</td>\n",
       "      <td>DCT</td>\n",
       "      <td>9.4</td>\n",
       "      <td>113</td>\n",
       "      <td>308455</td>\n",
       "      <td>159630</td>\n",
       "      <td>High</td>\n",
       "      <td>2</td>\n",
       "      <td>2</td>\n",
       "      <td>Medium</td>\n",
       "      <td>10795</td>\n",
       "      <td>1000</td>\n",
       "      <td>12.639334</td>\n",
       "      <td>11.980620</td>\n",
       "      <td>NaN</td>\n",
       "    </tr>\n",
       "    <tr>\n",
       "      <th>2</th>\n",
       "      <td>Chevrolet</td>\n",
       "      <td>M4 Competition</td>\n",
       "      <td>2009</td>\n",
       "      <td>USA</td>\n",
       "      <td>new</td>\n",
       "      <td>5.5</td>\n",
       "      <td>153</td>\n",
       "      <td>1573</td>\n",
       "      <td>2022</td>\n",
       "      <td>397</td>\n",
       "      <td>6.7</td>\n",
       "      <td>Diesel</td>\n",
       "      <td>FWD</td>\n",
       "      <td>Automatic</td>\n",
       "      <td>5.0</td>\n",
       "      <td>321</td>\n",
       "      <td>420374</td>\n",
       "      <td>111496</td>\n",
       "      <td>High</td>\n",
       "      <td>1</td>\n",
       "      <td>2</td>\n",
       "      <td>Low</td>\n",
       "      <td>1716</td>\n",
       "      <td>20000</td>\n",
       "      <td>12.948902</td>\n",
       "      <td>11.621753</td>\n",
       "      <td>NaN</td>\n",
       "    </tr>\n",
       "    <tr>\n",
       "      <th>3</th>\n",
       "      <td>Bugatti</td>\n",
       "      <td>Chiron</td>\n",
       "      <td>1982</td>\n",
       "      <td>Asia</td>\n",
       "      <td>used</td>\n",
       "      <td>5.4</td>\n",
       "      <td>544</td>\n",
       "      <td>1009</td>\n",
       "      <td>1091</td>\n",
       "      <td>151</td>\n",
       "      <td>2.7</td>\n",
       "      <td>Petrol</td>\n",
       "      <td>RWD</td>\n",
       "      <td>CVT</td>\n",
       "      <td>7.3</td>\n",
       "      <td>343</td>\n",
       "      <td>123690</td>\n",
       "      <td>217228</td>\n",
       "      <td>High</td>\n",
       "      <td>2</td>\n",
       "      <td>4</td>\n",
       "      <td>Medium</td>\n",
       "      <td>11618</td>\n",
       "      <td>20000</td>\n",
       "      <td>11.725542</td>\n",
       "      <td>12.288707</td>\n",
       "      <td>NaN</td>\n",
       "    </tr>\n",
       "    <tr>\n",
       "      <th>4</th>\n",
       "      <td>Nissan</td>\n",
       "      <td>Chiron</td>\n",
       "      <td>2022</td>\n",
       "      <td>Europe</td>\n",
       "      <td>new</td>\n",
       "      <td>2.4</td>\n",
       "      <td>980</td>\n",
       "      <td>693</td>\n",
       "      <td>1232</td>\n",
       "      <td>385</td>\n",
       "      <td>3.0</td>\n",
       "      <td>Petrol</td>\n",
       "      <td>AWD</td>\n",
       "      <td>DCT</td>\n",
       "      <td>6.0</td>\n",
       "      <td>246</td>\n",
       "      <td>75303</td>\n",
       "      <td>150318</td>\n",
       "      <td>Low</td>\n",
       "      <td>3</td>\n",
       "      <td>2</td>\n",
       "      <td>Medium</td>\n",
       "      <td>11324</td>\n",
       "      <td>100000</td>\n",
       "      <td>11.229289</td>\n",
       "      <td>11.920515</td>\n",
       "      <td>NaN</td>\n",
       "    </tr>\n",
       "  </tbody>\n",
       "</table>\n",
       "</div>"
      ],
      "text/plain": [
       "       Brand           Model  Year Country Condition  Engine_Size  Horsepower  \\\n",
       "0     Nissan            720S  2006    Asia      used          3.7         420   \n",
       "1    McLaren     911 Turbo S  2009  Europe       new          5.3        1104   \n",
       "2  Chevrolet  M4 Competition  2009     USA       new          5.5         153   \n",
       "3    Bugatti          Chiron  1982    Asia      used          5.4         544   \n",
       "4     Nissan          Chiron  2022  Europe       new          2.4         980   \n",
       "\n",
       "   Torque  Weight  Top_Speed  Acceleration_0_100 Fuel_Type Drivetrain  \\\n",
       "0     705    1785        238                 5.7    Diesel        RWD   \n",
       "1     766     992        386                 4.6  Electric        RWD   \n",
       "2    1573    2022        397                 6.7    Diesel        FWD   \n",
       "3    1009    1091        151                 2.7    Petrol        RWD   \n",
       "4     693    1232        385                 3.0    Petrol        AWD   \n",
       "\n",
       "  Transmission  Fuel_Efficiency  CO2_Emissions   Price  Mileage Popularity  \\\n",
       "0    Automatic             10.5            307   81580    96664        Low   \n",
       "1          DCT              9.4            113  308455   159630       High   \n",
       "2    Automatic              5.0            321  420374   111496       High   \n",
       "3          CVT              7.3            343  123690   217228       High   \n",
       "4          DCT              6.0            246   75303   150318        Low   \n",
       "\n",
       "   Safety_Rating  Number_of_Owners Market_Demand  Insurance_Cost  \\\n",
       "0              2                 4        Medium           13410   \n",
       "1              2                 2        Medium           10795   \n",
       "2              1                 2           Low            1716   \n",
       "3              2                 4        Medium           11618   \n",
       "4              3                 2        Medium           11324   \n",
       "\n",
       "   Production_Units  Log_Price  Log_Mileage Modification  \n",
       "0              5000  11.309352    11.479007       V-Spec  \n",
       "1              1000  12.639334    11.980620          NaN  \n",
       "2             20000  12.948902    11.621753          NaN  \n",
       "3             20000  11.725542    12.288707          NaN  \n",
       "4            100000  11.229289    11.920515          NaN  "
      ]
     },
     "execution_count": 2,
     "metadata": {},
     "output_type": "execute_result"
    }
   ],
   "source": [
    "df = pd.read_csv(\"data/Elite Sports Cars in Data.csv\")\n",
    "df.head()"
   ]
  },
  {
   "cell_type": "markdown",
   "metadata": {},
   "source": [
    "## EDA"
   ]
  },
  {
   "cell_type": "code",
   "execution_count": 3,
   "metadata": {},
   "outputs": [
    {
     "data": {
      "text/plain": [
       "Brand                  object\n",
       "Model                  object\n",
       "Year                    int64\n",
       "Country                object\n",
       "Condition              object\n",
       "Engine_Size           float64\n",
       "Horsepower              int64\n",
       "Torque                  int64\n",
       "Weight                  int64\n",
       "Top_Speed               int64\n",
       "Acceleration_0_100    float64\n",
       "Fuel_Type              object\n",
       "Drivetrain             object\n",
       "Transmission           object\n",
       "Fuel_Efficiency       float64\n",
       "CO2_Emissions           int64\n",
       "Price                   int64\n",
       "Mileage                 int64\n",
       "Popularity             object\n",
       "Safety_Rating           int64\n",
       "Number_of_Owners        int64\n",
       "Market_Demand          object\n",
       "Insurance_Cost          int64\n",
       "Production_Units        int64\n",
       "Log_Price             float64\n",
       "Log_Mileage           float64\n",
       "Modification           object\n",
       "dtype: object"
      ]
     },
     "execution_count": 3,
     "metadata": {},
     "output_type": "execute_result"
    }
   ],
   "source": [
    "df.dtypes"
   ]
  },
  {
   "cell_type": "code",
   "execution_count": 4,
   "metadata": {},
   "outputs": [
    {
     "data": {
      "text/plain": [
       "(5000, 27)"
      ]
     },
     "execution_count": 4,
     "metadata": {},
     "output_type": "execute_result"
    }
   ],
   "source": [
    "df.shape"
   ]
  },
  {
   "cell_type": "code",
   "execution_count": 5,
   "metadata": {},
   "outputs": [
    {
     "data": {
      "text/html": [
       "<div>\n",
       "<style scoped>\n",
       "    .dataframe tbody tr th:only-of-type {\n",
       "        vertical-align: middle;\n",
       "    }\n",
       "\n",
       "    .dataframe tbody tr th {\n",
       "        vertical-align: top;\n",
       "    }\n",
       "\n",
       "    .dataframe thead th {\n",
       "        text-align: right;\n",
       "    }\n",
       "</style>\n",
       "<table border=\"1\" class=\"dataframe\">\n",
       "  <thead>\n",
       "    <tr style=\"text-align: right;\">\n",
       "      <th></th>\n",
       "      <th>Brand</th>\n",
       "      <th>Model</th>\n",
       "      <th>Year</th>\n",
       "      <th>Country</th>\n",
       "      <th>Condition</th>\n",
       "      <th>Engine_Size</th>\n",
       "      <th>Horsepower</th>\n",
       "      <th>Torque</th>\n",
       "      <th>Weight</th>\n",
       "      <th>Top_Speed</th>\n",
       "      <th>Acceleration_0_100</th>\n",
       "      <th>Fuel_Type</th>\n",
       "      <th>Drivetrain</th>\n",
       "      <th>Transmission</th>\n",
       "      <th>Fuel_Efficiency</th>\n",
       "      <th>CO2_Emissions</th>\n",
       "      <th>Price</th>\n",
       "      <th>Mileage</th>\n",
       "      <th>Popularity</th>\n",
       "      <th>Safety_Rating</th>\n",
       "      <th>Number_of_Owners</th>\n",
       "      <th>Market_Demand</th>\n",
       "      <th>Insurance_Cost</th>\n",
       "      <th>Production_Units</th>\n",
       "      <th>Log_Price</th>\n",
       "      <th>Log_Mileage</th>\n",
       "      <th>Modification</th>\n",
       "    </tr>\n",
       "  </thead>\n",
       "  <tbody>\n",
       "    <tr>\n",
       "      <th>count</th>\n",
       "      <td>5000</td>\n",
       "      <td>5000</td>\n",
       "      <td>5000.000000</td>\n",
       "      <td>5000</td>\n",
       "      <td>5000</td>\n",
       "      <td>5000.000000</td>\n",
       "      <td>5000.000000</td>\n",
       "      <td>5000.000000</td>\n",
       "      <td>5000.000000</td>\n",
       "      <td>5000.000000</td>\n",
       "      <td>5000.000000</td>\n",
       "      <td>5000</td>\n",
       "      <td>5000</td>\n",
       "      <td>5000</td>\n",
       "      <td>5000.000000</td>\n",
       "      <td>5000.000000</td>\n",
       "      <td>5000.000000</td>\n",
       "      <td>5000.000000</td>\n",
       "      <td>5000</td>\n",
       "      <td>5000.000000</td>\n",
       "      <td>5000.000000</td>\n",
       "      <td>5000</td>\n",
       "      <td>5000.000000</td>\n",
       "      <td>5000.000000</td>\n",
       "      <td>5000.000000</td>\n",
       "      <td>5000.000000</td>\n",
       "      <td>1977</td>\n",
       "    </tr>\n",
       "    <tr>\n",
       "      <th>unique</th>\n",
       "      <td>10</td>\n",
       "      <td>10</td>\n",
       "      <td>NaN</td>\n",
       "      <td>3</td>\n",
       "      <td>4</td>\n",
       "      <td>NaN</td>\n",
       "      <td>NaN</td>\n",
       "      <td>NaN</td>\n",
       "      <td>NaN</td>\n",
       "      <td>NaN</td>\n",
       "      <td>NaN</td>\n",
       "      <td>3</td>\n",
       "      <td>3</td>\n",
       "      <td>4</td>\n",
       "      <td>NaN</td>\n",
       "      <td>NaN</td>\n",
       "      <td>NaN</td>\n",
       "      <td>NaN</td>\n",
       "      <td>3</td>\n",
       "      <td>NaN</td>\n",
       "      <td>NaN</td>\n",
       "      <td>3</td>\n",
       "      <td>NaN</td>\n",
       "      <td>NaN</td>\n",
       "      <td>NaN</td>\n",
       "      <td>NaN</td>\n",
       "      <td>8</td>\n",
       "    </tr>\n",
       "    <tr>\n",
       "      <th>top</th>\n",
       "      <td>Ferrari</td>\n",
       "      <td>M4 Competition</td>\n",
       "      <td>NaN</td>\n",
       "      <td>Asia</td>\n",
       "      <td>new</td>\n",
       "      <td>NaN</td>\n",
       "      <td>NaN</td>\n",
       "      <td>NaN</td>\n",
       "      <td>NaN</td>\n",
       "      <td>NaN</td>\n",
       "      <td>NaN</td>\n",
       "      <td>Petrol</td>\n",
       "      <td>RWD</td>\n",
       "      <td>CVT</td>\n",
       "      <td>NaN</td>\n",
       "      <td>NaN</td>\n",
       "      <td>NaN</td>\n",
       "      <td>NaN</td>\n",
       "      <td>Low</td>\n",
       "      <td>NaN</td>\n",
       "      <td>NaN</td>\n",
       "      <td>Low</td>\n",
       "      <td>NaN</td>\n",
       "      <td>NaN</td>\n",
       "      <td>NaN</td>\n",
       "      <td>NaN</td>\n",
       "      <td>RS</td>\n",
       "    </tr>\n",
       "    <tr>\n",
       "      <th>freq</th>\n",
       "      <td>533</td>\n",
       "      <td>538</td>\n",
       "      <td>NaN</td>\n",
       "      <td>1677</td>\n",
       "      <td>2559</td>\n",
       "      <td>NaN</td>\n",
       "      <td>NaN</td>\n",
       "      <td>NaN</td>\n",
       "      <td>NaN</td>\n",
       "      <td>NaN</td>\n",
       "      <td>NaN</td>\n",
       "      <td>1688</td>\n",
       "      <td>1681</td>\n",
       "      <td>1267</td>\n",
       "      <td>NaN</td>\n",
       "      <td>NaN</td>\n",
       "      <td>NaN</td>\n",
       "      <td>NaN</td>\n",
       "      <td>2001</td>\n",
       "      <td>NaN</td>\n",
       "      <td>NaN</td>\n",
       "      <td>1704</td>\n",
       "      <td>NaN</td>\n",
       "      <td>NaN</td>\n",
       "      <td>NaN</td>\n",
       "      <td>NaN</td>\n",
       "      <td>270</td>\n",
       "    </tr>\n",
       "    <tr>\n",
       "      <th>mean</th>\n",
       "      <td>NaN</td>\n",
       "      <td>NaN</td>\n",
       "      <td>2001.904800</td>\n",
       "      <td>NaN</td>\n",
       "      <td>NaN</td>\n",
       "      <td>4.828700</td>\n",
       "      <td>822.891600</td>\n",
       "      <td>938.800600</td>\n",
       "      <td>1689.724200</td>\n",
       "      <td>274.857000</td>\n",
       "      <td>4.517280</td>\n",
       "      <td>NaN</td>\n",
       "      <td>NaN</td>\n",
       "      <td>NaN</td>\n",
       "      <td>10.038340</td>\n",
       "      <td>272.695200</td>\n",
       "      <td>262067.329400</td>\n",
       "      <td>126487.020800</td>\n",
       "      <td>NaN</td>\n",
       "      <td>2.502200</td>\n",
       "      <td>2.479200</td>\n",
       "      <td>NaN</td>\n",
       "      <td>7749.857800</td>\n",
       "      <td>26496.010000</td>\n",
       "      <td>12.266985</td>\n",
       "      <td>11.449482</td>\n",
       "      <td>NaN</td>\n",
       "    </tr>\n",
       "    <tr>\n",
       "      <th>std</th>\n",
       "      <td>NaN</td>\n",
       "      <td>NaN</td>\n",
       "      <td>12.873697</td>\n",
       "      <td>NaN</td>\n",
       "      <td>NaN</td>\n",
       "      <td>1.858353</td>\n",
       "      <td>401.362549</td>\n",
       "      <td>472.954278</td>\n",
       "      <td>465.786421</td>\n",
       "      <td>72.062214</td>\n",
       "      <td>1.448473</td>\n",
       "      <td>NaN</td>\n",
       "      <td>NaN</td>\n",
       "      <td>NaN</td>\n",
       "      <td>2.881613</td>\n",
       "      <td>100.154245</td>\n",
       "      <td>137678.803906</td>\n",
       "      <td>72773.504601</td>\n",
       "      <td>NaN</td>\n",
       "      <td>1.119038</td>\n",
       "      <td>1.114368</td>\n",
       "      <td>NaN</td>\n",
       "      <td>4177.751738</td>\n",
       "      <td>36767.027776</td>\n",
       "      <td>0.741124</td>\n",
       "      <td>0.973881</td>\n",
       "      <td>NaN</td>\n",
       "    </tr>\n",
       "    <tr>\n",
       "      <th>min</th>\n",
       "      <td>NaN</td>\n",
       "      <td>NaN</td>\n",
       "      <td>1980.000000</td>\n",
       "      <td>NaN</td>\n",
       "      <td>NaN</td>\n",
       "      <td>1.600000</td>\n",
       "      <td>130.000000</td>\n",
       "      <td>120.000000</td>\n",
       "      <td>900.000000</td>\n",
       "      <td>150.000000</td>\n",
       "      <td>2.000000</td>\n",
       "      <td>NaN</td>\n",
       "      <td>NaN</td>\n",
       "      <td>NaN</td>\n",
       "      <td>5.000000</td>\n",
       "      <td>100.000000</td>\n",
       "      <td>20014.000000</td>\n",
       "      <td>47.000000</td>\n",
       "      <td>NaN</td>\n",
       "      <td>1.000000</td>\n",
       "      <td>1.000000</td>\n",
       "      <td>NaN</td>\n",
       "      <td>501.000000</td>\n",
       "      <td>50.000000</td>\n",
       "      <td>9.904237</td>\n",
       "      <td>3.871201</td>\n",
       "      <td>NaN</td>\n",
       "    </tr>\n",
       "    <tr>\n",
       "      <th>25%</th>\n",
       "      <td>NaN</td>\n",
       "      <td>NaN</td>\n",
       "      <td>1991.000000</td>\n",
       "      <td>NaN</td>\n",
       "      <td>NaN</td>\n",
       "      <td>3.200000</td>\n",
       "      <td>472.000000</td>\n",
       "      <td>522.000000</td>\n",
       "      <td>1286.000000</td>\n",
       "      <td>214.000000</td>\n",
       "      <td>3.300000</td>\n",
       "      <td>NaN</td>\n",
       "      <td>NaN</td>\n",
       "      <td>NaN</td>\n",
       "      <td>7.600000</td>\n",
       "      <td>186.000000</td>\n",
       "      <td>143710.750000</td>\n",
       "      <td>63809.750000</td>\n",
       "      <td>NaN</td>\n",
       "      <td>1.000000</td>\n",
       "      <td>1.000000</td>\n",
       "      <td>NaN</td>\n",
       "      <td>4106.750000</td>\n",
       "      <td>1000.000000</td>\n",
       "      <td>11.875565</td>\n",
       "      <td>11.063677</td>\n",
       "      <td>NaN</td>\n",
       "    </tr>\n",
       "    <tr>\n",
       "      <th>50%</th>\n",
       "      <td>NaN</td>\n",
       "      <td>NaN</td>\n",
       "      <td>2002.000000</td>\n",
       "      <td>NaN</td>\n",
       "      <td>NaN</td>\n",
       "      <td>4.800000</td>\n",
       "      <td>815.500000</td>\n",
       "      <td>948.000000</td>\n",
       "      <td>1684.000000</td>\n",
       "      <td>275.000000</td>\n",
       "      <td>4.500000</td>\n",
       "      <td>NaN</td>\n",
       "      <td>NaN</td>\n",
       "      <td>NaN</td>\n",
       "      <td>10.000000</td>\n",
       "      <td>273.000000</td>\n",
       "      <td>265213.500000</td>\n",
       "      <td>126762.500000</td>\n",
       "      <td>NaN</td>\n",
       "      <td>3.000000</td>\n",
       "      <td>2.000000</td>\n",
       "      <td>NaN</td>\n",
       "      <td>7697.500000</td>\n",
       "      <td>5000.000000</td>\n",
       "      <td>12.488294</td>\n",
       "      <td>11.750078</td>\n",
       "      <td>NaN</td>\n",
       "    </tr>\n",
       "    <tr>\n",
       "      <th>75%</th>\n",
       "      <td>NaN</td>\n",
       "      <td>NaN</td>\n",
       "      <td>2013.000000</td>\n",
       "      <td>NaN</td>\n",
       "      <td>NaN</td>\n",
       "      <td>6.500000</td>\n",
       "      <td>1176.000000</td>\n",
       "      <td>1345.000000</td>\n",
       "      <td>2101.000000</td>\n",
       "      <td>337.000000</td>\n",
       "      <td>5.800000</td>\n",
       "      <td>NaN</td>\n",
       "      <td>NaN</td>\n",
       "      <td>NaN</td>\n",
       "      <td>12.600000</td>\n",
       "      <td>357.000000</td>\n",
       "      <td>380923.500000</td>\n",
       "      <td>190287.500000</td>\n",
       "      <td>NaN</td>\n",
       "      <td>3.000000</td>\n",
       "      <td>3.000000</td>\n",
       "      <td>NaN</td>\n",
       "      <td>11351.750000</td>\n",
       "      <td>20000.000000</td>\n",
       "      <td>12.850356</td>\n",
       "      <td>12.156297</td>\n",
       "      <td>NaN</td>\n",
       "    </tr>\n",
       "    <tr>\n",
       "      <th>max</th>\n",
       "      <td>NaN</td>\n",
       "      <td>NaN</td>\n",
       "      <td>2024.000000</td>\n",
       "      <td>NaN</td>\n",
       "      <td>NaN</td>\n",
       "      <td>8.000000</td>\n",
       "      <td>1521.000000</td>\n",
       "      <td>1758.000000</td>\n",
       "      <td>2499.000000</td>\n",
       "      <td>399.000000</td>\n",
       "      <td>7.000000</td>\n",
       "      <td>NaN</td>\n",
       "      <td>NaN</td>\n",
       "      <td>NaN</td>\n",
       "      <td>15.000000</td>\n",
       "      <td>449.000000</td>\n",
       "      <td>499991.000000</td>\n",
       "      <td>249956.000000</td>\n",
       "      <td>NaN</td>\n",
       "      <td>4.000000</td>\n",
       "      <td>4.000000</td>\n",
       "      <td>NaN</td>\n",
       "      <td>14998.000000</td>\n",
       "      <td>100000.000000</td>\n",
       "      <td>13.122347</td>\n",
       "      <td>12.429044</td>\n",
       "      <td>NaN</td>\n",
       "    </tr>\n",
       "  </tbody>\n",
       "</table>\n",
       "</div>"
      ],
      "text/plain": [
       "          Brand           Model         Year Country Condition  Engine_Size  \\\n",
       "count      5000            5000  5000.000000    5000      5000  5000.000000   \n",
       "unique       10              10          NaN       3         4          NaN   \n",
       "top     Ferrari  M4 Competition          NaN    Asia       new          NaN   \n",
       "freq        533             538          NaN    1677      2559          NaN   \n",
       "mean        NaN             NaN  2001.904800     NaN       NaN     4.828700   \n",
       "std         NaN             NaN    12.873697     NaN       NaN     1.858353   \n",
       "min         NaN             NaN  1980.000000     NaN       NaN     1.600000   \n",
       "25%         NaN             NaN  1991.000000     NaN       NaN     3.200000   \n",
       "50%         NaN             NaN  2002.000000     NaN       NaN     4.800000   \n",
       "75%         NaN             NaN  2013.000000     NaN       NaN     6.500000   \n",
       "max         NaN             NaN  2024.000000     NaN       NaN     8.000000   \n",
       "\n",
       "         Horsepower       Torque       Weight    Top_Speed  \\\n",
       "count   5000.000000  5000.000000  5000.000000  5000.000000   \n",
       "unique          NaN          NaN          NaN          NaN   \n",
       "top             NaN          NaN          NaN          NaN   \n",
       "freq            NaN          NaN          NaN          NaN   \n",
       "mean     822.891600   938.800600  1689.724200   274.857000   \n",
       "std      401.362549   472.954278   465.786421    72.062214   \n",
       "min      130.000000   120.000000   900.000000   150.000000   \n",
       "25%      472.000000   522.000000  1286.000000   214.000000   \n",
       "50%      815.500000   948.000000  1684.000000   275.000000   \n",
       "75%     1176.000000  1345.000000  2101.000000   337.000000   \n",
       "max     1521.000000  1758.000000  2499.000000   399.000000   \n",
       "\n",
       "        Acceleration_0_100 Fuel_Type Drivetrain Transmission  Fuel_Efficiency  \\\n",
       "count          5000.000000      5000       5000         5000      5000.000000   \n",
       "unique                 NaN         3          3            4              NaN   \n",
       "top                    NaN    Petrol        RWD          CVT              NaN   \n",
       "freq                   NaN      1688       1681         1267              NaN   \n",
       "mean              4.517280       NaN        NaN          NaN        10.038340   \n",
       "std               1.448473       NaN        NaN          NaN         2.881613   \n",
       "min               2.000000       NaN        NaN          NaN         5.000000   \n",
       "25%               3.300000       NaN        NaN          NaN         7.600000   \n",
       "50%               4.500000       NaN        NaN          NaN        10.000000   \n",
       "75%               5.800000       NaN        NaN          NaN        12.600000   \n",
       "max               7.000000       NaN        NaN          NaN        15.000000   \n",
       "\n",
       "        CO2_Emissions          Price        Mileage Popularity  Safety_Rating  \\\n",
       "count     5000.000000    5000.000000    5000.000000       5000    5000.000000   \n",
       "unique            NaN            NaN            NaN          3            NaN   \n",
       "top               NaN            NaN            NaN        Low            NaN   \n",
       "freq              NaN            NaN            NaN       2001            NaN   \n",
       "mean       272.695200  262067.329400  126487.020800        NaN       2.502200   \n",
       "std        100.154245  137678.803906   72773.504601        NaN       1.119038   \n",
       "min        100.000000   20014.000000      47.000000        NaN       1.000000   \n",
       "25%        186.000000  143710.750000   63809.750000        NaN       1.000000   \n",
       "50%        273.000000  265213.500000  126762.500000        NaN       3.000000   \n",
       "75%        357.000000  380923.500000  190287.500000        NaN       3.000000   \n",
       "max        449.000000  499991.000000  249956.000000        NaN       4.000000   \n",
       "\n",
       "        Number_of_Owners Market_Demand  Insurance_Cost  Production_Units  \\\n",
       "count        5000.000000          5000     5000.000000       5000.000000   \n",
       "unique               NaN             3             NaN               NaN   \n",
       "top                  NaN           Low             NaN               NaN   \n",
       "freq                 NaN          1704             NaN               NaN   \n",
       "mean            2.479200           NaN     7749.857800      26496.010000   \n",
       "std             1.114368           NaN     4177.751738      36767.027776   \n",
       "min             1.000000           NaN      501.000000         50.000000   \n",
       "25%             1.000000           NaN     4106.750000       1000.000000   \n",
       "50%             2.000000           NaN     7697.500000       5000.000000   \n",
       "75%             3.000000           NaN    11351.750000      20000.000000   \n",
       "max             4.000000           NaN    14998.000000     100000.000000   \n",
       "\n",
       "          Log_Price  Log_Mileage Modification  \n",
       "count   5000.000000  5000.000000         1977  \n",
       "unique          NaN          NaN            8  \n",
       "top             NaN          NaN           RS  \n",
       "freq            NaN          NaN          270  \n",
       "mean      12.266985    11.449482          NaN  \n",
       "std        0.741124     0.973881          NaN  \n",
       "min        9.904237     3.871201          NaN  \n",
       "25%       11.875565    11.063677          NaN  \n",
       "50%       12.488294    11.750078          NaN  \n",
       "75%       12.850356    12.156297          NaN  \n",
       "max       13.122347    12.429044          NaN  "
      ]
     },
     "execution_count": 5,
     "metadata": {},
     "output_type": "execute_result"
    }
   ],
   "source": [
    "df.describe(include=\"all\")"
   ]
  },
  {
   "cell_type": "code",
   "execution_count": 6,
   "metadata": {},
   "outputs": [
    {
     "name": "stdout",
     "output_type": "stream",
     "text": [
      "#### Column Brand\n",
      "#### Column Model\n",
      "#### Column Year\n",
      "#### Column Country\n",
      "#### Column Condition\n",
      "#### Column Engine_Size\n",
      "#### Column Horsepower\n",
      "#### Column Torque\n",
      "#### Column Weight\n",
      "#### Column Top_Speed\n",
      "#### Column Acceleration_0_100\n",
      "#### Column Fuel_Type\n",
      "#### Column Drivetrain\n",
      "#### Column Transmission\n",
      "#### Column Fuel_Efficiency\n",
      "#### Column CO2_Emissions\n",
      "#### Column Price\n",
      "#### Column Mileage\n",
      "#### Column Popularity\n",
      "#### Column Safety_Rating\n",
      "#### Column Number_of_Owners\n",
      "#### Column Market_Demand\n",
      "#### Column Insurance_Cost\n",
      "#### Column Production_Units\n",
      "#### Column Log_Price\n",
      "#### Column Log_Mileage\n",
      "#### Column Modification\n"
     ]
    }
   ],
   "source": [
    "for c in df.columns:\n",
    "    print(f\"#### Column {c}\")"
   ]
  },
  {
   "cell_type": "markdown",
   "metadata": {},
   "source": [
    "### Columns Analysis"
   ]
  },
  {
   "cell_type": "markdown",
   "metadata": {},
   "source": [
    "#### Column Brand\n"
   ]
  },
  {
   "cell_type": "code",
   "execution_count": 7,
   "metadata": {},
   "outputs": [
    {
     "data": {
      "text/plain": [
       "np.int64(0)"
      ]
     },
     "execution_count": 7,
     "metadata": {},
     "output_type": "execute_result"
    }
   ],
   "source": [
    "df[\"Brand\"].isnull().sum()"
   ]
  },
  {
   "cell_type": "code",
   "execution_count": 8,
   "metadata": {},
   "outputs": [
    {
     "data": {
      "text/plain": [
       "array(['Nissan', 'McLaren', 'Chevrolet', 'Bugatti', 'BMW', 'Porsche',\n",
       "       'Aston Martin', 'Lamborghini', 'Ferrari', 'Ford'], dtype=object)"
      ]
     },
     "execution_count": 8,
     "metadata": {},
     "output_type": "execute_result"
    }
   ],
   "source": [
    "df[\"Brand\"].unique()"
   ]
  },
  {
   "cell_type": "markdown",
   "metadata": {},
   "source": [
    "#### Column Model\n"
   ]
  },
  {
   "cell_type": "code",
   "execution_count": 9,
   "metadata": {},
   "outputs": [
    {
     "data": {
      "text/plain": [
       "np.int64(0)"
      ]
     },
     "execution_count": 9,
     "metadata": {},
     "output_type": "execute_result"
    }
   ],
   "source": [
    "df[\"Model\"].isnull().sum()"
   ]
  },
  {
   "cell_type": "code",
   "execution_count": 10,
   "metadata": {},
   "outputs": [
    {
     "data": {
      "text/plain": [
       "array(['720S', '911 Turbo S', 'M4 Competition', 'Chiron', 'GT-R',\n",
       "       'Mustang GT', 'DBS', 'Huracan', 'Corvette Z06', '488 GTB'],\n",
       "      dtype=object)"
      ]
     },
     "execution_count": 10,
     "metadata": {},
     "output_type": "execute_result"
    }
   ],
   "source": [
    "df[\"Model\"].unique()"
   ]
  },
  {
   "cell_type": "markdown",
   "metadata": {},
   "source": [
    "#### Column Year\n"
   ]
  },
  {
   "cell_type": "code",
   "execution_count": 11,
   "metadata": {},
   "outputs": [
    {
     "data": {
      "text/plain": [
       "np.int64(0)"
      ]
     },
     "execution_count": 11,
     "metadata": {},
     "output_type": "execute_result"
    }
   ],
   "source": [
    "df[\"Year\"].isnull().sum()"
   ]
  },
  {
   "cell_type": "code",
   "execution_count": 12,
   "metadata": {},
   "outputs": [
    {
     "data": {
      "text/plain": [
       "array([2006, 2009, 1982, 2022, 1986, 1988, 2020, 2021, 1992, 1994, 1984,\n",
       "       2008, 2014, 1987, 2011, 1999, 1989, 2010, 2001, 2000, 1991, 1990,\n",
       "       1981, 2013, 1995, 1983, 2002, 2004, 1997, 1996, 2005, 2024, 2003,\n",
       "       1993, 2015, 2023, 1985, 2016, 2017, 1980, 2012, 1998, 2007, 2018,\n",
       "       2019])"
      ]
     },
     "execution_count": 12,
     "metadata": {},
     "output_type": "execute_result"
    }
   ],
   "source": [
    "df[\"Year\"].unique()"
   ]
  },
  {
   "cell_type": "markdown",
   "metadata": {},
   "source": [
    "#### Column Country\n"
   ]
  },
  {
   "cell_type": "code",
   "execution_count": 13,
   "metadata": {},
   "outputs": [
    {
     "data": {
      "text/plain": [
       "np.int64(0)"
      ]
     },
     "execution_count": 13,
     "metadata": {},
     "output_type": "execute_result"
    }
   ],
   "source": [
    "df[\"Country\"].isnull().sum()"
   ]
  },
  {
   "cell_type": "code",
   "execution_count": 14,
   "metadata": {},
   "outputs": [
    {
     "data": {
      "text/plain": [
       "array(['Asia', 'Europe', 'USA'], dtype=object)"
      ]
     },
     "execution_count": 14,
     "metadata": {},
     "output_type": "execute_result"
    }
   ],
   "source": [
    "df[\"Country\"].unique()"
   ]
  },
  {
   "cell_type": "markdown",
   "metadata": {},
   "source": [
    "\n",
    "#### Column Condition\n"
   ]
  },
  {
   "cell_type": "code",
   "execution_count": 15,
   "metadata": {},
   "outputs": [
    {
     "data": {
      "text/plain": [
       "np.int64(0)"
      ]
     },
     "execution_count": 15,
     "metadata": {},
     "output_type": "execute_result"
    }
   ],
   "source": [
    "df[\"Condition\"].isnull().sum()"
   ]
  },
  {
   "cell_type": "code",
   "execution_count": 16,
   "metadata": {},
   "outputs": [
    {
     "data": {
      "text/plain": [
       "array(['used', 'new', 'salvage', 'restored'], dtype=object)"
      ]
     },
     "execution_count": 16,
     "metadata": {},
     "output_type": "execute_result"
    }
   ],
   "source": [
    "df[\"Condition\"].unique()"
   ]
  },
  {
   "cell_type": "markdown",
   "metadata": {},
   "source": [
    "#### Column Engine_Size\n"
   ]
  },
  {
   "cell_type": "code",
   "execution_count": 17,
   "metadata": {},
   "outputs": [
    {
     "data": {
      "text/plain": [
       "np.int64(0)"
      ]
     },
     "execution_count": 17,
     "metadata": {},
     "output_type": "execute_result"
    }
   ],
   "source": [
    "df[\"Engine_Size\"].isnull().sum()"
   ]
  },
  {
   "cell_type": "code",
   "execution_count": 18,
   "metadata": {},
   "outputs": [
    {
     "data": {
      "text/plain": [
       "array([3.7, 5.3, 5.5, 5.4, 2.4, 4.2, 7.4, 6.5, 6.1, 2.3, 2.1, 7. , 4.3,\n",
       "       4.5, 5.6, 2.7, 3. , 1.6, 4.7, 7.7, 6.2, 2.6, 4.8, 7.5, 3.2, 6.9,\n",
       "       3.6, 3.3, 1.9, 5.8, 6.7, 7.3, 2.8, 4.9, 2.5, 6.3, 7.8, 4.1, 3.8,\n",
       "       7.9, 2.2, 3.4, 4.4, 2. , 6.8, 6. , 2.9, 4. , 3.1, 5.1, 3.9, 7.1,\n",
       "       5. , 6.4, 3.5, 5.9, 8. , 5.7, 1.8, 5.2, 6.6, 7.2, 4.6, 1.7, 7.6])"
      ]
     },
     "execution_count": 18,
     "metadata": {},
     "output_type": "execute_result"
    }
   ],
   "source": [
    "df[\"Engine_Size\"].unique()"
   ]
  },
  {
   "cell_type": "markdown",
   "metadata": {},
   "source": [
    "#### Column Horsepower\n"
   ]
  },
  {
   "cell_type": "code",
   "execution_count": 19,
   "metadata": {},
   "outputs": [
    {
     "data": {
      "text/plain": [
       "np.int64(0)"
      ]
     },
     "execution_count": 19,
     "metadata": {},
     "output_type": "execute_result"
    }
   ],
   "source": [
    "df[\"Horsepower\"].isnull().sum()"
   ]
  },
  {
   "cell_type": "code",
   "execution_count": 20,
   "metadata": {},
   "outputs": [
    {
     "data": {
      "text/plain": [
       "array([ 420, 1104,  153, ...,  351,  214,  200])"
      ]
     },
     "execution_count": 20,
     "metadata": {},
     "output_type": "execute_result"
    }
   ],
   "source": [
    "df[\"Horsepower\"].unique()"
   ]
  },
  {
   "cell_type": "markdown",
   "metadata": {},
   "source": [
    "#### Column Torque\n"
   ]
  },
  {
   "cell_type": "code",
   "execution_count": 21,
   "metadata": {},
   "outputs": [
    {
     "data": {
      "text/plain": [
       "np.int64(0)"
      ]
     },
     "execution_count": 21,
     "metadata": {},
     "output_type": "execute_result"
    }
   ],
   "source": [
    "df[\"Torque\"].isnull().sum()"
   ]
  },
  {
   "cell_type": "code",
   "execution_count": 22,
   "metadata": {},
   "outputs": [
    {
     "data": {
      "text/plain": [
       "array([ 705,  766, 1573, ..., 1447,  909,  983])"
      ]
     },
     "execution_count": 22,
     "metadata": {},
     "output_type": "execute_result"
    }
   ],
   "source": [
    "df[\"Torque\"].unique()"
   ]
  },
  {
   "cell_type": "markdown",
   "metadata": {},
   "source": [
    "#### Column Weight\n"
   ]
  },
  {
   "cell_type": "code",
   "execution_count": 23,
   "metadata": {},
   "outputs": [
    {
     "data": {
      "text/plain": [
       "np.int64(0)"
      ]
     },
     "execution_count": 23,
     "metadata": {},
     "output_type": "execute_result"
    }
   ],
   "source": [
    "df[\"Weight\"].isnull().sum()"
   ]
  },
  {
   "cell_type": "code",
   "execution_count": 24,
   "metadata": {},
   "outputs": [
    {
     "data": {
      "text/plain": [
       "array([1785,  992, 2022, ...,  948,  915, 1973])"
      ]
     },
     "execution_count": 24,
     "metadata": {},
     "output_type": "execute_result"
    }
   ],
   "source": [
    "df[\"Weight\"].unique()"
   ]
  },
  {
   "cell_type": "markdown",
   "metadata": {},
   "source": [
    "#### Column Top_Speed"
   ]
  },
  {
   "cell_type": "code",
   "execution_count": 25,
   "metadata": {},
   "outputs": [
    {
     "data": {
      "text/plain": [
       "np.int64(0)"
      ]
     },
     "execution_count": 25,
     "metadata": {},
     "output_type": "execute_result"
    }
   ],
   "source": [
    "df[\"Top_Speed\"].isnull().sum()"
   ]
  },
  {
   "cell_type": "code",
   "execution_count": 26,
   "metadata": {},
   "outputs": [
    {
     "data": {
      "text/plain": [
       "array([238, 386, 397, 151, 385, 341, 245, 185, 382, 297, 332, 186, 383,\n",
       "       251, 374, 329, 218, 219, 299, 362, 360, 256, 164, 247, 196, 348,\n",
       "       358, 257, 201, 316, 368, 194, 301, 338, 260, 241, 271, 388, 214,\n",
       "       330, 265, 298, 398, 276, 369, 216, 243, 278, 208, 264, 258, 167,\n",
       "       262, 182, 292, 173, 209, 311, 239, 200, 317, 293, 253, 319, 165,\n",
       "       282, 392, 283, 365, 179, 378, 309, 296, 305, 324, 221, 277, 345,\n",
       "       334, 363, 207, 162, 176, 379, 270, 349, 289, 268, 337, 246, 223,\n",
       "       322, 168, 240, 318, 180, 300, 227, 172, 190, 295, 313, 161, 224,\n",
       "       346, 328, 234, 370, 220, 275, 315, 331, 153, 323, 212, 376, 351,\n",
       "       395, 199, 350, 175, 306, 288, 373, 191, 284, 152, 340, 387, 169,\n",
       "       371, 222, 272, 294, 228, 336, 290, 193, 396, 229, 375, 215, 357,\n",
       "       266, 184, 302, 255, 384, 188, 263, 367, 326, 233, 225, 206, 177,\n",
       "       381, 286, 389, 391, 320, 230, 314, 335, 248, 192, 344, 211, 307,\n",
       "       187, 226, 249, 254, 197, 252, 279, 352, 269, 232, 380, 339, 377,\n",
       "       287, 280, 158, 231, 321, 235, 210, 366, 163, 304, 157, 189, 217,\n",
       "       198, 303, 291, 267, 160, 342, 333, 159, 171, 205, 150, 310, 325,\n",
       "       154, 356, 327, 355, 156, 354, 281, 195, 259, 204, 166, 170, 364,\n",
       "       236, 237, 213, 273, 347, 274, 399, 285, 242, 183, 155, 181, 372,\n",
       "       394, 343, 312, 308, 203, 174, 261, 178, 393, 359, 390, 361, 202,\n",
       "       250, 244, 353])"
      ]
     },
     "execution_count": 26,
     "metadata": {},
     "output_type": "execute_result"
    }
   ],
   "source": [
    "df[\"Top_Speed\"].unique()"
   ]
  },
  {
   "cell_type": "markdown",
   "metadata": {},
   "source": [
    "#### Column Acceleration_0_100\n"
   ]
  },
  {
   "cell_type": "code",
   "execution_count": 27,
   "metadata": {},
   "outputs": [
    {
     "data": {
      "text/plain": [
       "np.int64(0)"
      ]
     },
     "execution_count": 27,
     "metadata": {},
     "output_type": "execute_result"
    }
   ],
   "source": [
    "df[\"Acceleration_0_100\"].isnull().sum()"
   ]
  },
  {
   "cell_type": "code",
   "execution_count": 28,
   "metadata": {},
   "outputs": [
    {
     "data": {
      "text/plain": [
       "array([5.7, 4.6, 6.7, 2.7, 3. , 3.4, 2.1, 4.2, 4.4, 2.8, 6.4, 5.5, 6.5,\n",
       "       2.2, 2.6, 4.9, 3.1, 6.2, 4.3, 4.8, 6. , 3.9, 5.3, 5. , 3.8, 3.7,\n",
       "       4. , 5.8, 6.6, 2.3, 2.9, 5.9, 3.2, 2.4, 4.1, 3.3, 4.5, 5.2, 7. ,\n",
       "       5.6, 3.5, 3.6, 6.3, 6.8, 2.5, 4.7, 5.1, 6.1, 6.9, 2. , 5.4])"
      ]
     },
     "execution_count": 28,
     "metadata": {},
     "output_type": "execute_result"
    }
   ],
   "source": [
    "df[\"Acceleration_0_100\"].unique()"
   ]
  },
  {
   "cell_type": "markdown",
   "metadata": {},
   "source": [
    "#### Column Fuel_Type"
   ]
  },
  {
   "cell_type": "code",
   "execution_count": 29,
   "metadata": {},
   "outputs": [
    {
     "data": {
      "text/plain": [
       "np.int64(0)"
      ]
     },
     "execution_count": 29,
     "metadata": {},
     "output_type": "execute_result"
    }
   ],
   "source": [
    "df[\"Fuel_Type\"].isnull().sum()"
   ]
  },
  {
   "cell_type": "code",
   "execution_count": 30,
   "metadata": {},
   "outputs": [
    {
     "data": {
      "text/plain": [
       "array(['Diesel', 'Electric', 'Petrol'], dtype=object)"
      ]
     },
     "execution_count": 30,
     "metadata": {},
     "output_type": "execute_result"
    }
   ],
   "source": [
    "df[\"Fuel_Type\"].unique()"
   ]
  },
  {
   "cell_type": "markdown",
   "metadata": {},
   "source": [
    "#### Column Drivetrain\n"
   ]
  },
  {
   "cell_type": "code",
   "execution_count": 31,
   "metadata": {},
   "outputs": [
    {
     "data": {
      "text/plain": [
       "np.int64(0)"
      ]
     },
     "execution_count": 31,
     "metadata": {},
     "output_type": "execute_result"
    }
   ],
   "source": [
    "df[\"Drivetrain\"].isnull().sum()"
   ]
  },
  {
   "cell_type": "code",
   "execution_count": 32,
   "metadata": {},
   "outputs": [
    {
     "data": {
      "text/plain": [
       "array(['RWD', 'FWD', 'AWD'], dtype=object)"
      ]
     },
     "execution_count": 32,
     "metadata": {},
     "output_type": "execute_result"
    }
   ],
   "source": [
    "df[\"Drivetrain\"].unique()"
   ]
  },
  {
   "cell_type": "markdown",
   "metadata": {},
   "source": [
    "#### Column Transmission\n"
   ]
  },
  {
   "cell_type": "code",
   "execution_count": 33,
   "metadata": {},
   "outputs": [
    {
     "data": {
      "text/plain": [
       "np.int64(0)"
      ]
     },
     "execution_count": 33,
     "metadata": {},
     "output_type": "execute_result"
    }
   ],
   "source": [
    "df[\"Transmission\"].isnull().sum()"
   ]
  },
  {
   "cell_type": "code",
   "execution_count": 34,
   "metadata": {},
   "outputs": [
    {
     "data": {
      "text/plain": [
       "array(['Automatic', 'DCT', 'CVT', 'Manual'], dtype=object)"
      ]
     },
     "execution_count": 34,
     "metadata": {},
     "output_type": "execute_result"
    }
   ],
   "source": [
    "df[\"Transmission\"].unique()"
   ]
  },
  {
   "cell_type": "markdown",
   "metadata": {},
   "source": [
    "#### Column Fuel_Efficiency\n"
   ]
  },
  {
   "cell_type": "code",
   "execution_count": 35,
   "metadata": {},
   "outputs": [
    {
     "data": {
      "text/plain": [
       "np.int64(0)"
      ]
     },
     "execution_count": 35,
     "metadata": {},
     "output_type": "execute_result"
    }
   ],
   "source": [
    "df[\"Fuel_Efficiency\"].isnull().sum()"
   ]
  },
  {
   "cell_type": "code",
   "execution_count": 36,
   "metadata": {},
   "outputs": [
    {
     "data": {
      "text/plain": [
       "array([10.5,  9.4,  5. ,  7.3,  6. ,  8.2,  7.4, 12.6, 10. , 13.2, 11.4,\n",
       "       11.6, 13.8, 13.5,  5.6, 10.8,  9.1, 11. , 13.6,  5.1, 13.7,  8.5,\n",
       "        8.7,  5.4, 14.1, 13.9, 14.6, 12.7,  5.3, 14.3,  8.1,  6.3, 13.1,\n",
       "       12.2,  7.7, 12.9, 10.6,  6.5, 14.4,  5.2,  9.3, 11.2,  8.8,  9.8,\n",
       "        6.9, 14.7,  9.7, 11.9, 14.8,  6.8, 14. , 12.1, 10.3, 10.1, 10.2,\n",
       "       12.5,  9.6,  5.8,  7. ,  5.5, 10.7,  9.9,  5.9,  6.6,  9.5,  8.9,\n",
       "       12.4, 11.5, 13.4,  6.2, 14.2, 13.3, 12.3,  5.7,  6.1, 11.7, 14.5,\n",
       "       15. ,  7.2,  8.4, 11.1,  9.2,  8. ,  8.6, 12.8,  6.7,  7.8,  9. ,\n",
       "        7.9,  7.5, 12. ,  8.3, 13. , 11.8, 14.9, 11.3,  7.1, 10.4,  7.6,\n",
       "        6.4, 10.9])"
      ]
     },
     "execution_count": 36,
     "metadata": {},
     "output_type": "execute_result"
    }
   ],
   "source": [
    "df[\"Fuel_Efficiency\"].unique()"
   ]
  },
  {
   "cell_type": "markdown",
   "metadata": {},
   "source": [
    "#### Column CO2_Emissions\n"
   ]
  },
  {
   "cell_type": "code",
   "execution_count": 37,
   "metadata": {},
   "outputs": [
    {
     "data": {
      "text/plain": [
       "np.int64(0)"
      ]
     },
     "execution_count": 37,
     "metadata": {},
     "output_type": "execute_result"
    }
   ],
   "source": [
    "df[\"CO2_Emissions\"].isnull().sum()"
   ]
  },
  {
   "cell_type": "code",
   "execution_count": 38,
   "metadata": {},
   "outputs": [
    {
     "data": {
      "text/plain": [
       "array([307, 113, 321, 343, 246, 374, 176, 207, 429, 210, 224, 192, 336,\n",
       "       347, 242, 308, 418, 122, 109, 355, 276, 353, 389, 194, 394, 179,\n",
       "       317, 199, 380, 296, 346, 189, 352, 105, 118, 209, 186, 112, 441,\n",
       "       294, 175, 328, 258, 432, 304, 425, 339, 413, 298, 237, 322, 423,\n",
       "       437, 314, 107, 315, 383, 354, 422, 260, 213, 344, 435, 302, 316,\n",
       "       244, 233, 273, 369, 264, 206, 431, 438, 440, 128, 319, 148, 101,\n",
       "       297, 188, 310, 169, 292, 145, 162, 218, 325, 126, 290, 378, 327,\n",
       "       323, 157, 400, 241, 249, 116, 137, 445, 386, 197, 446, 219, 309,\n",
       "       312, 247, 195, 359, 172, 430, 381, 131, 127, 406, 267, 136, 333,\n",
       "       278, 156, 332, 171, 102, 301, 306, 150, 337, 125, 391, 120, 439,\n",
       "       159, 341, 177, 230, 313, 227, 280, 293, 417, 144, 282, 416, 104,\n",
       "       253, 130, 436, 427, 124, 252, 240, 397, 211, 368, 271, 390, 402,\n",
       "       334, 405, 395, 320, 388, 158, 350, 232, 342, 161, 203, 204, 190,\n",
       "       263, 214, 185, 147, 287, 183, 345, 305, 215, 356, 114, 142, 202,\n",
       "       393, 330, 349, 182, 329, 196, 239, 160, 140, 401, 257, 357, 255,\n",
       "       363, 138, 243, 281, 424, 111, 191, 103, 121, 291, 338, 129, 408,\n",
       "       153, 434, 135, 412, 371, 364, 132, 444, 180, 181, 245, 235, 146,\n",
       "       396, 288, 151, 275, 225, 141, 447, 165, 226, 274, 117, 420, 392,\n",
       "       414, 261, 228, 279, 100, 326, 411, 373, 410, 376, 256, 152, 234,\n",
       "       385, 448, 154, 164, 362, 399, 340, 259, 426, 370, 300, 251, 110,\n",
       "       318, 208, 324, 449, 403, 366, 286, 193, 108, 212, 221, 217, 398,\n",
       "       361, 351, 442, 223, 178, 348, 299, 231, 443, 170, 201, 222, 372,\n",
       "       303, 236, 407, 119, 115, 173, 433, 200, 149, 365, 283, 377, 387,\n",
       "       428, 382, 163, 254, 198, 384, 187, 270, 167, 311, 360, 184, 123,\n",
       "       205, 272, 174, 284, 269, 295, 409, 358, 134, 421, 266, 220, 143,\n",
       "       265, 379, 419, 262, 216, 331, 238, 139, 155, 248, 168, 166, 335,\n",
       "       375, 106, 229, 289, 268, 404, 277, 415, 250, 285, 133, 367])"
      ]
     },
     "execution_count": 38,
     "metadata": {},
     "output_type": "execute_result"
    }
   ],
   "source": [
    "df[\"CO2_Emissions\"].unique()"
   ]
  },
  {
   "cell_type": "markdown",
   "metadata": {},
   "source": [
    "#### Column Price\n"
   ]
  },
  {
   "cell_type": "code",
   "execution_count": 39,
   "metadata": {},
   "outputs": [
    {
     "data": {
      "text/plain": [
       "np.int64(0)"
      ]
     },
     "execution_count": 39,
     "metadata": {},
     "output_type": "execute_result"
    }
   ],
   "source": [
    "df[\"Price\"].isnull().sum()"
   ]
  },
  {
   "cell_type": "code",
   "execution_count": 40,
   "metadata": {},
   "outputs": [
    {
     "data": {
      "text/plain": [
       "array([ 81580, 308455, 420374, ..., 149052, 261268,  78239])"
      ]
     },
     "execution_count": 40,
     "metadata": {},
     "output_type": "execute_result"
    }
   ],
   "source": [
    "df[\"Price\"].unique()"
   ]
  },
  {
   "cell_type": "markdown",
   "metadata": {},
   "source": [
    "#### Column Mileage\n"
   ]
  },
  {
   "cell_type": "code",
   "execution_count": 41,
   "metadata": {},
   "outputs": [
    {
     "data": {
      "text/plain": [
       "np.int64(0)"
      ]
     },
     "execution_count": 41,
     "metadata": {},
     "output_type": "execute_result"
    }
   ],
   "source": [
    "df[\"Mileage\"].isnull().sum()"
   ]
  },
  {
   "cell_type": "code",
   "execution_count": 42,
   "metadata": {},
   "outputs": [
    {
     "data": {
      "text/plain": [
       "array([ 96664, 159630, 111496, ...,  30314,  13144,  57970])"
      ]
     },
     "execution_count": 42,
     "metadata": {},
     "output_type": "execute_result"
    }
   ],
   "source": [
    "df[\"Mileage\"].unique()"
   ]
  },
  {
   "cell_type": "markdown",
   "metadata": {},
   "source": [
    "#### Column Popularity\n"
   ]
  },
  {
   "cell_type": "code",
   "execution_count": 43,
   "metadata": {},
   "outputs": [
    {
     "data": {
      "text/plain": [
       "np.int64(0)"
      ]
     },
     "execution_count": 43,
     "metadata": {},
     "output_type": "execute_result"
    }
   ],
   "source": [
    "df[\"Popularity\"].isnull().sum()"
   ]
  },
  {
   "cell_type": "code",
   "execution_count": 44,
   "metadata": {},
   "outputs": [
    {
     "data": {
      "text/plain": [
       "array(['Low', 'High', 'Medium'], dtype=object)"
      ]
     },
     "execution_count": 44,
     "metadata": {},
     "output_type": "execute_result"
    }
   ],
   "source": [
    "df[\"Popularity\"].unique()"
   ]
  },
  {
   "cell_type": "markdown",
   "metadata": {},
   "source": [
    "#### Column Safety_Rating\n"
   ]
  },
  {
   "cell_type": "code",
   "execution_count": 45,
   "metadata": {},
   "outputs": [
    {
     "data": {
      "text/plain": [
       "np.int64(0)"
      ]
     },
     "execution_count": 45,
     "metadata": {},
     "output_type": "execute_result"
    }
   ],
   "source": [
    "df[\"Safety_Rating\"].isnull().sum()"
   ]
  },
  {
   "cell_type": "code",
   "execution_count": 46,
   "metadata": {},
   "outputs": [
    {
     "data": {
      "text/plain": [
       "array([2, 1, 3, 4])"
      ]
     },
     "execution_count": 46,
     "metadata": {},
     "output_type": "execute_result"
    }
   ],
   "source": [
    "df[\"Safety_Rating\"].unique()"
   ]
  },
  {
   "cell_type": "markdown",
   "metadata": {},
   "source": [
    "#### Column Number_of_Owners\n"
   ]
  },
  {
   "cell_type": "code",
   "execution_count": 47,
   "metadata": {},
   "outputs": [
    {
     "data": {
      "text/plain": [
       "np.int64(0)"
      ]
     },
     "execution_count": 47,
     "metadata": {},
     "output_type": "execute_result"
    }
   ],
   "source": [
    "df[\"Number_of_Owners\"].isnull().sum()"
   ]
  },
  {
   "cell_type": "code",
   "execution_count": 48,
   "metadata": {},
   "outputs": [
    {
     "data": {
      "text/plain": [
       "array([4, 2, 3, 1])"
      ]
     },
     "execution_count": 48,
     "metadata": {},
     "output_type": "execute_result"
    }
   ],
   "source": [
    "df[\"Number_of_Owners\"].unique()"
   ]
  },
  {
   "cell_type": "markdown",
   "metadata": {},
   "source": [
    "#### Column Market_Demand\n"
   ]
  },
  {
   "cell_type": "code",
   "execution_count": 49,
   "metadata": {},
   "outputs": [
    {
     "data": {
      "text/plain": [
       "np.int64(0)"
      ]
     },
     "execution_count": 49,
     "metadata": {},
     "output_type": "execute_result"
    }
   ],
   "source": [
    "df[\"Market_Demand\"].isnull().sum()"
   ]
  },
  {
   "cell_type": "code",
   "execution_count": 50,
   "metadata": {},
   "outputs": [
    {
     "data": {
      "text/plain": [
       "array(['Medium', 'Low', 'High'], dtype=object)"
      ]
     },
     "execution_count": 50,
     "metadata": {},
     "output_type": "execute_result"
    }
   ],
   "source": [
    "df[\"Market_Demand\"].unique()"
   ]
  },
  {
   "cell_type": "markdown",
   "metadata": {},
   "source": [
    "#### Column Insurance_Cost\n"
   ]
  },
  {
   "cell_type": "code",
   "execution_count": 51,
   "metadata": {},
   "outputs": [
    {
     "data": {
      "text/plain": [
       "np.int64(0)"
      ]
     },
     "execution_count": 51,
     "metadata": {},
     "output_type": "execute_result"
    }
   ],
   "source": [
    "df[\"Insurance_Cost\"].isnull().sum()"
   ]
  },
  {
   "cell_type": "code",
   "execution_count": 52,
   "metadata": {},
   "outputs": [
    {
     "data": {
      "text/plain": [
       "array([13410, 10795,  1716, ...,  1134,  7107,  1802])"
      ]
     },
     "execution_count": 52,
     "metadata": {},
     "output_type": "execute_result"
    }
   ],
   "source": [
    "df[\"Insurance_Cost\"].unique()"
   ]
  },
  {
   "cell_type": "markdown",
   "metadata": {},
   "source": [
    "#### Column Production_Units\n"
   ]
  },
  {
   "cell_type": "code",
   "execution_count": 53,
   "metadata": {},
   "outputs": [
    {
     "data": {
      "text/plain": [
       "np.int64(0)"
      ]
     },
     "execution_count": 53,
     "metadata": {},
     "output_type": "execute_result"
    }
   ],
   "source": [
    "df[\"Production_Units\"].isnull().sum()"
   ]
  },
  {
   "cell_type": "code",
   "execution_count": 54,
   "metadata": {},
   "outputs": [
    {
     "data": {
      "text/plain": [
       "array([  5000,   1000,  20000, 100000,    200,     50])"
      ]
     },
     "execution_count": 54,
     "metadata": {},
     "output_type": "execute_result"
    }
   ],
   "source": [
    "df[\"Production_Units\"].unique()"
   ]
  },
  {
   "cell_type": "markdown",
   "metadata": {},
   "source": [
    "#### Column Log_Price\n"
   ]
  },
  {
   "cell_type": "code",
   "execution_count": 55,
   "metadata": {},
   "outputs": [
    {
     "data": {
      "text/plain": [
       "np.int64(0)"
      ]
     },
     "execution_count": 55,
     "metadata": {},
     "output_type": "execute_result"
    }
   ],
   "source": [
    "df[\"Log_Price\"].isnull().sum()"
   ]
  },
  {
   "cell_type": "code",
   "execution_count": 56,
   "metadata": {},
   "outputs": [
    {
     "data": {
      "text/plain": [
       "array([11.30935167, 12.63933449, 12.94890245, ..., 11.91205723,\n",
       "       12.47330581, 11.2675363 ])"
      ]
     },
     "execution_count": 56,
     "metadata": {},
     "output_type": "execute_result"
    }
   ],
   "source": [
    "df[\"Log_Price\"].unique()"
   ]
  },
  {
   "cell_type": "markdown",
   "metadata": {},
   "source": [
    "#### Column Log_Mileage\n"
   ]
  },
  {
   "cell_type": "code",
   "execution_count": 57,
   "metadata": {},
   "outputs": [
    {
     "data": {
      "text/plain": [
       "np.int64(0)"
      ]
     },
     "execution_count": 57,
     "metadata": {},
     "output_type": "execute_result"
    }
   ],
   "source": [
    "df[\"Log_Mileage\"].isnull().sum()"
   ]
  },
  {
   "cell_type": "code",
   "execution_count": 58,
   "metadata": {},
   "outputs": [
    {
     "data": {
      "text/plain": [
       "array([11.47900667, 11.98062018, 11.62175296, ..., 10.31939792,\n",
       "        9.48379674, 10.96769816])"
      ]
     },
     "execution_count": 58,
     "metadata": {},
     "output_type": "execute_result"
    }
   ],
   "source": [
    "df[\"Log_Mileage\"].unique()"
   ]
  },
  {
   "cell_type": "markdown",
   "metadata": {},
   "source": [
    "#### Column Modification"
   ]
  },
  {
   "cell_type": "code",
   "execution_count": 59,
   "metadata": {},
   "outputs": [
    {
     "data": {
      "text/plain": [
       "np.int64(3023)"
      ]
     },
     "execution_count": 59,
     "metadata": {},
     "output_type": "execute_result"
    }
   ],
   "source": [
    "df[\"Modification\"].isnull().sum()"
   ]
  },
  {
   "cell_type": "code",
   "execution_count": 60,
   "metadata": {},
   "outputs": [
    {
     "data": {
      "text/plain": [
       "array(['V-Spec', nan, 'Nismo', 'Supercharged', 'GT', 'Turbo',\n",
       "       'Track Edition', 'Sport', 'RS'], dtype=object)"
      ]
     },
     "execution_count": 60,
     "metadata": {},
     "output_type": "execute_result"
    }
   ],
   "source": [
    "df[\"Modification\"].unique()"
   ]
  },
  {
   "cell_type": "code",
   "execution_count": 61,
   "metadata": {},
   "outputs": [
    {
     "name": "stderr",
     "output_type": "stream",
     "text": [
      "/var/folders/k5/31v5qtn906158jhjx2lmfxwr0000gn/T/ipykernel_48734/4173488794.py:1: FutureWarning: A value is trying to be set on a copy of a DataFrame or Series through chained assignment using an inplace method.\n",
      "The behavior will change in pandas 3.0. This inplace method will never work because the intermediate object on which we are setting values always behaves as a copy.\n",
      "\n",
      "For example, when doing 'df[col].method(value, inplace=True)', try using 'df.method({col: value}, inplace=True)' or df[col] = df[col].method(value) instead, to perform the operation inplace on the original object.\n",
      "\n",
      "\n",
      "  df[\"Modification\"].replace(np.nan, \"\", regex=True, inplace=True)\n"
     ]
    },
    {
     "data": {
      "text/plain": [
       "np.int64(0)"
      ]
     },
     "execution_count": 61,
     "metadata": {},
     "output_type": "execute_result"
    }
   ],
   "source": [
    "df[\"Modification\"].replace(np.nan, \"\", regex=True, inplace=True)\n",
    "df[\"Modification\"].isnull().sum()"
   ]
  },
  {
   "cell_type": "code",
   "execution_count": 62,
   "metadata": {},
   "outputs": [
    {
     "data": {
      "text/plain": [
       "array(['V-Spec', '', 'Nismo', 'Supercharged', 'GT', 'Turbo',\n",
       "       'Track Edition', 'Sport', 'RS'], dtype=object)"
      ]
     },
     "execution_count": 62,
     "metadata": {},
     "output_type": "execute_result"
    }
   ],
   "source": [
    "df[\"Modification\"].unique()"
   ]
  },
  {
   "cell_type": "markdown",
   "metadata": {},
   "source": [
    "### GRAPHICS"
   ]
  },
  {
   "cell_type": "code",
   "execution_count": 63,
   "metadata": {},
   "outputs": [
    {
     "name": "stdout",
     "output_type": "stream",
     "text": [
      "<class 'pandas.core.frame.DataFrame'>\n",
      "RangeIndex: 5000 entries, 0 to 4999\n",
      "Data columns (total 27 columns):\n",
      " #   Column              Non-Null Count  Dtype  \n",
      "---  ------              --------------  -----  \n",
      " 0   Brand               5000 non-null   object \n",
      " 1   Model               5000 non-null   object \n",
      " 2   Year                5000 non-null   int64  \n",
      " 3   Country             5000 non-null   object \n",
      " 4   Condition           5000 non-null   object \n",
      " 5   Engine_Size         5000 non-null   float64\n",
      " 6   Horsepower          5000 non-null   int64  \n",
      " 7   Torque              5000 non-null   int64  \n",
      " 8   Weight              5000 non-null   int64  \n",
      " 9   Top_Speed           5000 non-null   int64  \n",
      " 10  Acceleration_0_100  5000 non-null   float64\n",
      " 11  Fuel_Type           5000 non-null   object \n",
      " 12  Drivetrain          5000 non-null   object \n",
      " 13  Transmission        5000 non-null   object \n",
      " 14  Fuel_Efficiency     5000 non-null   float64\n",
      " 15  CO2_Emissions       5000 non-null   int64  \n",
      " 16  Price               5000 non-null   int64  \n",
      " 17  Mileage             5000 non-null   int64  \n",
      " 18  Popularity          5000 non-null   object \n",
      " 19  Safety_Rating       5000 non-null   int64  \n",
      " 20  Number_of_Owners    5000 non-null   int64  \n",
      " 21  Market_Demand       5000 non-null   object \n",
      " 22  Insurance_Cost      5000 non-null   int64  \n",
      " 23  Production_Units    5000 non-null   int64  \n",
      " 24  Log_Price           5000 non-null   float64\n",
      " 25  Log_Mileage         5000 non-null   float64\n",
      " 26  Modification        5000 non-null   object \n",
      "dtypes: float64(5), int64(12), object(10)\n",
      "memory usage: 1.0+ MB\n"
     ]
    }
   ],
   "source": [
    "df.info()"
   ]
  },
  {
   "cell_type": "markdown",
   "metadata": {},
   "source": [
    "#### Brand Graphic"
   ]
  },
  {
   "cell_type": "code",
   "execution_count": 64,
   "metadata": {},
   "outputs": [
    {
     "data": {
      "image/png": "[encoded data removed]",
      "text/plain": [
       "<Figure size 640x480 with 1 Axes>"
      ]
     },
     "metadata": {},
     "output_type": "display_data"
    }
   ],
   "source": [
    "sns.countplot(x=\"Brand\", data=df)\n",
    "plt.title(\"Brand\")\n",
    "plt.show()"
   ]
  },
  {
   "cell_type": "code",
   "execution_count": 65,
   "metadata": {},
   "outputs": [
    {
     "data": {
      "text/html": [
       "<div>\n",
       "<style scoped>\n",
       "    .dataframe tbody tr th:only-of-type {\n",
       "        vertical-align: middle;\n",
       "    }\n",
       "\n",
       "    .dataframe tbody tr th {\n",
       "        vertical-align: top;\n",
       "    }\n",
       "\n",
       "    .dataframe thead th {\n",
       "        text-align: right;\n",
       "    }\n",
       "</style>\n",
       "<table border=\"1\" class=\"dataframe\">\n",
       "  <thead>\n",
       "    <tr style=\"text-align: right;\">\n",
       "      <th></th>\n",
       "      <th>count</th>\n",
       "      <th>percentage</th>\n",
       "    </tr>\n",
       "    <tr>\n",
       "      <th>Brand</th>\n",
       "      <th></th>\n",
       "      <th></th>\n",
       "    </tr>\n",
       "  </thead>\n",
       "  <tbody>\n",
       "    <tr>\n",
       "      <th>Ferrari</th>\n",
       "      <td>533</td>\n",
       "      <td>10.7%</td>\n",
       "    </tr>\n",
       "    <tr>\n",
       "      <th>Chevrolet</th>\n",
       "      <td>516</td>\n",
       "      <td>10.3%</td>\n",
       "    </tr>\n",
       "    <tr>\n",
       "      <th>Porsche</th>\n",
       "      <td>513</td>\n",
       "      <td>10.3%</td>\n",
       "    </tr>\n",
       "    <tr>\n",
       "      <th>Aston Martin</th>\n",
       "      <td>513</td>\n",
       "      <td>10.3%</td>\n",
       "    </tr>\n",
       "    <tr>\n",
       "      <th>Bugatti</th>\n",
       "      <td>507</td>\n",
       "      <td>10.1%</td>\n",
       "    </tr>\n",
       "    <tr>\n",
       "      <th>BMW</th>\n",
       "      <td>496</td>\n",
       "      <td>9.9%</td>\n",
       "    </tr>\n",
       "    <tr>\n",
       "      <th>McLaren</th>\n",
       "      <td>486</td>\n",
       "      <td>9.7%</td>\n",
       "    </tr>\n",
       "    <tr>\n",
       "      <th>Ford</th>\n",
       "      <td>486</td>\n",
       "      <td>9.7%</td>\n",
       "    </tr>\n",
       "    <tr>\n",
       "      <th>Nissan</th>\n",
       "      <td>480</td>\n",
       "      <td>9.6%</td>\n",
       "    </tr>\n",
       "    <tr>\n",
       "      <th>Lamborghini</th>\n",
       "      <td>470</td>\n",
       "      <td>9.4%</td>\n",
       "    </tr>\n",
       "  </tbody>\n",
       "</table>\n",
       "</div>"
      ],
      "text/plain": [
       "              count percentage\n",
       "Brand                         \n",
       "Ferrari         533      10.7%\n",
       "Chevrolet       516      10.3%\n",
       "Porsche         513      10.3%\n",
       "Aston Martin    513      10.3%\n",
       "Bugatti         507      10.1%\n",
       "BMW             496       9.9%\n",
       "McLaren         486       9.7%\n",
       "Ford            486       9.7%\n",
       "Nissan          480       9.6%\n",
       "Lamborghini     470       9.4%"
      ]
     },
     "execution_count": 65,
     "metadata": {},
     "output_type": "execute_result"
    }
   ],
   "source": [
    "counts = df[\"Brand\"].value_counts()\n",
    "percs = df[\"Brand\"].value_counts(normalize=True).mul(100).round(1).astype(str)+\"%\"\n",
    "pd.concat([counts,percs],axis=1, keys=[\"count\",\"percentage\"])"
   ]
  },
  {
   "cell_type": "code",
   "execution_count": 66,
   "metadata": {},
   "outputs": [
    {
     "data": {
      "text/plain": [
       "<Axes: ylabel='Brands'>"
      ]
     },
     "execution_count": 66,
     "metadata": {},
     "output_type": "execute_result"
    },
    {
     "data": {
      "image/png": "[encoded data removed]",
      "text/plain": [
       "<Figure size 640x480 with 1 Axes>"
      ]
     },
     "metadata": {},
     "output_type": "display_data"
    }
   ],
   "source": [
    "df[\"Brand\"].value_counts().plot(kind=\"pie\",ylabel=\"Brands\",autopct=\"%1.0f%%\")"
   ]
  },
  {
   "cell_type": "markdown",
   "metadata": {},
   "source": [
    "#### Model Graphic"
   ]
  },
  {
   "cell_type": "code",
   "execution_count": 67,
   "metadata": {},
   "outputs": [
    {
     "data": {
      "image/png": "[encoded data removed]",
      "text/plain": [
       "<Figure size 640x480 with 1 Axes>"
      ]
     },
     "metadata": {},
     "output_type": "display_data"
    }
   ],
   "source": [
    "sns.countplot(x=\"Model\", data=df)\n",
    "plt.title(\"Model\")\n",
    "plt.show()"
   ]
  },
  {
   "cell_type": "code",
   "execution_count": 68,
   "metadata": {},
   "outputs": [
    {
     "data": {
      "text/plain": [
       "Brand         Model         \n",
       "Aston Martin  488 GTB           52\n",
       "              720S              52\n",
       "              911 Turbo S       58\n",
       "              Chiron            50\n",
       "              Corvette Z06      49\n",
       "              DBS               42\n",
       "              GT-R              52\n",
       "              Huracan           55\n",
       "              M4 Competition    50\n",
       "              Mustang GT        53\n",
       "BMW           488 GTB           56\n",
       "              720S              52\n",
       "              911 Turbo S       43\n",
       "              Chiron            44\n",
       "              Corvette Z06      52\n",
       "              DBS               49\n",
       "              GT-R              56\n",
       "              Huracan           45\n",
       "              M4 Competition    53\n",
       "              Mustang GT        46\n",
       "Bugatti       488 GTB           48\n",
       "              720S              52\n",
       "              911 Turbo S       48\n",
       "              Chiron            53\n",
       "              Corvette Z06      33\n",
       "              DBS               63\n",
       "              GT-R              51\n",
       "              Huracan           49\n",
       "              M4 Competition    56\n",
       "              Mustang GT        54\n",
       "Chevrolet     488 GTB           53\n",
       "              720S              57\n",
       "              911 Turbo S       54\n",
       "              Chiron            49\n",
       "              Corvette Z06      41\n",
       "              DBS               45\n",
       "              GT-R              52\n",
       "              Huracan           50\n",
       "              M4 Competition    53\n",
       "              Mustang GT        62\n",
       "Ferrari       488 GTB           62\n",
       "              720S              48\n",
       "              911 Turbo S       53\n",
       "              Chiron            44\n",
       "              Corvette Z06      46\n",
       "              DBS               51\n",
       "              GT-R              58\n",
       "              Huracan           58\n",
       "              M4 Competition    61\n",
       "              Mustang GT        52\n",
       "Ford          488 GTB           55\n",
       "              720S              42\n",
       "              911 Turbo S       46\n",
       "              Chiron            44\n",
       "              Corvette Z06      41\n",
       "              DBS               62\n",
       "              GT-R              49\n",
       "              Huracan           44\n",
       "              M4 Competition    60\n",
       "              Mustang GT        43\n",
       "Lamborghini   488 GTB           52\n",
       "              720S              35\n",
       "              911 Turbo S       36\n",
       "              Chiron            44\n",
       "              Corvette Z06      38\n",
       "              DBS               49\n",
       "              GT-R              50\n",
       "              Huracan           65\n",
       "              M4 Competition    55\n",
       "              Mustang GT        46\n",
       "McLaren       488 GTB           43\n",
       "              720S              42\n",
       "              911 Turbo S       49\n",
       "              Chiron            40\n",
       "              Corvette Z06      47\n",
       "              DBS               46\n",
       "              GT-R              52\n",
       "              Huracan           61\n",
       "              M4 Competition    47\n",
       "              Mustang GT        59\n",
       "Nissan        488 GTB           39\n",
       "              720S              56\n",
       "              911 Turbo S       42\n",
       "              Chiron            46\n",
       "              Corvette Z06      51\n",
       "              DBS               47\n",
       "              GT-R              64\n",
       "              Huracan           43\n",
       "              M4 Competition    54\n",
       "              Mustang GT        38\n",
       "Porsche       488 GTB           60\n",
       "              720S              49\n",
       "              911 Turbo S       54\n",
       "              Chiron            41\n",
       "              Corvette Z06      53\n",
       "              DBS               54\n",
       "              GT-R              53\n",
       "              Huracan           45\n",
       "              M4 Competition    49\n",
       "              Mustang GT        55\n",
       "dtype: int64"
      ]
     },
     "execution_count": 68,
     "metadata": {},
     "output_type": "execute_result"
    }
   ],
   "source": [
    "df.groupby([\"Brand\",\"Model\"]).size()"
   ]
  },
  {
   "cell_type": "markdown",
   "metadata": {},
   "source": [
    "### REGRESSION"
   ]
  },
  {
   "cell_type": "code",
   "execution_count": 69,
   "metadata": {},
   "outputs": [],
   "source": [
    "# condition_dict = {\"new\": 1, \"used\": 2, \"restored\": 3, \"salvage\": 4}\n",
    "# popularity_dict = {\"High\": 1, \"Medium\": 2, \"Low\": 3}"
   ]
  },
  {
   "cell_type": "code",
   "execution_count": 70,
   "metadata": {},
   "outputs": [],
   "source": [
    "# df[\"Year\"] = df.apply(lambda row: datetime.now().year - row.Year, axis=1)"
   ]
  },
  {
   "cell_type": "code",
   "execution_count": 71,
   "metadata": {},
   "outputs": [],
   "source": [
    "# df.apply(lambda row:condition_dict[row.Condition], axis=1 )"
   ]
  },
  {
   "cell_type": "code",
   "execution_count": 72,
   "metadata": {},
   "outputs": [],
   "source": [
    "df[\"Modification\"] = df.apply(lambda row:1 if len(row.Modification) else 0, axis= 1 )"
   ]
  },
  {
   "cell_type": "code",
   "execution_count": 73,
   "metadata": {},
   "outputs": [],
   "source": [
    "# df[\"Popularity\"] = df.apply(lambda row: popularity_dict[row.Popularity], axis=1)"
   ]
  },
  {
   "cell_type": "code",
   "execution_count": 74,
   "metadata": {},
   "outputs": [
    {
     "data": {
      "text/html": [
       "<div>\n",
       "<style scoped>\n",
       "    .dataframe tbody tr th:only-of-type {\n",
       "        vertical-align: middle;\n",
       "    }\n",
       "\n",
       "    .dataframe tbody tr th {\n",
       "        vertical-align: top;\n",
       "    }\n",
       "\n",
       "    .dataframe thead th {\n",
       "        text-align: right;\n",
       "    }\n",
       "</style>\n",
       "<table border=\"1\" class=\"dataframe\">\n",
       "  <thead>\n",
       "    <tr style=\"text-align: right;\">\n",
       "      <th></th>\n",
       "      <th>Year</th>\n",
       "      <th>Number_of_Owners</th>\n",
       "      <th>Production_Units</th>\n",
       "      <th>Insurance_Cost</th>\n",
       "      <th>Fuel_Efficiency</th>\n",
       "      <th>CO2_Emissions</th>\n",
       "      <th>Engine_Size</th>\n",
       "      <th>Horsepower</th>\n",
       "      <th>Torque</th>\n",
       "      <th>Weight</th>\n",
       "      <th>Top_Speed</th>\n",
       "      <th>Acceleration_0_100</th>\n",
       "      <th>Modification</th>\n",
       "      <th>Brand_Aston Martin</th>\n",
       "      <th>Brand_BMW</th>\n",
       "      <th>Brand_Bugatti</th>\n",
       "      <th>Brand_Chevrolet</th>\n",
       "      <th>Brand_Ferrari</th>\n",
       "      <th>Brand_Ford</th>\n",
       "      <th>Brand_Lamborghini</th>\n",
       "      <th>Brand_McLaren</th>\n",
       "      <th>Brand_Nissan</th>\n",
       "      <th>Brand_Porsche</th>\n",
       "      <th>Popularity_High</th>\n",
       "      <th>Popularity_Low</th>\n",
       "      <th>Popularity_Medium</th>\n",
       "      <th>Country_Asia</th>\n",
       "      <th>Country_Europe</th>\n",
       "      <th>Country_USA</th>\n",
       "      <th>Condition_new</th>\n",
       "      <th>Condition_restored</th>\n",
       "      <th>Condition_salvage</th>\n",
       "      <th>Condition_used</th>\n",
       "      <th>Market_Demand_High</th>\n",
       "      <th>Market_Demand_Low</th>\n",
       "      <th>Market_Demand_Medium</th>\n",
       "      <th>Fuel_Type_Diesel</th>\n",
       "      <th>Fuel_Type_Electric</th>\n",
       "      <th>Fuel_Type_Petrol</th>\n",
       "      <th>Transmission_Automatic</th>\n",
       "      <th>Transmission_CVT</th>\n",
       "      <th>Transmission_DCT</th>\n",
       "      <th>Transmission_Manual</th>\n",
       "      <th>Drivetrain_AWD</th>\n",
       "      <th>Drivetrain_FWD</th>\n",
       "      <th>Drivetrain_RWD</th>\n",
       "      <th>Model_488 GTB</th>\n",
       "      <th>Model_720S</th>\n",
       "      <th>Model_911 Turbo S</th>\n",
       "      <th>Model_Chiron</th>\n",
       "      <th>Model_Corvette Z06</th>\n",
       "      <th>Model_DBS</th>\n",
       "      <th>Model_GT-R</th>\n",
       "      <th>Model_Huracan</th>\n",
       "      <th>Model_M4 Competition</th>\n",
       "      <th>Model_Mustang GT</th>\n",
       "    </tr>\n",
       "  </thead>\n",
       "  <tbody>\n",
       "    <tr>\n",
       "      <th>0</th>\n",
       "      <td>2006</td>\n",
       "      <td>4</td>\n",
       "      <td>5000</td>\n",
       "      <td>13410</td>\n",
       "      <td>10.5</td>\n",
       "      <td>307</td>\n",
       "      <td>3.7</td>\n",
       "      <td>420</td>\n",
       "      <td>705</td>\n",
       "      <td>1785</td>\n",
       "      <td>238</td>\n",
       "      <td>5.7</td>\n",
       "      <td>1</td>\n",
       "      <td>0</td>\n",
       "      <td>0</td>\n",
       "      <td>0</td>\n",
       "      <td>0</td>\n",
       "      <td>0</td>\n",
       "      <td>0</td>\n",
       "      <td>0</td>\n",
       "      <td>0</td>\n",
       "      <td>1</td>\n",
       "      <td>0</td>\n",
       "      <td>0</td>\n",
       "      <td>1</td>\n",
       "      <td>0</td>\n",
       "      <td>1</td>\n",
       "      <td>0</td>\n",
       "      <td>0</td>\n",
       "      <td>0</td>\n",
       "      <td>0</td>\n",
       "      <td>0</td>\n",
       "      <td>1</td>\n",
       "      <td>0</td>\n",
       "      <td>0</td>\n",
       "      <td>1</td>\n",
       "      <td>1</td>\n",
       "      <td>0</td>\n",
       "      <td>0</td>\n",
       "      <td>1</td>\n",
       "      <td>0</td>\n",
       "      <td>0</td>\n",
       "      <td>0</td>\n",
       "      <td>0</td>\n",
       "      <td>0</td>\n",
       "      <td>1</td>\n",
       "      <td>0</td>\n",
       "      <td>1</td>\n",
       "      <td>0</td>\n",
       "      <td>0</td>\n",
       "      <td>0</td>\n",
       "      <td>0</td>\n",
       "      <td>0</td>\n",
       "      <td>0</td>\n",
       "      <td>0</td>\n",
       "      <td>0</td>\n",
       "    </tr>\n",
       "    <tr>\n",
       "      <th>1</th>\n",
       "      <td>2009</td>\n",
       "      <td>2</td>\n",
       "      <td>1000</td>\n",
       "      <td>10795</td>\n",
       "      <td>9.4</td>\n",
       "      <td>113</td>\n",
       "      <td>5.3</td>\n",
       "      <td>1104</td>\n",
       "      <td>766</td>\n",
       "      <td>992</td>\n",
       "      <td>386</td>\n",
       "      <td>4.6</td>\n",
       "      <td>0</td>\n",
       "      <td>0</td>\n",
       "      <td>0</td>\n",
       "      <td>0</td>\n",
       "      <td>0</td>\n",
       "      <td>0</td>\n",
       "      <td>0</td>\n",
       "      <td>0</td>\n",
       "      <td>1</td>\n",
       "      <td>0</td>\n",
       "      <td>0</td>\n",
       "      <td>1</td>\n",
       "      <td>0</td>\n",
       "      <td>0</td>\n",
       "      <td>0</td>\n",
       "      <td>1</td>\n",
       "      <td>0</td>\n",
       "      <td>1</td>\n",
       "      <td>0</td>\n",
       "      <td>0</td>\n",
       "      <td>0</td>\n",
       "      <td>0</td>\n",
       "      <td>0</td>\n",
       "      <td>1</td>\n",
       "      <td>0</td>\n",
       "      <td>1</td>\n",
       "      <td>0</td>\n",
       "      <td>0</td>\n",
       "      <td>0</td>\n",
       "      <td>1</td>\n",
       "      <td>0</td>\n",
       "      <td>0</td>\n",
       "      <td>0</td>\n",
       "      <td>1</td>\n",
       "      <td>0</td>\n",
       "      <td>0</td>\n",
       "      <td>1</td>\n",
       "      <td>0</td>\n",
       "      <td>0</td>\n",
       "      <td>0</td>\n",
       "      <td>0</td>\n",
       "      <td>0</td>\n",
       "      <td>0</td>\n",
       "      <td>0</td>\n",
       "    </tr>\n",
       "    <tr>\n",
       "      <th>2</th>\n",
       "      <td>2009</td>\n",
       "      <td>2</td>\n",
       "      <td>20000</td>\n",
       "      <td>1716</td>\n",
       "      <td>5.0</td>\n",
       "      <td>321</td>\n",
       "      <td>5.5</td>\n",
       "      <td>153</td>\n",
       "      <td>1573</td>\n",
       "      <td>2022</td>\n",
       "      <td>397</td>\n",
       "      <td>6.7</td>\n",
       "      <td>0</td>\n",
       "      <td>0</td>\n",
       "      <td>0</td>\n",
       "      <td>0</td>\n",
       "      <td>1</td>\n",
       "      <td>0</td>\n",
       "      <td>0</td>\n",
       "      <td>0</td>\n",
       "      <td>0</td>\n",
       "      <td>0</td>\n",
       "      <td>0</td>\n",
       "      <td>1</td>\n",
       "      <td>0</td>\n",
       "      <td>0</td>\n",
       "      <td>0</td>\n",
       "      <td>0</td>\n",
       "      <td>1</td>\n",
       "      <td>1</td>\n",
       "      <td>0</td>\n",
       "      <td>0</td>\n",
       "      <td>0</td>\n",
       "      <td>0</td>\n",
       "      <td>1</td>\n",
       "      <td>0</td>\n",
       "      <td>1</td>\n",
       "      <td>0</td>\n",
       "      <td>0</td>\n",
       "      <td>1</td>\n",
       "      <td>0</td>\n",
       "      <td>0</td>\n",
       "      <td>0</td>\n",
       "      <td>0</td>\n",
       "      <td>1</td>\n",
       "      <td>0</td>\n",
       "      <td>0</td>\n",
       "      <td>0</td>\n",
       "      <td>0</td>\n",
       "      <td>0</td>\n",
       "      <td>0</td>\n",
       "      <td>0</td>\n",
       "      <td>0</td>\n",
       "      <td>0</td>\n",
       "      <td>1</td>\n",
       "      <td>0</td>\n",
       "    </tr>\n",
       "    <tr>\n",
       "      <th>3</th>\n",
       "      <td>1982</td>\n",
       "      <td>4</td>\n",
       "      <td>20000</td>\n",
       "      <td>11618</td>\n",
       "      <td>7.3</td>\n",
       "      <td>343</td>\n",
       "      <td>5.4</td>\n",
       "      <td>544</td>\n",
       "      <td>1009</td>\n",
       "      <td>1091</td>\n",
       "      <td>151</td>\n",
       "      <td>2.7</td>\n",
       "      <td>0</td>\n",
       "      <td>0</td>\n",
       "      <td>0</td>\n",
       "      <td>1</td>\n",
       "      <td>0</td>\n",
       "      <td>0</td>\n",
       "      <td>0</td>\n",
       "      <td>0</td>\n",
       "      <td>0</td>\n",
       "      <td>0</td>\n",
       "      <td>0</td>\n",
       "      <td>1</td>\n",
       "      <td>0</td>\n",
       "      <td>0</td>\n",
       "      <td>1</td>\n",
       "      <td>0</td>\n",
       "      <td>0</td>\n",
       "      <td>0</td>\n",
       "      <td>0</td>\n",
       "      <td>0</td>\n",
       "      <td>1</td>\n",
       "      <td>0</td>\n",
       "      <td>0</td>\n",
       "      <td>1</td>\n",
       "      <td>0</td>\n",
       "      <td>0</td>\n",
       "      <td>1</td>\n",
       "      <td>0</td>\n",
       "      <td>1</td>\n",
       "      <td>0</td>\n",
       "      <td>0</td>\n",
       "      <td>0</td>\n",
       "      <td>0</td>\n",
       "      <td>1</td>\n",
       "      <td>0</td>\n",
       "      <td>0</td>\n",
       "      <td>0</td>\n",
       "      <td>1</td>\n",
       "      <td>0</td>\n",
       "      <td>0</td>\n",
       "      <td>0</td>\n",
       "      <td>0</td>\n",
       "      <td>0</td>\n",
       "      <td>0</td>\n",
       "    </tr>\n",
       "    <tr>\n",
       "      <th>4</th>\n",
       "      <td>2022</td>\n",
       "      <td>2</td>\n",
       "      <td>100000</td>\n",
       "      <td>11324</td>\n",
       "      <td>6.0</td>\n",
       "      <td>246</td>\n",
       "      <td>2.4</td>\n",
       "      <td>980</td>\n",
       "      <td>693</td>\n",
       "      <td>1232</td>\n",
       "      <td>385</td>\n",
       "      <td>3.0</td>\n",
       "      <td>0</td>\n",
       "      <td>0</td>\n",
       "      <td>0</td>\n",
       "      <td>0</td>\n",
       "      <td>0</td>\n",
       "      <td>0</td>\n",
       "      <td>0</td>\n",
       "      <td>0</td>\n",
       "      <td>0</td>\n",
       "      <td>1</td>\n",
       "      <td>0</td>\n",
       "      <td>0</td>\n",
       "      <td>1</td>\n",
       "      <td>0</td>\n",
       "      <td>0</td>\n",
       "      <td>1</td>\n",
       "      <td>0</td>\n",
       "      <td>1</td>\n",
       "      <td>0</td>\n",
       "      <td>0</td>\n",
       "      <td>0</td>\n",
       "      <td>0</td>\n",
       "      <td>0</td>\n",
       "      <td>1</td>\n",
       "      <td>0</td>\n",
       "      <td>0</td>\n",
       "      <td>1</td>\n",
       "      <td>0</td>\n",
       "      <td>0</td>\n",
       "      <td>1</td>\n",
       "      <td>0</td>\n",
       "      <td>1</td>\n",
       "      <td>0</td>\n",
       "      <td>0</td>\n",
       "      <td>0</td>\n",
       "      <td>0</td>\n",
       "      <td>0</td>\n",
       "      <td>1</td>\n",
       "      <td>0</td>\n",
       "      <td>0</td>\n",
       "      <td>0</td>\n",
       "      <td>0</td>\n",
       "      <td>0</td>\n",
       "      <td>0</td>\n",
       "    </tr>\n",
       "  </tbody>\n",
       "</table>\n",
       "</div>"
      ],
      "text/plain": [
       "   Year  Number_of_Owners  Production_Units  Insurance_Cost  Fuel_Efficiency  \\\n",
       "0  2006                 4              5000           13410             10.5   \n",
       "1  2009                 2              1000           10795              9.4   \n",
       "2  2009                 2             20000            1716              5.0   \n",
       "3  1982                 4             20000           11618              7.3   \n",
       "4  2022                 2            100000           11324              6.0   \n",
       "\n",
       "   CO2_Emissions  Engine_Size  Horsepower  Torque  Weight  Top_Speed  \\\n",
       "0            307          3.7         420     705    1785        238   \n",
       "1            113          5.3        1104     766     992        386   \n",
       "2            321          5.5         153    1573    2022        397   \n",
       "3            343          5.4         544    1009    1091        151   \n",
       "4            246          2.4         980     693    1232        385   \n",
       "\n",
       "   Acceleration_0_100  Modification  Brand_Aston Martin  Brand_BMW  \\\n",
       "0                 5.7             1                   0          0   \n",
       "1                 4.6             0                   0          0   \n",
       "2                 6.7             0                   0          0   \n",
       "3                 2.7             0                   0          0   \n",
       "4                 3.0             0                   0          0   \n",
       "\n",
       "   Brand_Bugatti  Brand_Chevrolet  Brand_Ferrari  Brand_Ford  \\\n",
       "0              0                0              0           0   \n",
       "1              0                0              0           0   \n",
       "2              0                1              0           0   \n",
       "3              1                0              0           0   \n",
       "4              0                0              0           0   \n",
       "\n",
       "   Brand_Lamborghini  Brand_McLaren  Brand_Nissan  Brand_Porsche  \\\n",
       "0                  0              0             1              0   \n",
       "1                  0              1             0              0   \n",
       "2                  0              0             0              0   \n",
       "3                  0              0             0              0   \n",
       "4                  0              0             1              0   \n",
       "\n",
       "   Popularity_High  Popularity_Low  Popularity_Medium  Country_Asia  \\\n",
       "0                0               1                  0             1   \n",
       "1                1               0                  0             0   \n",
       "2                1               0                  0             0   \n",
       "3                1               0                  0             1   \n",
       "4                0               1                  0             0   \n",
       "\n",
       "   Country_Europe  Country_USA  Condition_new  Condition_restored  \\\n",
       "0               0            0              0                   0   \n",
       "1               1            0              1                   0   \n",
       "2               0            1              1                   0   \n",
       "3               0            0              0                   0   \n",
       "4               1            0              1                   0   \n",
       "\n",
       "   Condition_salvage  Condition_used  Market_Demand_High  Market_Demand_Low  \\\n",
       "0                  0               1                   0                  0   \n",
       "1                  0               0                   0                  0   \n",
       "2                  0               0                   0                  1   \n",
       "3                  0               1                   0                  0   \n",
       "4                  0               0                   0                  0   \n",
       "\n",
       "   Market_Demand_Medium  Fuel_Type_Diesel  Fuel_Type_Electric  \\\n",
       "0                     1                 1                   0   \n",
       "1                     1                 0                   1   \n",
       "2                     0                 1                   0   \n",
       "3                     1                 0                   0   \n",
       "4                     1                 0                   0   \n",
       "\n",
       "   Fuel_Type_Petrol  Transmission_Automatic  Transmission_CVT  \\\n",
       "0                 0                       1                 0   \n",
       "1                 0                       0                 0   \n",
       "2                 0                       1                 0   \n",
       "3                 1                       0                 1   \n",
       "4                 1                       0                 0   \n",
       "\n",
       "   Transmission_DCT  Transmission_Manual  Drivetrain_AWD  Drivetrain_FWD  \\\n",
       "0                 0                    0               0               0   \n",
       "1                 1                    0               0               0   \n",
       "2                 0                    0               0               1   \n",
       "3                 0                    0               0               0   \n",
       "4                 1                    0               1               0   \n",
       "\n",
       "   Drivetrain_RWD  Model_488 GTB  Model_720S  Model_911 Turbo S  Model_Chiron  \\\n",
       "0               1              0           1                  0             0   \n",
       "1               1              0           0                  1             0   \n",
       "2               0              0           0                  0             0   \n",
       "3               1              0           0                  0             1   \n",
       "4               0              0           0                  0             1   \n",
       "\n",
       "   Model_Corvette Z06  Model_DBS  Model_GT-R  Model_Huracan  \\\n",
       "0                   0          0           0              0   \n",
       "1                   0          0           0              0   \n",
       "2                   0          0           0              0   \n",
       "3                   0          0           0              0   \n",
       "4                   0          0           0              0   \n",
       "\n",
       "   Model_M4 Competition  Model_Mustang GT  \n",
       "0                     0                 0  \n",
       "1                     0                 0  \n",
       "2                     1                 0  \n",
       "3                     0                 0  \n",
       "4                     0                 0  "
      ]
     },
     "execution_count": 74,
     "metadata": {},
     "output_type": "execute_result"
    }
   ],
   "source": [
    "X = df[[\"Year\",\"Brand\",\"Number_of_Owners\",\"Production_Units\",\"Insurance_Cost\",\"Fuel_Efficiency\",\"CO2_Emissions\",\"Engine_Size\",\"Horsepower\",\"Torque\",\"Weight\",\"Top_Speed\",\"Acceleration_0_100\",\"Popularity\",\"Country\",\"Condition\",\"Market_Demand\",\"Fuel_Type\",\"Modification\",\"Transmission\",\"Drivetrain\",\"Model\"]]\n",
    "X = pd.get_dummies(X, dtype=int)\n",
    "X.head()"
   ]
  },
  {
   "cell_type": "code",
   "execution_count": 75,
   "metadata": {},
   "outputs": [],
   "source": [
    "Y = df[\"Price\"]"
   ]
  },
  {
   "cell_type": "code",
   "execution_count": 76,
   "metadata": {},
   "outputs": [
    {
     "name": "stdout",
     "output_type": "stream",
     "text": [
      "(4000, 56)\n",
      "(1000, 56)\n",
      "(4000,)\n",
      "(1000,)\n"
     ]
    }
   ],
   "source": [
    "X_train, X_test, y_train, y_test = train_test_split(X, Y, test_size=0.2, random_state=101)\n",
    "print(X_train.shape)\n",
    "print(X_test.shape)\n",
    "print(y_train.shape)\n",
    "print(y_test.shape)"
   ]
  },
  {
   "cell_type": "code",
   "execution_count": 77,
   "metadata": {},
   "outputs": [
    {
     "data": {
      "text/html": [
       "<style>#sk-container-id-1 {\n",
       "  /* Definition of color scheme common for light and dark mode */\n",
       "  --sklearn-color-text: #000;\n",
       "  --sklearn-color-text-muted: #666;\n",
       "  --sklearn-color-line: gray;\n",
       "  /* Definition of color scheme for unfitted estimators */\n",
       "  --sklearn-color-unfitted-level-0: #fff5e6;\n",
       "  --sklearn-color-unfitted-level-1: #f6e4d2;\n",
       "  --sklearn-color-unfitted-level-2: #ffe0b3;\n",
       "  --sklearn-color-unfitted-level-3: chocolate;\n",
       "  /* Definition of color scheme for fitted estimators */\n",
       "  --sklearn-color-fitted-level-0: #f0f8ff;\n",
       "  --sklearn-color-fitted-level-1: #d4ebff;\n",
       "  --sklearn-color-fitted-level-2: #b3dbfd;\n",
       "  --sklearn-color-fitted-level-3: cornflowerblue;\n",
       "\n",
       "  /* Specific color for light theme */\n",
       "  --sklearn-color-text-on-default-background: var(--sg-text-color, var(--theme-code-foreground, var(--jp-content-font-color1, black)));\n",
       "  --sklearn-color-background: var(--sg-background-color, var(--theme-background, var(--jp-layout-color0, white)));\n",
       "  --sklearn-color-border-box: var(--sg-text-color, var(--theme-code-foreground, var(--jp-content-font-color1, black)));\n",
       "  --sklearn-color-icon: #696969;\n",
       "\n",
       "  @media (prefers-color-scheme: dark) {\n",
       "    /* Redefinition of color scheme for dark theme */\n",
       "    --sklearn-color-text-on-default-background: var(--sg-text-color, var(--theme-code-foreground, var(--jp-content-font-color1, white)));\n",
       "    --sklearn-color-background: var(--sg-background-color, var(--theme-background, var(--jp-layout-color0, #111)));\n",
       "    --sklearn-color-border-box: var(--sg-text-color, var(--theme-code-foreground, var(--jp-content-font-color1, white)));\n",
       "    --sklearn-color-icon: #878787;\n",
       "  }\n",
       "}\n",
       "\n",
       "#sk-container-id-1 {\n",
       "  color: var(--sklearn-color-text);\n",
       "}\n",
       "\n",
       "#sk-container-id-1 pre {\n",
       "  padding: 0;\n",
       "}\n",
       "\n",
       "#sk-container-id-1 input.sk-hidden--visually {\n",
       "  border: 0;\n",
       "  clip: rect(1px 1px 1px 1px);\n",
       "  clip: rect(1px, 1px, 1px, 1px);\n",
       "  height: 1px;\n",
       "  margin: -1px;\n",
       "  overflow: hidden;\n",
       "  padding: 0;\n",
       "  position: absolute;\n",
       "  width: 1px;\n",
       "}\n",
       "\n",
       "#sk-container-id-1 div.sk-dashed-wrapped {\n",
       "  border: 1px dashed var(--sklearn-color-line);\n",
       "  margin: 0 0.4em 0.5em 0.4em;\n",
       "  box-sizing: border-box;\n",
       "  padding-bottom: 0.4em;\n",
       "  background-color: var(--sklearn-color-background);\n",
       "}\n",
       "\n",
       "#sk-container-id-1 div.sk-container {\n",
       "  /* jupyter's `normalize.less` sets `[hidden] { display: none; }`\n",
       "     but bootstrap.min.css set `[hidden] { display: none !important; }`\n",
       "     so we also need the `!important` here to be able to override the\n",
       "     default hidden behavior on the sphinx rendered scikit-learn.org.\n",
       "     See: https://github.com/scikit-learn/scikit-learn/issues/21755 */\n",
       "  display: inline-block !important;\n",
       "  position: relative;\n",
       "}\n",
       "\n",
       "#sk-container-id-1 div.sk-text-repr-fallback {\n",
       "  display: none;\n",
       "}\n",
       "\n",
       "div.sk-parallel-item,\n",
       "div.sk-serial,\n",
       "div.sk-item {\n",
       "  /* draw centered vertical line to link estimators */\n",
       "  background-image: linear-gradient(var(--sklearn-color-text-on-default-background), var(--sklearn-color-text-on-default-background));\n",
       "  background-size: 2px 100%;\n",
       "  background-repeat: no-repeat;\n",
       "  background-position: center center;\n",
       "}\n",
       "\n",
       "/* Parallel-specific style estimator block */\n",
       "\n",
       "#sk-container-id-1 div.sk-parallel-item::after {\n",
       "  content: \"\";\n",
       "  width: 100%;\n",
       "  border-bottom: 2px solid var(--sklearn-color-text-on-default-background);\n",
       "  flex-grow: 1;\n",
       "}\n",
       "\n",
       "#sk-container-id-1 div.sk-parallel {\n",
       "  display: flex;\n",
       "  align-items: stretch;\n",
       "  justify-content: center;\n",
       "  background-color: var(--sklearn-color-background);\n",
       "  position: relative;\n",
       "}\n",
       "\n",
       "#sk-container-id-1 div.sk-parallel-item {\n",
       "  display: flex;\n",
       "  flex-direction: column;\n",
       "}\n",
       "\n",
       "#sk-container-id-1 div.sk-parallel-item:first-child::after {\n",
       "  align-self: flex-end;\n",
       "  width: 50%;\n",
       "}\n",
       "\n",
       "#sk-container-id-1 div.sk-parallel-item:last-child::after {\n",
       "  align-self: flex-start;\n",
       "  width: 50%;\n",
       "}\n",
       "\n",
       "#sk-container-id-1 div.sk-parallel-item:only-child::after {\n",
       "  width: 0;\n",
       "}\n",
       "\n",
       "/* Serial-specific style estimator block */\n",
       "\n",
       "#sk-container-id-1 div.sk-serial {\n",
       "  display: flex;\n",
       "  flex-direction: column;\n",
       "  align-items: center;\n",
       "  background-color: var(--sklearn-color-background);\n",
       "  padding-right: 1em;\n",
       "  padding-left: 1em;\n",
       "}\n",
       "\n",
       "\n",
       "/* Toggleable style: style used for estimator/Pipeline/ColumnTransformer box that is\n",
       "clickable and can be expanded/collapsed.\n",
       "- Pipeline and ColumnTransformer use this feature and define the default style\n",
       "- Estimators will overwrite some part of the style using the `sk-estimator` class\n",
       "*/\n",
       "\n",
       "/* Pipeline and ColumnTransformer style (default) */\n",
       "\n",
       "#sk-container-id-1 div.sk-toggleable {\n",
       "  /* Default theme specific background. It is overwritten whether we have a\n",
       "  specific estimator or a Pipeline/ColumnTransformer */\n",
       "  background-color: var(--sklearn-color-background);\n",
       "}\n",
       "\n",
       "/* Toggleable label */\n",
       "#sk-container-id-1 label.sk-toggleable__label {\n",
       "  cursor: pointer;\n",
       "  display: flex;\n",
       "  width: 100%;\n",
       "  margin-bottom: 0;\n",
       "  padding: 0.5em;\n",
       "  box-sizing: border-box;\n",
       "  text-align: center;\n",
       "  align-items: start;\n",
       "  justify-content: space-between;\n",
       "  gap: 0.5em;\n",
       "}\n",
       "\n",
       "#sk-container-id-1 label.sk-toggleable__label .caption {\n",
       "  font-size: 0.6rem;\n",
       "  font-weight: lighter;\n",
       "  color: var(--sklearn-color-text-muted);\n",
       "}\n",
       "\n",
       "#sk-container-id-1 label.sk-toggleable__label-arrow:before {\n",
       "  /* Arrow on the left of the label */\n",
       "  content: \"▸\";\n",
       "  float: left;\n",
       "  margin-right: 0.25em;\n",
       "  color: var(--sklearn-color-icon);\n",
       "}\n",
       "\n",
       "#sk-container-id-1 label.sk-toggleable__label-arrow:hover:before {\n",
       "  color: var(--sklearn-color-text);\n",
       "}\n",
       "\n",
       "/* Toggleable content - dropdown */\n",
       "\n",
       "#sk-container-id-1 div.sk-toggleable__content {\n",
       "  max-height: 0;\n",
       "  max-width: 0;\n",
       "  overflow: hidden;\n",
       "  text-align: left;\n",
       "  /* unfitted */\n",
       "  background-color: var(--sklearn-color-unfitted-level-0);\n",
       "}\n",
       "\n",
       "#sk-container-id-1 div.sk-toggleable__content.fitted {\n",
       "  /* fitted */\n",
       "  background-color: var(--sklearn-color-fitted-level-0);\n",
       "}\n",
       "\n",
       "#sk-container-id-1 div.sk-toggleable__content pre {\n",
       "  margin: 0.2em;\n",
       "  border-radius: 0.25em;\n",
       "  color: var(--sklearn-color-text);\n",
       "  /* unfitted */\n",
       "  background-color: var(--sklearn-color-unfitted-level-0);\n",
       "}\n",
       "\n",
       "#sk-container-id-1 div.sk-toggleable__content.fitted pre {\n",
       "  /* unfitted */\n",
       "  background-color: var(--sklearn-color-fitted-level-0);\n",
       "}\n",
       "\n",
       "#sk-container-id-1 input.sk-toggleable__control:checked~div.sk-toggleable__content {\n",
       "  /* Expand drop-down */\n",
       "  max-height: 200px;\n",
       "  max-width: 100%;\n",
       "  overflow: auto;\n",
       "}\n",
       "\n",
       "#sk-container-id-1 input.sk-toggleable__control:checked~label.sk-toggleable__label-arrow:before {\n",
       "  content: \"▾\";\n",
       "}\n",
       "\n",
       "/* Pipeline/ColumnTransformer-specific style */\n",
       "\n",
       "#sk-container-id-1 div.sk-label input.sk-toggleable__control:checked~label.sk-toggleable__label {\n",
       "  color: var(--sklearn-color-text);\n",
       "  background-color: var(--sklearn-color-unfitted-level-2);\n",
       "}\n",
       "\n",
       "#sk-container-id-1 div.sk-label.fitted input.sk-toggleable__control:checked~label.sk-toggleable__label {\n",
       "  background-color: var(--sklearn-color-fitted-level-2);\n",
       "}\n",
       "\n",
       "/* Estimator-specific style */\n",
       "\n",
       "/* Colorize estimator box */\n",
       "#sk-container-id-1 div.sk-estimator input.sk-toggleable__control:checked~label.sk-toggleable__label {\n",
       "  /* unfitted */\n",
       "  background-color: var(--sklearn-color-unfitted-level-2);\n",
       "}\n",
       "\n",
       "#sk-container-id-1 div.sk-estimator.fitted input.sk-toggleable__control:checked~label.sk-toggleable__label {\n",
       "  /* fitted */\n",
       "  background-color: var(--sklearn-color-fitted-level-2);\n",
       "}\n",
       "\n",
       "#sk-container-id-1 div.sk-label label.sk-toggleable__label,\n",
       "#sk-container-id-1 div.sk-label label {\n",
       "  /* The background is the default theme color */\n",
       "  color: var(--sklearn-color-text-on-default-background);\n",
       "}\n",
       "\n",
       "/* On hover, darken the color of the background */\n",
       "#sk-container-id-1 div.sk-label:hover label.sk-toggleable__label {\n",
       "  color: var(--sklearn-color-text);\n",
       "  background-color: var(--sklearn-color-unfitted-level-2);\n",
       "}\n",
       "\n",
       "/* Label box, darken color on hover, fitted */\n",
       "#sk-container-id-1 div.sk-label.fitted:hover label.sk-toggleable__label.fitted {\n",
       "  color: var(--sklearn-color-text);\n",
       "  background-color: var(--sklearn-color-fitted-level-2);\n",
       "}\n",
       "\n",
       "/* Estimator label */\n",
       "\n",
       "#sk-container-id-1 div.sk-label label {\n",
       "  font-family: monospace;\n",
       "  font-weight: bold;\n",
       "  display: inline-block;\n",
       "  line-height: 1.2em;\n",
       "}\n",
       "\n",
       "#sk-container-id-1 div.sk-label-container {\n",
       "  text-align: center;\n",
       "}\n",
       "\n",
       "/* Estimator-specific */\n",
       "#sk-container-id-1 div.sk-estimator {\n",
       "  font-family: monospace;\n",
       "  border: 1px dotted var(--sklearn-color-border-box);\n",
       "  border-radius: 0.25em;\n",
       "  box-sizing: border-box;\n",
       "  margin-bottom: 0.5em;\n",
       "  /* unfitted */\n",
       "  background-color: var(--sklearn-color-unfitted-level-0);\n",
       "}\n",
       "\n",
       "#sk-container-id-1 div.sk-estimator.fitted {\n",
       "  /* fitted */\n",
       "  background-color: var(--sklearn-color-fitted-level-0);\n",
       "}\n",
       "\n",
       "/* on hover */\n",
       "#sk-container-id-1 div.sk-estimator:hover {\n",
       "  /* unfitted */\n",
       "  background-color: var(--sklearn-color-unfitted-level-2);\n",
       "}\n",
       "\n",
       "#sk-container-id-1 div.sk-estimator.fitted:hover {\n",
       "  /* fitted */\n",
       "  background-color: var(--sklearn-color-fitted-level-2);\n",
       "}\n",
       "\n",
       "/* Specification for estimator info (e.g. \"i\" and \"?\") */\n",
       "\n",
       "/* Common style for \"i\" and \"?\" */\n",
       "\n",
       ".sk-estimator-doc-link,\n",
       "a:link.sk-estimator-doc-link,\n",
       "a:visited.sk-estimator-doc-link {\n",
       "  float: right;\n",
       "  font-size: smaller;\n",
       "  line-height: 1em;\n",
       "  font-family: monospace;\n",
       "  background-color: var(--sklearn-color-background);\n",
       "  border-radius: 1em;\n",
       "  height: 1em;\n",
       "  width: 1em;\n",
       "  text-decoration: none !important;\n",
       "  margin-left: 0.5em;\n",
       "  text-align: center;\n",
       "  /* unfitted */\n",
       "  border: var(--sklearn-color-unfitted-level-1) 1pt solid;\n",
       "  color: var(--sklearn-color-unfitted-level-1);\n",
       "}\n",
       "\n",
       ".sk-estimator-doc-link.fitted,\n",
       "a:link.sk-estimator-doc-link.fitted,\n",
       "a:visited.sk-estimator-doc-link.fitted {\n",
       "  /* fitted */\n",
       "  border: var(--sklearn-color-fitted-level-1) 1pt solid;\n",
       "  color: var(--sklearn-color-fitted-level-1);\n",
       "}\n",
       "\n",
       "/* On hover */\n",
       "div.sk-estimator:hover .sk-estimator-doc-link:hover,\n",
       ".sk-estimator-doc-link:hover,\n",
       "div.sk-label-container:hover .sk-estimator-doc-link:hover,\n",
       ".sk-estimator-doc-link:hover {\n",
       "  /* unfitted */\n",
       "  background-color: var(--sklearn-color-unfitted-level-3);\n",
       "  color: var(--sklearn-color-background);\n",
       "  text-decoration: none;\n",
       "}\n",
       "\n",
       "div.sk-estimator.fitted:hover .sk-estimator-doc-link.fitted:hover,\n",
       ".sk-estimator-doc-link.fitted:hover,\n",
       "div.sk-label-container:hover .sk-estimator-doc-link.fitted:hover,\n",
       ".sk-estimator-doc-link.fitted:hover {\n",
       "  /* fitted */\n",
       "  background-color: var(--sklearn-color-fitted-level-3);\n",
       "  color: var(--sklearn-color-background);\n",
       "  text-decoration: none;\n",
       "}\n",
       "\n",
       "/* Span, style for the box shown on hovering the info icon */\n",
       ".sk-estimator-doc-link span {\n",
       "  display: none;\n",
       "  z-index: 9999;\n",
       "  position: relative;\n",
       "  font-weight: normal;\n",
       "  right: .2ex;\n",
       "  padding: .5ex;\n",
       "  margin: .5ex;\n",
       "  width: min-content;\n",
       "  min-width: 20ex;\n",
       "  max-width: 50ex;\n",
       "  color: var(--sklearn-color-text);\n",
       "  box-shadow: 2pt 2pt 4pt #999;\n",
       "  /* unfitted */\n",
       "  background: var(--sklearn-color-unfitted-level-0);\n",
       "  border: .5pt solid var(--sklearn-color-unfitted-level-3);\n",
       "}\n",
       "\n",
       ".sk-estimator-doc-link.fitted span {\n",
       "  /* fitted */\n",
       "  background: var(--sklearn-color-fitted-level-0);\n",
       "  border: var(--sklearn-color-fitted-level-3);\n",
       "}\n",
       "\n",
       ".sk-estimator-doc-link:hover span {\n",
       "  display: block;\n",
       "}\n",
       "\n",
       "/* \"?\"-specific style due to the `<a>` HTML tag */\n",
       "\n",
       "#sk-container-id-1 a.estimator_doc_link {\n",
       "  float: right;\n",
       "  font-size: 1rem;\n",
       "  line-height: 1em;\n",
       "  font-family: monospace;\n",
       "  background-color: var(--sklearn-color-background);\n",
       "  border-radius: 1rem;\n",
       "  height: 1rem;\n",
       "  width: 1rem;\n",
       "  text-decoration: none;\n",
       "  /* unfitted */\n",
       "  color: var(--sklearn-color-unfitted-level-1);\n",
       "  border: var(--sklearn-color-unfitted-level-1) 1pt solid;\n",
       "}\n",
       "\n",
       "#sk-container-id-1 a.estimator_doc_link.fitted {\n",
       "  /* fitted */\n",
       "  border: var(--sklearn-color-fitted-level-1) 1pt solid;\n",
       "  color: var(--sklearn-color-fitted-level-1);\n",
       "}\n",
       "\n",
       "/* On hover */\n",
       "#sk-container-id-1 a.estimator_doc_link:hover {\n",
       "  /* unfitted */\n",
       "  background-color: var(--sklearn-color-unfitted-level-3);\n",
       "  color: var(--sklearn-color-background);\n",
       "  text-decoration: none;\n",
       "}\n",
       "\n",
       "#sk-container-id-1 a.estimator_doc_link.fitted:hover {\n",
       "  /* fitted */\n",
       "  background-color: var(--sklearn-color-fitted-level-3);\n",
       "}\n",
       "</style><div id=\"sk-container-id-1\" class=\"sk-top-container\"><div class=\"sk-text-repr-fallback\"><pre>LinearRegression()</pre><b>In a Jupyter environment, please rerun this cell to show the HTML representation or trust the notebook. <br />On GitHub, the HTML representation is unable to render, please try loading this page with nbviewer.org.</b></div><div class=\"sk-container\" hidden><div class=\"sk-item\"><div class=\"sk-estimator fitted sk-toggleable\"><input class=\"sk-toggleable__control sk-hidden--visually\" id=\"sk-estimator-id-1\" type=\"checkbox\" checked><label for=\"sk-estimator-id-1\" class=\"sk-toggleable__label fitted sk-toggleable__label-arrow\"><div><div>LinearRegression</div></div><div><a class=\"sk-estimator-doc-link fitted\" rel=\"noreferrer\" target=\"_blank\" href=\"https://scikit-learn.org/1.6/modules/generated/sklearn.linear_model.LinearRegression.html\">?<span>Documentation for LinearRegression</span></a><span class=\"sk-estimator-doc-link fitted\">i<span>Fitted</span></span></div></label><div class=\"sk-toggleable__content fitted\"><pre>LinearRegression()</pre></div> </div></div></div></div>"
      ],
      "text/plain": [
       "LinearRegression()"
      ]
     },
     "execution_count": 77,
     "metadata": {},
     "output_type": "execute_result"
    }
   ],
   "source": [
    "model = LinearRegression()\n",
    "model.fit(X_train,y_train)"
   ]
  },
  {
   "cell_type": "code",
   "execution_count": 78,
   "metadata": {},
   "outputs": [
    {
     "name": "stdout",
     "output_type": "stream",
     "text": [
      "737938.1267731372\n"
     ]
    }
   ],
   "source": [
    "print(model.intercept_)"
   ]
  },
  {
   "cell_type": "code",
   "execution_count": 79,
   "metadata": {},
   "outputs": [
    {
     "data": {
      "text/html": [
       "<div>\n",
       "<style scoped>\n",
       "    .dataframe tbody tr th:only-of-type {\n",
       "        vertical-align: middle;\n",
       "    }\n",
       "\n",
       "    .dataframe tbody tr th {\n",
       "        vertical-align: top;\n",
       "    }\n",
       "\n",
       "    .dataframe thead th {\n",
       "        text-align: right;\n",
       "    }\n",
       "</style>\n",
       "<table border=\"1\" class=\"dataframe\">\n",
       "  <thead>\n",
       "    <tr style=\"text-align: right;\">\n",
       "      <th></th>\n",
       "      <th>Coefficient</th>\n",
       "    </tr>\n",
       "  </thead>\n",
       "  <tbody>\n",
       "    <tr>\n",
       "      <th>Year</th>\n",
       "      <td>-241.749555</td>\n",
       "    </tr>\n",
       "    <tr>\n",
       "      <th>Number_of_Owners</th>\n",
       "      <td>-640.610975</td>\n",
       "    </tr>\n",
       "    <tr>\n",
       "      <th>Production_Units</th>\n",
       "      <td>0.016782</td>\n",
       "    </tr>\n",
       "    <tr>\n",
       "      <th>Insurance_Cost</th>\n",
       "      <td>0.580604</td>\n",
       "    </tr>\n",
       "    <tr>\n",
       "      <th>Fuel_Efficiency</th>\n",
       "      <td>1401.033101</td>\n",
       "    </tr>\n",
       "    <tr>\n",
       "      <th>CO2_Emissions</th>\n",
       "      <td>0.220218</td>\n",
       "    </tr>\n",
       "    <tr>\n",
       "      <th>Engine_Size</th>\n",
       "      <td>-546.411370</td>\n",
       "    </tr>\n",
       "    <tr>\n",
       "      <th>Horsepower</th>\n",
       "      <td>-2.114368</td>\n",
       "    </tr>\n",
       "    <tr>\n",
       "      <th>Torque</th>\n",
       "      <td>2.168948</td>\n",
       "    </tr>\n",
       "    <tr>\n",
       "      <th>Weight</th>\n",
       "      <td>-4.569045</td>\n",
       "    </tr>\n",
       "    <tr>\n",
       "      <th>Top_Speed</th>\n",
       "      <td>36.671600</td>\n",
       "    </tr>\n",
       "    <tr>\n",
       "      <th>Acceleration_0_100</th>\n",
       "      <td>-1398.954664</td>\n",
       "    </tr>\n",
       "    <tr>\n",
       "      <th>Modification</th>\n",
       "      <td>-1129.636657</td>\n",
       "    </tr>\n",
       "    <tr>\n",
       "      <th>Brand_Aston Martin</th>\n",
       "      <td>-8245.495776</td>\n",
       "    </tr>\n",
       "    <tr>\n",
       "      <th>Brand_BMW</th>\n",
       "      <td>9416.619001</td>\n",
       "    </tr>\n",
       "    <tr>\n",
       "      <th>Brand_Bugatti</th>\n",
       "      <td>4364.128441</td>\n",
       "    </tr>\n",
       "    <tr>\n",
       "      <th>Brand_Chevrolet</th>\n",
       "      <td>4997.301874</td>\n",
       "    </tr>\n",
       "    <tr>\n",
       "      <th>Brand_Ferrari</th>\n",
       "      <td>-6035.064442</td>\n",
       "    </tr>\n",
       "    <tr>\n",
       "      <th>Brand_Ford</th>\n",
       "      <td>-8051.198210</td>\n",
       "    </tr>\n",
       "    <tr>\n",
       "      <th>Brand_Lamborghini</th>\n",
       "      <td>334.886380</td>\n",
       "    </tr>\n",
       "    <tr>\n",
       "      <th>Brand_McLaren</th>\n",
       "      <td>10361.167057</td>\n",
       "    </tr>\n",
       "    <tr>\n",
       "      <th>Brand_Nissan</th>\n",
       "      <td>-2148.339922</td>\n",
       "    </tr>\n",
       "    <tr>\n",
       "      <th>Brand_Porsche</th>\n",
       "      <td>-4994.004402</td>\n",
       "    </tr>\n",
       "    <tr>\n",
       "      <th>Popularity_High</th>\n",
       "      <td>2361.468616</td>\n",
       "    </tr>\n",
       "    <tr>\n",
       "      <th>Popularity_Low</th>\n",
       "      <td>-1171.681453</td>\n",
       "    </tr>\n",
       "    <tr>\n",
       "      <th>Popularity_Medium</th>\n",
       "      <td>-1189.787162</td>\n",
       "    </tr>\n",
       "    <tr>\n",
       "      <th>Country_Asia</th>\n",
       "      <td>-4600.561318</td>\n",
       "    </tr>\n",
       "    <tr>\n",
       "      <th>Country_Europe</th>\n",
       "      <td>3310.660454</td>\n",
       "    </tr>\n",
       "    <tr>\n",
       "      <th>Country_USA</th>\n",
       "      <td>1289.900864</td>\n",
       "    </tr>\n",
       "    <tr>\n",
       "      <th>Condition_new</th>\n",
       "      <td>-6437.688131</td>\n",
       "    </tr>\n",
       "    <tr>\n",
       "      <th>Condition_restored</th>\n",
       "      <td>11923.469714</td>\n",
       "    </tr>\n",
       "    <tr>\n",
       "      <th>Condition_salvage</th>\n",
       "      <td>-7440.472591</td>\n",
       "    </tr>\n",
       "    <tr>\n",
       "      <th>Condition_used</th>\n",
       "      <td>1954.691008</td>\n",
       "    </tr>\n",
       "    <tr>\n",
       "      <th>Market_Demand_High</th>\n",
       "      <td>-5188.869883</td>\n",
       "    </tr>\n",
       "    <tr>\n",
       "      <th>Market_Demand_Low</th>\n",
       "      <td>1284.220235</td>\n",
       "    </tr>\n",
       "    <tr>\n",
       "      <th>Market_Demand_Medium</th>\n",
       "      <td>3904.649648</td>\n",
       "    </tr>\n",
       "    <tr>\n",
       "      <th>Fuel_Type_Diesel</th>\n",
       "      <td>-564.491920</td>\n",
       "    </tr>\n",
       "    <tr>\n",
       "      <th>Fuel_Type_Electric</th>\n",
       "      <td>3406.324530</td>\n",
       "    </tr>\n",
       "    <tr>\n",
       "      <th>Fuel_Type_Petrol</th>\n",
       "      <td>-2841.832610</td>\n",
       "    </tr>\n",
       "    <tr>\n",
       "      <th>Transmission_Automatic</th>\n",
       "      <td>-6009.669225</td>\n",
       "    </tr>\n",
       "    <tr>\n",
       "      <th>Transmission_CVT</th>\n",
       "      <td>-1324.538259</td>\n",
       "    </tr>\n",
       "    <tr>\n",
       "      <th>Transmission_DCT</th>\n",
       "      <td>4961.361619</td>\n",
       "    </tr>\n",
       "    <tr>\n",
       "      <th>Transmission_Manual</th>\n",
       "      <td>2372.845865</td>\n",
       "    </tr>\n",
       "    <tr>\n",
       "      <th>Drivetrain_AWD</th>\n",
       "      <td>-2001.584774</td>\n",
       "    </tr>\n",
       "    <tr>\n",
       "      <th>Drivetrain_FWD</th>\n",
       "      <td>5367.803569</td>\n",
       "    </tr>\n",
       "    <tr>\n",
       "      <th>Drivetrain_RWD</th>\n",
       "      <td>-3366.218795</td>\n",
       "    </tr>\n",
       "    <tr>\n",
       "      <th>Model_488 GTB</th>\n",
       "      <td>-2964.614266</td>\n",
       "    </tr>\n",
       "    <tr>\n",
       "      <th>Model_720S</th>\n",
       "      <td>12707.748847</td>\n",
       "    </tr>\n",
       "    <tr>\n",
       "      <th>Model_911 Turbo S</th>\n",
       "      <td>-10013.098843</td>\n",
       "    </tr>\n",
       "    <tr>\n",
       "      <th>Model_Chiron</th>\n",
       "      <td>-8156.386478</td>\n",
       "    </tr>\n",
       "    <tr>\n",
       "      <th>Model_Corvette Z06</th>\n",
       "      <td>5698.303717</td>\n",
       "    </tr>\n",
       "    <tr>\n",
       "      <th>Model_DBS</th>\n",
       "      <td>2494.475693</td>\n",
       "    </tr>\n",
       "    <tr>\n",
       "      <th>Model_GT-R</th>\n",
       "      <td>-3794.493735</td>\n",
       "    </tr>\n",
       "    <tr>\n",
       "      <th>Model_Huracan</th>\n",
       "      <td>-2484.943448</td>\n",
       "    </tr>\n",
       "    <tr>\n",
       "      <th>Model_M4 Competition</th>\n",
       "      <td>5907.521533</td>\n",
       "    </tr>\n",
       "    <tr>\n",
       "      <th>Model_Mustang GT</th>\n",
       "      <td>605.486982</td>\n",
       "    </tr>\n",
       "  </tbody>\n",
       "</table>\n",
       "</div>"
      ],
      "text/plain": [
       "                         Coefficient\n",
       "Year                     -241.749555\n",
       "Number_of_Owners         -640.610975\n",
       "Production_Units            0.016782\n",
       "Insurance_Cost              0.580604\n",
       "Fuel_Efficiency          1401.033101\n",
       "CO2_Emissions               0.220218\n",
       "Engine_Size              -546.411370\n",
       "Horsepower                 -2.114368\n",
       "Torque                      2.168948\n",
       "Weight                     -4.569045\n",
       "Top_Speed                  36.671600\n",
       "Acceleration_0_100      -1398.954664\n",
       "Modification            -1129.636657\n",
       "Brand_Aston Martin      -8245.495776\n",
       "Brand_BMW                9416.619001\n",
       "Brand_Bugatti            4364.128441\n",
       "Brand_Chevrolet          4997.301874\n",
       "Brand_Ferrari           -6035.064442\n",
       "Brand_Ford              -8051.198210\n",
       "Brand_Lamborghini         334.886380\n",
       "Brand_McLaren           10361.167057\n",
       "Brand_Nissan            -2148.339922\n",
       "Brand_Porsche           -4994.004402\n",
       "Popularity_High          2361.468616\n",
       "Popularity_Low          -1171.681453\n",
       "Popularity_Medium       -1189.787162\n",
       "Country_Asia            -4600.561318\n",
       "Country_Europe           3310.660454\n",
       "Country_USA              1289.900864\n",
       "Condition_new           -6437.688131\n",
       "Condition_restored      11923.469714\n",
       "Condition_salvage       -7440.472591\n",
       "Condition_used           1954.691008\n",
       "Market_Demand_High      -5188.869883\n",
       "Market_Demand_Low        1284.220235\n",
       "Market_Demand_Medium     3904.649648\n",
       "Fuel_Type_Diesel         -564.491920\n",
       "Fuel_Type_Electric       3406.324530\n",
       "Fuel_Type_Petrol        -2841.832610\n",
       "Transmission_Automatic  -6009.669225\n",
       "Transmission_CVT        -1324.538259\n",
       "Transmission_DCT         4961.361619\n",
       "Transmission_Manual      2372.845865\n",
       "Drivetrain_AWD          -2001.584774\n",
       "Drivetrain_FWD           5367.803569\n",
       "Drivetrain_RWD          -3366.218795\n",
       "Model_488 GTB           -2964.614266\n",
       "Model_720S              12707.748847\n",
       "Model_911 Turbo S      -10013.098843\n",
       "Model_Chiron            -8156.386478\n",
       "Model_Corvette Z06       5698.303717\n",
       "Model_DBS                2494.475693\n",
       "Model_GT-R              -3794.493735\n",
       "Model_Huracan           -2484.943448\n",
       "Model_M4 Competition     5907.521533\n",
       "Model_Mustang GT          605.486982"
      ]
     },
     "execution_count": 79,
     "metadata": {},
     "output_type": "execute_result"
    }
   ],
   "source": [
    "coeff_parameter = pd.DataFrame(model.coef_,X.columns,columns=['Coefficient'])\n",
    "coeff_parameter"
   ]
  },
  {
   "cell_type": "code",
   "execution_count": 80,
   "metadata": {},
   "outputs": [
    {
     "data": {
      "text/plain": [
       "array([268039.40458739, 250663.68353195, 269768.83544953, 230779.94469613,\n",
       "       245456.96334706, 267982.79754685, 247678.08963777, 266881.57819235,\n",
       "       265867.75131372, 236827.80566496, 300740.47451953, 249676.56708338,\n",
       "       254454.71761542, 281123.01305922, 269071.89230935, 273933.33334088,\n",
       "       248804.36234133, 253753.66938235, 278743.22141997, 257638.06321911,\n",
       "       238346.41063325, 259981.75746001, 285434.31034665, 274229.94844293,\n",
       "       287856.4797911 , 240514.65515598, 264665.44633157, 260157.03340726,\n",
       "       289168.13678959, 247411.58774275, 271725.95505391, 249850.14882346,\n",
       "       254289.55188473, 269328.63520722, 269219.32249506, 260883.10242904,\n",
       "       277440.42010153, 293371.95560187, 273491.41530753, 261597.22389175,\n",
       "       283459.93689718, 272225.90876073, 259529.30714485, 273632.36048098,\n",
       "       278419.89636272, 249749.576606  , 246677.36123416, 276629.73169768,\n",
       "       269190.67861753, 268031.16381798, 281171.49578648, 264419.19542454,\n",
       "       295225.31253356, 265763.53649803, 253221.17102873, 271283.55338488,\n",
       "       283469.61724121, 258606.79687725, 267171.94564148, 265039.7606285 ,\n",
       "       255679.41892818, 266366.19450293, 276519.66245383, 253948.85487027,\n",
       "       262735.59751812, 231498.63409048, 228849.05904419, 242113.00500389,\n",
       "       294941.56289458, 255147.96783952, 257418.17004365, 247147.9730597 ,\n",
       "       267212.11077974, 287701.52530083, 277998.04232781, 283667.66395413,\n",
       "       260895.28307615, 272205.66234985, 271563.13782317, 259801.95241635,\n",
       "       231795.04578606, 253114.06073737, 287379.2290109 , 279629.03100941,\n",
       "       259639.21385026, 275239.10418537, 263888.84212556, 262039.25436373,\n",
       "       254071.09583707, 258496.46106402, 273497.23301995, 241033.423055  ,\n",
       "       257574.26333909, 266090.5696045 , 243378.68210781, 258399.78275721,\n",
       "       266261.28252989, 270955.27970698, 286120.06010654, 233897.2246818 ,\n",
       "       284888.03029274, 255715.73069594, 247902.67417106, 274471.56013072,\n",
       "       260492.35854888, 265323.09487685, 263188.03860353, 259545.77081093,\n",
       "       257630.25922862, 252856.18585405, 272865.01860261, 241817.11295405,\n",
       "       265623.61876708, 276128.50414305, 264578.96382798, 251567.21895823,\n",
       "       260846.03507027, 274576.70489997, 248416.6439498 , 258625.79511025,\n",
       "       257955.27550069, 274925.82744295, 252754.05856251, 252445.01938604,\n",
       "       238439.85846146, 278153.23893001, 256386.68288873, 292299.8214182 ,\n",
       "       267988.18467354, 254103.85266584, 267147.11236177, 270046.65252246,\n",
       "       286111.97856107, 266935.64376878, 253395.08455861, 264089.52474914,\n",
       "       262536.61677446, 260191.80001776, 260124.49496245, 286324.60284155,\n",
       "       252138.3030961 , 284615.41650609, 257552.35763996, 238688.56246363,\n",
       "       262784.38230229, 263832.65561389, 268298.99353146, 251324.75673782,\n",
       "       267376.50017136, 273196.2731535 , 272400.49454678, 289278.53167379,\n",
       "       273596.71884651, 250697.08481266, 267020.68446211, 291825.44571026,\n",
       "       269270.40890971, 254527.11764127, 265393.9944851 , 264635.12596245,\n",
       "       253411.44269629, 282037.3793722 , 262865.09751827, 257684.25197015,\n",
       "       265788.32781254, 261704.38085635, 241927.25127079, 252529.88907984,\n",
       "       249039.19472651, 249740.95984668, 281575.55670182, 267475.0232603 ,\n",
       "       312654.15022616, 274578.20347489, 260595.80609152, 245969.70426444,\n",
       "       263107.24954642, 242693.55069616, 258260.59272427, 258401.02646854,\n",
       "       274723.60935078, 273136.7110071 , 221287.35346462, 285240.49470459,\n",
       "       247337.99643998, 261538.5701753 , 242537.79852467, 253515.17854662,\n",
       "       251677.48024847, 266274.4755062 , 249080.849895  , 269908.51919715,\n",
       "       273173.91155993, 238642.41911911, 250411.85676931, 266871.30115606,\n",
       "       254209.01688331, 235065.01482942, 268087.96574478, 268393.3768187 ,\n",
       "       258900.73058384, 275192.15167147, 263414.44705613, 267338.95985092,\n",
       "       257833.89569488, 248927.38966361, 258932.64818684, 269473.47237352,\n",
       "       278452.45093571, 246927.72385686, 246669.77800935, 243512.85987864,\n",
       "       264462.79866869, 264857.78161725, 246908.06935849, 276314.91679509,\n",
       "       239554.52021945, 269939.46884524, 299281.16484328, 266365.72418213,\n",
       "       271179.99579203, 252303.16731577, 244632.65952906, 261604.69858163,\n",
       "       265006.46533976, 269411.49588236, 266607.4849026 , 297519.46391609,\n",
       "       276959.80855929, 264778.52127797, 272383.91092734, 243872.24326939,\n",
       "       244653.07215138, 249631.19195868, 242806.17431169, 293580.73828368,\n",
       "       265182.79071084, 269299.59945057, 275342.98161037, 268036.57952126,\n",
       "       257444.28878931, 266454.39276839, 271053.06152133, 265469.28190955,\n",
       "       268304.39555379, 249723.82657829, 255471.28265629, 256058.90337311,\n",
       "       259440.01869023, 257198.05971115, 276161.20430522, 288564.98380025,\n",
       "       239462.63002641, 253688.79561153, 269707.14323879, 252829.09200321,\n",
       "       266880.05107769, 256187.94928379, 252687.37295525, 238521.13733737,\n",
       "       257912.17197465, 261883.35719421, 248249.57536262, 226709.75561189,\n",
       "       274740.42887769, 262070.97849763, 255791.54411724, 275025.12417886,\n",
       "       245310.27049536, 251296.88794285, 234303.30062741, 251327.54544996,\n",
       "       265344.83121447, 244370.17791526, 243472.990282  , 256731.5342688 ,\n",
       "       261716.43649555, 240671.20784097, 258409.85210347, 243810.89967   ,\n",
       "       278249.92029733, 278671.02546667, 276620.06280312, 261276.42318189,\n",
       "       255269.9392442 , 270171.85502112, 244757.28954184, 240395.09342753,\n",
       "       258540.55577663, 229254.34269985, 276552.6433968 , 250146.37516253,\n",
       "       253698.97458677, 262754.96058916, 277727.61401403, 293762.25340248,\n",
       "       268354.30959404, 258656.68729853, 252729.78970336, 253152.77541308,\n",
       "       249199.76785901, 271813.55552806, 266260.213597  , 273111.54462814,\n",
       "       266690.76693974, 279369.20010134, 271035.22171842, 277632.09999714,\n",
       "       222666.02072129, 249420.04483375, 275608.22610478, 254729.87943666,\n",
       "       262389.22933556, 254555.68240734, 274262.68033646, 274854.11046345,\n",
       "       251245.84977645, 267854.28128537, 246615.53348247, 242493.51388672,\n",
       "       258690.76737342, 313034.51540783, 255807.78350282, 241847.08139813,\n",
       "       278188.64941184, 279685.15036185, 260325.02797589, 254361.91504908,\n",
       "       272073.08117419, 263107.43609874, 252615.60218024, 291879.70340983,\n",
       "       264366.63267218, 243147.42169817, 265778.87791508, 270047.91370109,\n",
       "       266314.41576039, 264025.58840527, 244643.9886468 , 274939.6510009 ,\n",
       "       267221.41775987, 281612.21888711, 250395.45378933, 274797.65372516,\n",
       "       227300.74933805, 237669.53082159, 275779.1833767 , 264183.87318271,\n",
       "       269830.78020827, 267534.30704549, 245850.53898249, 267671.5603052 ,\n",
       "       283385.99387613, 262793.88410124, 278362.31360014, 262213.61303184,\n",
       "       265837.39767636, 271196.85113682, 263814.96351796, 262357.65203807,\n",
       "       262364.69199918, 249043.4877345 , 257452.77024113, 261874.44365464,\n",
       "       269108.49718336, 250351.38491999, 282865.33984827, 248250.19196362,\n",
       "       277069.66200738, 246663.24289266, 257611.42931935, 246157.66852229,\n",
       "       231919.83277558, 251203.88123955, 289752.80981685, 246007.15729211,\n",
       "       265258.10247359, 262470.78860938, 274391.5365236 , 299053.56127987,\n",
       "       275428.35252943, 277754.59718627, 250662.10924915, 292178.43184052,\n",
       "       265728.78261689, 276643.21767892, 237991.89852027, 247065.97931662,\n",
       "       264253.75554373, 292547.94515877, 250189.84788777, 269126.83504151,\n",
       "       247941.55749545, 254887.16145807, 287767.48885443, 268910.53615862,\n",
       "       288290.25509787, 268210.22725093, 276551.1063891 , 265109.92669133,\n",
       "       233712.68181952, 308624.53250009, 276741.96900926, 254978.53866213,\n",
       "       252699.40772797, 255017.79138224, 244562.30102494, 255332.95784687,\n",
       "       269180.66654816, 248529.64676038, 269604.20477229, 249350.48479534,\n",
       "       267423.73865901, 244263.09515243, 260606.85733031, 279818.27660464,\n",
       "       233779.35445393, 278206.77930172, 257645.28429896, 286701.12343596,\n",
       "       230675.82167953, 276665.2012483 , 269040.10656122, 219442.48019783,\n",
       "       259733.99379893, 273936.26226711, 256425.29553819, 230114.12904898,\n",
       "       239760.68663707, 220632.35706127, 242730.14837393, 262998.25961501,\n",
       "       260390.20590588, 239983.94306599, 238914.4891458 , 272029.35720982,\n",
       "       283272.43754655, 275728.55338837, 256683.78961717, 269469.07981815,\n",
       "       288939.61739034, 240276.02332094, 255717.93787556, 273920.29585041,\n",
       "       273365.06827702, 268971.68967766, 259561.40258976, 272841.95501899,\n",
       "       257121.79611452, 251044.32724414, 260415.32122083, 287881.02715816,\n",
       "       260737.49874659, 263868.23724604, 252304.72520982, 281656.76635738,\n",
       "       281737.37828565, 243579.19245343, 255880.69911837, 272583.16671654,\n",
       "       269168.86216898, 270204.37511111, 258031.66167717, 278887.96640236,\n",
       "       258104.43692034, 245369.17574508, 253787.22750068, 286212.40277623,\n",
       "       284596.66742307, 254289.10068778, 256771.38251071, 266887.42743407,\n",
       "       273805.60547365, 262776.20044574, 254369.38433042, 270758.29940478,\n",
       "       263528.14633158, 272989.65834909, 247027.80754539, 244671.02084468,\n",
       "       275351.860685  , 276764.26982126, 248666.99676338, 261357.56001683,\n",
       "       257277.90965129, 267101.34042994, 262653.86819312, 248633.5187758 ,\n",
       "       250578.82866123, 246058.53297772, 253902.91317962, 258131.97088617,\n",
       "       274617.58641313, 268702.20358809, 258200.49462513, 255692.33009997,\n",
       "       249357.05021775, 288796.38998991, 250364.74862118, 254953.30358643,\n",
       "       237047.37221475, 248791.13544311, 269593.64543063, 253940.5424823 ,\n",
       "       278029.82780964, 258057.98389216, 250359.90437874, 275765.89725597,\n",
       "       256630.21941131, 246565.9351652 , 276436.66411271, 255207.77015432,\n",
       "       294590.01550318, 280791.22037628, 277217.91492427, 294848.40669718,\n",
       "       264151.10905315, 300697.42918397, 274618.53075257, 257682.43113506,\n",
       "       286075.49891018, 273280.77123361, 263638.63394259, 266077.47863627,\n",
       "       254458.66304742, 256069.95584892, 257075.51774809, 227751.39983052,\n",
       "       244122.46065323, 266835.47376494, 269573.6626243 , 257242.8666138 ,\n",
       "       274913.42689222, 254357.42513687, 251477.89540127, 273019.76303536,\n",
       "       239064.40834726, 260565.02858057, 248461.18566004, 256056.34488929,\n",
       "       267670.95003162, 285266.21362413, 276907.93782193, 258586.52418106,\n",
       "       272807.77286402, 246698.7457338 , 263665.95621943, 271696.13004935,\n",
       "       260047.55167813, 258228.62524156, 261151.45425625, 270114.40152748,\n",
       "       271236.46494356, 271698.25938286, 258069.68534007, 259276.12316984,\n",
       "       273489.37080721, 262597.27948491, 269373.47794134, 253734.64128542,\n",
       "       272632.71136056, 245155.02596747, 267582.10779355, 279915.20581315,\n",
       "       260283.40949536, 258706.97227723, 276750.86496926, 259904.02670497,\n",
       "       305087.40092569, 266997.04888768, 226649.71175367, 285406.71121574,\n",
       "       279002.82133152, 275442.07703958, 262404.29023121, 285601.1012526 ,\n",
       "       253595.75373418, 296255.60564685, 264763.3819585 , 270933.34824921,\n",
       "       263740.1328092 , 272354.29959063, 281617.56875252, 242124.60470631,\n",
       "       252645.96588698, 268495.99523257, 251906.95651242, 266936.68759675,\n",
       "       262304.34859414, 260389.92805773, 257920.70718315, 260029.77783468,\n",
       "       254186.37555653, 244962.65235721, 259448.07148393, 245863.42519141,\n",
       "       276763.68844922, 246261.84555   , 273211.63163362, 256272.34760736,\n",
       "       270218.34529169, 268926.02856269, 284805.42828501, 259278.01695284,\n",
       "       281841.12719327, 253649.89478246, 246707.37961483, 258179.09997245,\n",
       "       259871.95844705, 270358.99876173, 249141.44595142, 261791.8474504 ,\n",
       "       279805.76253785, 256452.6199749 , 264170.71650203, 252621.29343971,\n",
       "       257177.97733466, 262190.97152633, 274122.65589194, 251414.43091856,\n",
       "       282171.49836364, 257143.19942854, 249430.14294803, 262089.92203745,\n",
       "       280285.95796293, 268298.91511837, 260062.72389955, 275168.41318496,\n",
       "       274016.10340233, 242533.20893341, 250500.72398034, 276902.82297917,\n",
       "       271278.091342  , 286793.85089837, 263272.08032753, 266316.9739959 ,\n",
       "       262473.5258111 , 270332.55779199, 253833.05410364, 266650.49083707,\n",
       "       269875.30828871, 246845.35653754, 263368.77801523, 226737.05160805,\n",
       "       267585.91539198, 254948.62579575, 304738.08686504, 235679.42370622,\n",
       "       233621.95012518, 248442.88297617, 253909.24060303, 248749.52072346,\n",
       "       237647.6356488 , 273804.54265117, 264011.13668455, 251305.128973  ,\n",
       "       270688.49025826, 245271.09797199, 278925.78141171, 251678.32535186,\n",
       "       250969.82008316, 254182.71282433, 252906.20442137, 241472.16024915,\n",
       "       266734.46229578, 254785.22723399, 266772.69074536, 275122.62395937,\n",
       "       278573.06228281, 276222.03165599, 276714.96495515, 253730.44886269,\n",
       "       243700.42981584, 294397.70187239, 283958.84238452, 276242.78618678,\n",
       "       267289.86721747, 245767.82893678, 252249.92391837, 257983.73205988,\n",
       "       282517.26801053, 262742.5085178 , 242903.04653251, 262531.6287259 ,\n",
       "       276990.05199223, 254057.40814408, 263975.91184218, 275924.79563798,\n",
       "       283097.66818163, 264884.21010002, 281158.4269976 , 248851.49506575,\n",
       "       259169.971412  , 263146.78415676, 268836.66601307, 290411.42459478,\n",
       "       235290.31840765, 258898.88348541, 274312.65323296, 240369.80033789,\n",
       "       256092.56190842, 238206.64468729, 257065.86159072, 257015.93295424,\n",
       "       261119.85120108, 264981.3420107 , 288141.51313851, 256509.29411084,\n",
       "       263537.65610281, 286600.61782609, 270126.18439365, 279699.19455447,\n",
       "       251297.29188558, 253993.79384224, 270541.51143831, 274866.70269057,\n",
       "       293300.1429125 , 266945.91642081, 268522.44800132, 263710.53696261,\n",
       "       231081.01170648, 248987.58678055, 298469.363491  , 239455.81051042,\n",
       "       265837.85481238, 271788.41928721, 275178.91854173, 264233.52365823,\n",
       "       250930.01004029, 222964.52262701, 268326.22331572, 265431.6481182 ,\n",
       "       238320.1421299 , 273918.40705465, 263457.8873463 , 256854.49005472,\n",
       "       234983.75847904, 273947.04727906, 282308.85301776, 273344.44233524,\n",
       "       271645.48338731, 270024.14098935, 245012.85230734, 288005.13692392,\n",
       "       259400.24466396, 280886.72518529, 268617.50183973, 269515.05786791,\n",
       "       259704.03238406, 268989.80660205, 262847.86275687, 265121.61560643,\n",
       "       261786.14430459, 225680.42988628, 270290.5524642 , 249387.03212353,\n",
       "       260923.50457497, 262072.26268657, 255182.51774207, 257973.9391137 ,\n",
       "       278454.03099371, 261185.37523033, 250304.55218408, 259350.30360428,\n",
       "       252292.79363864, 243990.94989797, 269915.54088053, 278420.56814566,\n",
       "       260548.89413405, 264891.05140436, 255788.18705303, 274631.77057707,\n",
       "       254595.14354518, 264700.67761425, 275667.79633781, 252162.21902201,\n",
       "       261534.93788409, 264298.58894067, 268721.20271346, 287680.86034476,\n",
       "       269784.67160024, 266656.90293935, 271017.99318785, 265690.61101475,\n",
       "       263405.30763287, 303247.22825324, 268826.07662288, 242045.38950872,\n",
       "       264337.71483359, 278651.61422366, 257997.24960447, 237588.99778925,\n",
       "       253925.12409483, 261235.67371833, 233726.19620481, 283548.66831634,\n",
       "       262515.50066746, 268286.67340193, 269914.601036  , 242630.47158048,\n",
       "       252560.38547339, 255856.02874188, 252159.18845978, 256629.36680088,\n",
       "       235248.71406763, 254212.01835357, 251950.55574275, 263188.00031877,\n",
       "       243926.77389564, 277938.91484316, 255592.50973798, 263726.0076226 ,\n",
       "       250748.62232455, 279875.68266628, 251182.96104333, 277803.12964309,\n",
       "       285575.04989758, 261612.46730904, 263249.74655466, 257660.23357658,\n",
       "       211474.0100067 , 262439.77890714, 231930.11102071, 261595.41179182,\n",
       "       235492.91320612, 268206.54436998, 264877.23245847, 281528.13129096,\n",
       "       240200.07756496, 254012.13296019, 268606.64575922, 229448.60874022,\n",
       "       253172.07052579, 243010.96124431, 282315.44329651, 257483.46290814,\n",
       "       289073.8192412 , 285213.1850764 , 240859.30577326, 256847.32047711,\n",
       "       261763.50629839, 277242.08392887, 256441.33259157, 272519.81778936,\n",
       "       277742.39517249, 262793.58826636, 266340.59428549, 273477.76862324,\n",
       "       260546.84935471, 278981.60341739, 273852.99306448, 250804.50575649,\n",
       "       256059.84606828, 269245.66642642, 279997.73434431, 289754.54269145,\n",
       "       250725.09349224, 253571.30098656, 256347.75283375, 262944.38922921,\n",
       "       265904.24571307, 262170.80731823, 252152.46651915, 267275.38369307,\n",
       "       266938.75987524, 280135.39746753, 234401.98574007, 280123.38203071,\n",
       "       254144.69472521, 247833.76675248, 291712.31966403, 250201.72027906,\n",
       "       242289.1267473 , 255042.52782456, 282734.16689867, 278837.98153322,\n",
       "       272126.8753777 , 274610.08923961, 243250.62946263, 257217.97488509,\n",
       "       286590.33097163, 262799.22599933, 240327.09736428, 276533.02585757,\n",
       "       242994.83134427, 240448.01817533, 277844.52430396, 261200.83042616,\n",
       "       271089.18016971, 265867.945045  , 231921.94227928, 269703.70084997,\n",
       "       264804.96396852, 249316.17744023, 258687.94250652, 251684.73615218,\n",
       "       257770.62378314, 264142.37415613, 259674.57316712, 279390.27292041,\n",
       "       262790.61085626, 262000.52433906, 264070.63880726, 280274.87443202,\n",
       "       252817.30957775, 274554.6419168 , 265935.23686757, 250708.96733598,\n",
       "       274347.87640461, 277976.4907932 , 270339.53227404, 263448.6895786 ,\n",
       "       282416.79577089, 265967.33555039, 248038.81548169, 267258.11220769,\n",
       "       278099.56355623, 262825.41160877, 262564.20780097, 304263.63715371,\n",
       "       241050.62428977, 250317.35626783, 256749.39472186, 262814.51138724,\n",
       "       256442.46102986, 264869.17337596, 239700.12935319, 249580.1278053 ,\n",
       "       278428.59013825, 266919.93734156, 248973.00254303, 278423.60305337,\n",
       "       276637.04522039, 248099.87935961, 269676.99139114, 272580.36235644,\n",
       "       275099.60662232, 250856.5091521 , 248555.25858203, 267995.42195327,\n",
       "       291615.50442337, 264363.41701157, 267357.61909628, 257196.83347515,\n",
       "       240926.48269769, 287152.63350457, 226091.25738325, 284078.85320188,\n",
       "       279130.29058573, 253700.12440946, 266387.43640943, 279769.85734159,\n",
       "       257358.4045238 , 238847.32044155, 286072.09376451, 254169.3540792 ,\n",
       "       257682.35653651, 278241.93873881, 264823.47608816, 261512.78378467,\n",
       "       254877.29545652, 258324.87749086, 278021.10782682, 293287.63385648,\n",
       "       256113.07402521, 257980.95950628, 255546.36468194, 253438.5697308 ,\n",
       "       270836.38154559, 285960.50406235, 240514.35439518, 267317.81582571,\n",
       "       254999.72910516, 280795.35793219, 246551.35979162, 269344.84040801,\n",
       "       258977.56283111, 257109.72219372, 289324.31973111, 257763.02169341,\n",
       "       276181.00731764, 243388.16411418, 251281.25254527, 247816.86696249,\n",
       "       275035.52018954, 253442.19742743, 272948.11614941, 266267.14358127,\n",
       "       254141.94520341, 249953.5803298 , 265685.3068637 , 242126.91872136,\n",
       "       229308.06694065, 264658.2968095 , 257174.42430788, 290484.41270537,\n",
       "       272187.89110732, 250674.51146441, 261401.1401801 , 267818.8780615 ])"
      ]
     },
     "execution_count": 80,
     "metadata": {},
     "output_type": "execute_result"
    }
   ],
   "source": [
    "predictions = model.predict(X_test)\n",
    "predictions"
   ]
  },
  {
   "cell_type": "code",
   "execution_count": 81,
   "metadata": {},
   "outputs": [
    {
     "data": {
      "text/plain": [
       "<Axes: xlabel='Price'>"
      ]
     },
     "execution_count": 81,
     "metadata": {},
     "output_type": "execute_result"
    },
    {
     "data": {
      "image/png": "[encoded data removed]",
      "text/plain": [
       "<Figure size 640x480 with 1 Axes>"
      ]
     },
     "metadata": {},
     "output_type": "display_data"
    }
   ],
   "source": [
    "sns.regplot(x=y_test,y=predictions)"
   ]
  },
  {
   "cell_type": "code",
   "execution_count": 82,
   "metadata": {},
   "outputs": [
    {
     "name": "stdout",
     "output_type": "stream",
     "text": [
      "                            OLS Regression Results                            \n",
      "==============================================================================\n",
      "Dep. Variable:                  Price   R-squared:                       0.012\n",
      "Model:                            OLS   Adj. R-squared:                 -0.000\n",
      "Method:                 Least Squares   F-statistic:                    0.9936\n",
      "Date:                Sat, 08 Feb 2025   Prob (F-statistic):              0.485\n",
      "Time:                        08:45:51   Log-Likelihood:                -52967.\n",
      "No. Observations:                4000   AIC:                         1.060e+05\n",
      "Df Residuals:                    3952   BIC:                         1.063e+05\n",
      "Df Model:                          47                                         \n",
      "Covariance Type:            nonrobust                                         \n",
      "==========================================================================================\n",
      "                             coef    std err          t      P>|t|      [0.025      0.975]\n",
      "------------------------------------------------------------------------------------------\n",
      "const                   2.192e+05   1.02e+05      2.146      0.032    1.89e+04    4.19e+05\n",
      "Year                    -241.7496    171.705     -1.408      0.159    -578.389      94.890\n",
      "Number_of_Owners        -640.6110   1949.996     -0.329      0.743   -4463.705    3182.483\n",
      "Production_Units           0.0168      0.076      0.222      0.825      -0.132       0.165\n",
      "Insurance_Cost             0.5806      0.521      1.114      0.266      -0.442       1.603\n",
      "Fuel_Efficiency         1401.0331    753.758      1.859      0.063     -76.759    2878.825\n",
      "CO2_Emissions              0.2202     21.861      0.010      0.992     -42.639      43.080\n",
      "Engine_Size             -546.4114   1170.647     -0.467      0.641   -2841.541    1748.718\n",
      "Horsepower                -2.1144      5.401     -0.391      0.695     -12.703       8.474\n",
      "Torque                     2.1689      4.664      0.465      0.642      -6.976      11.314\n",
      "Weight                    -4.5690      4.664     -0.980      0.327     -13.712       4.574\n",
      "Top_Speed                 36.6716     30.289      1.211      0.226     -22.712      96.056\n",
      "Acceleration_0_100     -1398.9547   1507.829     -0.928      0.354   -4355.150    1557.241\n",
      "Modification           -1129.6367   4450.595     -0.254      0.800   -9855.316    7596.042\n",
      "Brand_Aston Martin      1.367e+04   1.22e+04      1.124      0.261   -1.02e+04    3.75e+04\n",
      "Brand_BMW               3.134e+04    1.2e+04      2.605      0.009    7754.276    5.49e+04\n",
      "Brand_Bugatti           2.628e+04   1.21e+04      2.171      0.030    2546.901       5e+04\n",
      "Brand_Chevrolet         2.692e+04   1.23e+04      2.195      0.028    2876.517     5.1e+04\n",
      "Brand_Ferrari           1.588e+04    1.2e+04      1.326      0.185   -7593.406    3.94e+04\n",
      "Brand_Ford              1.387e+04   1.21e+04      1.145      0.252   -9868.944    3.76e+04\n",
      "Brand_Lamborghini       2.225e+04   1.22e+04      1.827      0.068   -1620.372    4.61e+04\n",
      "Brand_McLaren           3.228e+04   1.21e+04      2.660      0.008    8483.832    5.61e+04\n",
      "Brand_Nissan            1.977e+04   1.22e+04      1.615      0.106   -4229.260    4.38e+04\n",
      "Brand_Porsche           1.692e+04   1.22e+04      1.392      0.164   -6915.644    4.08e+04\n",
      "Popularity_High         7.542e+04   3.42e+04      2.204      0.028    8342.577    1.43e+05\n",
      "Popularity_Low          7.189e+04   3.42e+04      2.102      0.036    4831.447    1.39e+05\n",
      "Popularity_Medium       7.187e+04   3.43e+04      2.094      0.036    4591.905    1.39e+05\n",
      "Country_Asia            6.846e+04   3.41e+04      2.008      0.045    1609.110    1.35e+05\n",
      "Country_Europe          7.637e+04   3.42e+04      2.230      0.026    9229.175    1.44e+05\n",
      "Country_USA             7.435e+04   3.42e+04      2.172      0.030    7237.552    1.41e+05\n",
      "Condition_new           4.836e+04   2.65e+04      1.824      0.068   -3610.875       1e+05\n",
      "Condition_restored      6.672e+04   2.63e+04      2.540      0.011    1.52e+04    1.18e+05\n",
      "Condition_salvage       4.736e+04   2.67e+04      1.771      0.077   -5079.661    9.98e+04\n",
      "Condition_used          5.675e+04   2.68e+04      2.120      0.034    4267.016    1.09e+05\n",
      "Market_Demand_High      6.787e+04   3.42e+04      1.987      0.047     910.771    1.35e+05\n",
      "Market_Demand_Low       7.435e+04   3.42e+04      2.173      0.030    7273.909    1.41e+05\n",
      "Market_Demand_Medium    7.697e+04   3.42e+04      2.250      0.025    9894.195    1.44e+05\n",
      "Fuel_Type_Diesel         7.25e+04   3.42e+04      2.122      0.034    5503.241    1.39e+05\n",
      "Fuel_Type_Electric      7.647e+04   3.42e+04      2.236      0.025    9414.819    1.44e+05\n",
      "Fuel_Type_Petrol        7.022e+04   3.42e+04      2.053      0.040    3160.207    1.37e+05\n",
      "Transmission_Automatic  4.879e+04   2.59e+04      1.887      0.059   -1913.819    9.95e+04\n",
      "Transmission_CVT        5.347e+04   2.58e+04      2.071      0.038    2845.888    1.04e+05\n",
      "Transmission_DCT        5.976e+04   2.59e+04      2.311      0.021    9052.566     1.1e+05\n",
      "Transmission_Manual     5.717e+04   2.57e+04      2.222      0.026    6732.119    1.08e+05\n",
      "Drivetrain_AWD          7.106e+04   3.42e+04      2.080      0.038    4074.718    1.38e+05\n",
      "Drivetrain_FWD          7.843e+04   3.42e+04      2.292      0.022    1.13e+04    1.46e+05\n",
      "Drivetrain_RWD           6.97e+04   3.42e+04      2.038      0.042    2656.894    1.37e+05\n",
      "Model_488 GTB           1.895e+04   1.22e+04      1.556      0.120   -4923.205    4.28e+04\n",
      "Model_720S              3.463e+04   1.22e+04      2.839      0.005    1.07e+04    5.85e+04\n",
      "Model_911 Turbo S       1.191e+04   1.21e+04      0.980      0.327   -1.19e+04    3.57e+04\n",
      "Model_Chiron            1.376e+04    1.2e+04      1.142      0.253   -9858.172    3.74e+04\n",
      "Model_Corvette Z06      2.762e+04   1.24e+04      2.222      0.026    3249.221     5.2e+04\n",
      "Model_DBS               2.441e+04   1.21e+04      2.012      0.044     624.581    4.82e+04\n",
      "Model_GT-R              1.812e+04    1.2e+04      1.512      0.131   -5379.858    4.16e+04\n",
      "Model_Huracan           1.943e+04   1.19e+04      1.628      0.104   -3973.898    4.28e+04\n",
      "Model_M4 Competition    2.783e+04   1.21e+04      2.303      0.021    4140.519    5.15e+04\n",
      "Model_Mustang GT        2.252e+04   1.22e+04      1.846      0.065   -1400.468    4.64e+04\n",
      "==============================================================================\n",
      "Omnibus:                     2286.081   Durbin-Watson:                   1.983\n",
      "Prob(Omnibus):                  0.000   Jarque-Bera (JB):              221.615\n",
      "Skew:                          -0.028   Prob(JB):                     7.53e-49\n",
      "Kurtosis:                       1.848   Cond. No.                     3.31e+19\n",
      "==============================================================================\n",
      "\n",
      "Notes:\n",
      "[1] Standard Errors assume that the covariance matrix of the errors is correctly specified.\n",
      "[2] The smallest eigenvalue is 7.55e-27. This might indicate that there are\n",
      "strong multicollinearity problems or that the design matrix is singular.\n"
     ]
    }
   ],
   "source": [
    "X_train_Sm= sm.add_constant(X_train)\n",
    "X_train_Sm= sm.add_constant(X_train)\n",
    "ls=sm.OLS(y_train,X_train_Sm).fit()\n",
    "print(ls.summary())"
   ]
  }
 ],
 "metadata": {
  "kernelspec": {
   "display_name": ".env_dt",
   "language": "python",
   "name": "python3"
  },
  "language_info": {
   "codemirror_mode": {
    "name": "ipython",
    "version": 3
   },
   "file_extension": ".py",
   "mimetype": "text/x-python",
   "name": "python",
   "nbconvert_exporter": "python",
   "pygments_lexer": "ipython3",
   "version": "3.9.6"
  }
 },
 "nbformat": 4,
 "nbformat_minor": 2
}
